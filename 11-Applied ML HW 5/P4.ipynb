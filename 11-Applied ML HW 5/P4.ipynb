{
 "cells": [
  {
   "cell_type": "code",
   "execution_count": 10,
   "metadata": {},
   "outputs": [],
   "source": [
    "from sklearn.datasets import load_digits\n",
    "import matplotlib.pyplot as plt\n",
    "from sklearn.preprocessing import StandardScaler\n",
    "from sklearn.cluster import KMeans, AgglomerativeClustering\n",
    "import numpy as np\n",
    "from sklearn.metrics import adjusted_rand_score, silhouette_score"
   ]
  },
  {
   "cell_type": "code",
   "execution_count": 2,
   "metadata": {},
   "outputs": [
    {
     "data": {
      "image/png": "[encoded data removed]",
      "text/plain": [
       "<Figure size 1000x500 with 10 Axes>"
      ]
     },
     "metadata": {},
     "output_type": "display_data"
    },
    {
     "data": {
      "text/plain": [
       "{'Data shape': (1797, 64),\n",
       " 'Target shape': (1797,),\n",
       " 'Images shape': (1797, 8, 8),\n",
       " 'Number of unique targets': 10}"
      ]
     },
     "execution_count": 2,
     "metadata": {},
     "output_type": "execute_result"
    }
   ],
   "source": [
    "# Load the digits dataset\n",
    "digits = load_digits()\n",
    "\n",
    "# Explore the structure of the dataset\n",
    "data_info = {\n",
    "    \"Data shape\": digits.data.shape,\n",
    "    \"Target shape\": digits.target.shape,\n",
    "    \"Images shape\": digits.images.shape,\n",
    "    \"Number of unique targets\": len(set(digits.target))\n",
    "}\n",
    "\n",
    "# Plot at least one image for each digit\n",
    "fig, axes = plt.subplots(2, 5, figsize=(10, 5))\n",
    "axes = axes.ravel()\n",
    "\n",
    "for i in range(10):\n",
    "    index = list(digits.target).index(i)\n",
    "    axes[i].imshow(digits.images[index], cmap='gray')\n",
    "    axes[i].set_title(f'Digit: {i}')\n",
    "    axes[i].axis('off')\n",
    "\n",
    "plt.tight_layout()\n",
    "plt.show()\n",
    "\n",
    "data_info"
   ]
  },
  {
   "cell_type": "markdown",
   "metadata": {},
   "source": [
    "## Preprocessing"
   ]
  },
  {
   "cell_type": "code",
   "execution_count": 4,
   "metadata": {},
   "outputs": [
    {
     "data": {
      "text/plain": [
       "{'Original data min value': 0.0,\n",
       " 'Original data max value': 16.0,\n",
       " 'Scaled data min value': -3.0125999462748765,\n",
       " 'Scaled data max value': 42.379240200834595}"
      ]
     },
     "execution_count": 4,
     "metadata": {},
     "output_type": "execute_result"
    }
   ],
   "source": [
    "# Check the current range of data values\n",
    "data_min, data_max = digits.data.min(), digits.data.max()\n",
    "\n",
    "# Standardize the dataset\n",
    "scaler = StandardScaler()\n",
    "scaled_data = scaler.fit_transform(digits.data)\n",
    "\n",
    "# Check the range of the scaled data\n",
    "scaled_data_min, scaled_data_max = scaled_data.min(), scaled_data.max()\n",
    "\n",
    "preprocessing_info = {\n",
    "    \"Original data min value\": data_min,\n",
    "    \"Original data max value\": data_max,\n",
    "    \"Scaled data min value\": scaled_data_min,\n",
    "    \"Scaled data max value\": scaled_data_max\n",
    "}\n",
    "\n",
    "preprocessing_info\n"
   ]
  },
  {
   "cell_type": "markdown",
   "metadata": {},
   "source": [
    "## K-means clustering"
   ]
  },
  {
   "cell_type": "code",
   "execution_count": 6,
   "metadata": {},
   "outputs": [
    {
     "data": {
      "text/html": [
       "<div>\n",
       "<style scoped>\n",
       "    .dataframe tbody tr th:only-of-type {\n",
       "        vertical-align: middle;\n",
       "    }\n",
       "\n",
       "    .dataframe tbody tr th {\n",
       "        vertical-align: top;\n",
       "    }\n",
       "\n",
       "    .dataframe thead th {\n",
       "        text-align: right;\n",
       "    }\n",
       "</style>\n",
       "<table border=\"1\" class=\"dataframe\">\n",
       "  <thead>\n",
       "    <tr style=\"text-align: right;\">\n",
       "      <th></th>\n",
       "      <th>Digit</th>\n",
       "      <th>Cluster</th>\n",
       "    </tr>\n",
       "  </thead>\n",
       "  <tbody>\n",
       "    <tr>\n",
       "      <th>0</th>\n",
       "      <td>0</td>\n",
       "      <td>5</td>\n",
       "    </tr>\n",
       "    <tr>\n",
       "      <th>1</th>\n",
       "      <td>1</td>\n",
       "      <td>9</td>\n",
       "    </tr>\n",
       "    <tr>\n",
       "      <th>2</th>\n",
       "      <td>2</td>\n",
       "      <td>9</td>\n",
       "    </tr>\n",
       "    <tr>\n",
       "      <th>3</th>\n",
       "      <td>3</td>\n",
       "      <td>7</td>\n",
       "    </tr>\n",
       "    <tr>\n",
       "      <th>4</th>\n",
       "      <td>4</td>\n",
       "      <td>2</td>\n",
       "    </tr>\n",
       "    <tr>\n",
       "      <th>5</th>\n",
       "      <td>5</td>\n",
       "      <td>7</td>\n",
       "    </tr>\n",
       "    <tr>\n",
       "      <th>6</th>\n",
       "      <td>6</td>\n",
       "      <td>4</td>\n",
       "    </tr>\n",
       "    <tr>\n",
       "      <th>7</th>\n",
       "      <td>7</td>\n",
       "      <td>3</td>\n",
       "    </tr>\n",
       "    <tr>\n",
       "      <th>8</th>\n",
       "      <td>8</td>\n",
       "      <td>9</td>\n",
       "    </tr>\n",
       "    <tr>\n",
       "      <th>9</th>\n",
       "      <td>9</td>\n",
       "      <td>7</td>\n",
       "    </tr>\n",
       "    <tr>\n",
       "      <th>10</th>\n",
       "      <td>0</td>\n",
       "      <td>5</td>\n",
       "    </tr>\n",
       "    <tr>\n",
       "      <th>11</th>\n",
       "      <td>1</td>\n",
       "      <td>2</td>\n",
       "    </tr>\n",
       "    <tr>\n",
       "      <th>12</th>\n",
       "      <td>2</td>\n",
       "      <td>6</td>\n",
       "    </tr>\n",
       "    <tr>\n",
       "      <th>13</th>\n",
       "      <td>3</td>\n",
       "      <td>7</td>\n",
       "    </tr>\n",
       "    <tr>\n",
       "      <th>14</th>\n",
       "      <td>4</td>\n",
       "      <td>2</td>\n",
       "    </tr>\n",
       "    <tr>\n",
       "      <th>15</th>\n",
       "      <td>5</td>\n",
       "      <td>1</td>\n",
       "    </tr>\n",
       "    <tr>\n",
       "      <th>16</th>\n",
       "      <td>6</td>\n",
       "      <td>4</td>\n",
       "    </tr>\n",
       "    <tr>\n",
       "      <th>17</th>\n",
       "      <td>7</td>\n",
       "      <td>3</td>\n",
       "    </tr>\n",
       "    <tr>\n",
       "      <th>18</th>\n",
       "      <td>8</td>\n",
       "      <td>9</td>\n",
       "    </tr>\n",
       "    <tr>\n",
       "      <th>19</th>\n",
       "      <td>9</td>\n",
       "      <td>7</td>\n",
       "    </tr>\n",
       "  </tbody>\n",
       "</table>\n",
       "</div>"
      ],
      "text/plain": [
       "    Digit  Cluster\n",
       "0       0        5\n",
       "1       1        9\n",
       "2       2        9\n",
       "3       3        7\n",
       "4       4        2\n",
       "5       5        7\n",
       "6       6        4\n",
       "7       7        3\n",
       "8       8        9\n",
       "9       9        7\n",
       "10      0        5\n",
       "11      1        2\n",
       "12      2        6\n",
       "13      3        7\n",
       "14      4        2\n",
       "15      5        1\n",
       "16      6        4\n",
       "17      7        3\n",
       "18      8        9\n",
       "19      9        7"
      ]
     },
     "execution_count": 6,
     "metadata": {},
     "output_type": "execute_result"
    }
   ],
   "source": [
    "# Apply KMeans algorithm to create clusters\n",
    "kmeans = KMeans(n_clusters=10, random_state=42)\n",
    "clusters = kmeans.fit_predict(scaled_data)\n",
    "\n",
    "# Create a DataFrame to show the cluster assignments for each digit\n",
    "import pandas as pd\n",
    "\n",
    "cluster_results = pd.DataFrame({'Digit': digits.target, 'Cluster': clusters})\n",
    "\n",
    "# Display the cluster assignments\n",
    "cluster_results.head(20)\n"
   ]
  },
  {
   "cell_type": "markdown",
   "metadata": {},
   "source": [
    "## AGNES clustering"
   ]
  },
  {
   "cell_type": "code",
   "execution_count": 8,
   "metadata": {},
   "outputs": [
    {
     "data": {
      "text/html": [
       "<div>\n",
       "<style scoped>\n",
       "    .dataframe tbody tr th:only-of-type {\n",
       "        vertical-align: middle;\n",
       "    }\n",
       "\n",
       "    .dataframe tbody tr th {\n",
       "        vertical-align: top;\n",
       "    }\n",
       "\n",
       "    .dataframe thead th {\n",
       "        text-align: right;\n",
       "    }\n",
       "</style>\n",
       "<table border=\"1\" class=\"dataframe\">\n",
       "  <thead>\n",
       "    <tr style=\"text-align: right;\">\n",
       "      <th></th>\n",
       "      <th>Digit</th>\n",
       "      <th>Cluster</th>\n",
       "    </tr>\n",
       "  </thead>\n",
       "  <tbody>\n",
       "    <tr>\n",
       "      <th>0</th>\n",
       "      <td>0</td>\n",
       "      <td>5</td>\n",
       "    </tr>\n",
       "    <tr>\n",
       "      <th>1</th>\n",
       "      <td>1</td>\n",
       "      <td>1</td>\n",
       "    </tr>\n",
       "    <tr>\n",
       "      <th>2</th>\n",
       "      <td>2</td>\n",
       "      <td>1</td>\n",
       "    </tr>\n",
       "    <tr>\n",
       "      <th>3</th>\n",
       "      <td>3</td>\n",
       "      <td>4</td>\n",
       "    </tr>\n",
       "    <tr>\n",
       "      <th>4</th>\n",
       "      <td>4</td>\n",
       "      <td>8</td>\n",
       "    </tr>\n",
       "    <tr>\n",
       "      <th>5</th>\n",
       "      <td>5</td>\n",
       "      <td>4</td>\n",
       "    </tr>\n",
       "    <tr>\n",
       "      <th>6</th>\n",
       "      <td>6</td>\n",
       "      <td>6</td>\n",
       "    </tr>\n",
       "    <tr>\n",
       "      <th>7</th>\n",
       "      <td>7</td>\n",
       "      <td>9</td>\n",
       "    </tr>\n",
       "    <tr>\n",
       "      <th>8</th>\n",
       "      <td>8</td>\n",
       "      <td>1</td>\n",
       "    </tr>\n",
       "    <tr>\n",
       "      <th>9</th>\n",
       "      <td>9</td>\n",
       "      <td>4</td>\n",
       "    </tr>\n",
       "    <tr>\n",
       "      <th>10</th>\n",
       "      <td>0</td>\n",
       "      <td>5</td>\n",
       "    </tr>\n",
       "    <tr>\n",
       "      <th>11</th>\n",
       "      <td>1</td>\n",
       "      <td>1</td>\n",
       "    </tr>\n",
       "    <tr>\n",
       "      <th>12</th>\n",
       "      <td>2</td>\n",
       "      <td>3</td>\n",
       "    </tr>\n",
       "    <tr>\n",
       "      <th>13</th>\n",
       "      <td>3</td>\n",
       "      <td>4</td>\n",
       "    </tr>\n",
       "    <tr>\n",
       "      <th>14</th>\n",
       "      <td>4</td>\n",
       "      <td>8</td>\n",
       "    </tr>\n",
       "    <tr>\n",
       "      <th>15</th>\n",
       "      <td>5</td>\n",
       "      <td>0</td>\n",
       "    </tr>\n",
       "    <tr>\n",
       "      <th>16</th>\n",
       "      <td>6</td>\n",
       "      <td>6</td>\n",
       "    </tr>\n",
       "    <tr>\n",
       "      <th>17</th>\n",
       "      <td>7</td>\n",
       "      <td>9</td>\n",
       "    </tr>\n",
       "    <tr>\n",
       "      <th>18</th>\n",
       "      <td>8</td>\n",
       "      <td>1</td>\n",
       "    </tr>\n",
       "    <tr>\n",
       "      <th>19</th>\n",
       "      <td>9</td>\n",
       "      <td>4</td>\n",
       "    </tr>\n",
       "  </tbody>\n",
       "</table>\n",
       "</div>"
      ],
      "text/plain": [
       "    Digit  Cluster\n",
       "0       0        5\n",
       "1       1        1\n",
       "2       2        1\n",
       "3       3        4\n",
       "4       4        8\n",
       "5       5        4\n",
       "6       6        6\n",
       "7       7        9\n",
       "8       8        1\n",
       "9       9        4\n",
       "10      0        5\n",
       "11      1        1\n",
       "12      2        3\n",
       "13      3        4\n",
       "14      4        8\n",
       "15      5        0\n",
       "16      6        6\n",
       "17      7        9\n",
       "18      8        1\n",
       "19      9        4"
      ]
     },
     "execution_count": 8,
     "metadata": {},
     "output_type": "execute_result"
    }
   ],
   "source": [
    "\n",
    "\n",
    "# Apply Hierarchical Clustering algorithm to create clusters\n",
    "hierarchical = AgglomerativeClustering(n_clusters=10)\n",
    "hierarchical_clusters = hierarchical.fit_predict(scaled_data)\n",
    "\n",
    "# Create a DataFrame to show the cluster assignments for each digit\n",
    "hierarchical_cluster_results = pd.DataFrame({'Digit': digits.target, 'Cluster': hierarchical_clusters})\n",
    "\n",
    "# Display the cluster assignments\n",
    "hierarchical_cluster_results.head(20)\n"
   ]
  },
  {
   "cell_type": "markdown",
   "metadata": {},
   "source": [
    "## Model Evaluation"
   ]
  },
  {
   "cell_type": "code",
   "execution_count": 11,
   "metadata": {},
   "outputs": [
    {
     "data": {
      "text/plain": [
       "{'KMeans Adjusted Rand Index': 0.5305122615593327,\n",
       " 'KMeans Silhouette Score': 0.13558208876901615,\n",
       " 'Hierarchical Adjusted Rand Index': 0.6643458356002894,\n",
       " 'Hierarchical Silhouette Score': 0.12532527779196986}"
      ]
     },
     "execution_count": 11,
     "metadata": {},
     "output_type": "execute_result"
    }
   ],
   "source": [
    "# Evaluate the quality of the models\n",
    "kmeans_ari = adjusted_rand_score(digits.target, clusters)\n",
    "kmeans_silhouette = silhouette_score(scaled_data, clusters)\n",
    "\n",
    "hierarchical_ari = adjusted_rand_score(digits.target, hierarchical_clusters)\n",
    "hierarchical_silhouette = silhouette_score(scaled_data, hierarchical_clusters)\n",
    "\n",
    "evaluation_results = {\n",
    "    \"KMeans Adjusted Rand Index\": kmeans_ari,\n",
    "    \"KMeans Silhouette Score\": kmeans_silhouette,\n",
    "    \"Hierarchical Adjusted Rand Index\": hierarchical_ari,\n",
    "    \"Hierarchical Silhouette Score\": hierarchical_silhouette\n",
    "}\n",
    "\n",
    "evaluation_results"
   ]
  },
  {
   "cell_type": "markdown",
   "metadata": {},
   "source": [
    "## K-means assignment"
   ]
  },
  {
   "cell_type": "code",
   "execution_count": 12,
   "metadata": {},
   "outputs": [
    {
     "name": "stdout",
     "output_type": "stream",
     "text": [
      "KMeans Cluster Labels: {0: 7, 1: 5, 2: 4, 3: 7, 4: 6, 5: 0, 6: 2, 7: 3, 8: 4, 9: 8}\n"
     ]
    }
   ],
   "source": [
    "from collections import Counter\n",
    "\n",
    "# Find the majority label for each cluster in KMeans\n",
    "kmeans_labels = {}\n",
    "for cluster in range(10):\n",
    "    labels = digits.target[clusters == cluster]\n",
    "    majority_label = Counter(labels).most_common(1)[0][0]\n",
    "    kmeans_labels[cluster] = majority_label\n",
    "\n",
    "# Print the assigned labels for KMeans clusters\n",
    "print(\"KMeans Cluster Labels:\", kmeans_labels)\n"
   ]
  },
  {
   "cell_type": "markdown",
   "metadata": {},
   "source": [
    "## AGNES assignment"
   ]
  },
  {
   "cell_type": "code",
   "execution_count": 13,
   "metadata": {},
   "outputs": [
    {
     "name": "stdout",
     "output_type": "stream",
     "text": [
      "Hierarchical Cluster Labels: {0: 5, 1: 8, 2: 2, 3: 2, 4: 3, 5: 0, 6: 6, 7: 7, 8: 4, 9: 7}\n"
     ]
    }
   ],
   "source": [
    "# Find the majority label for each cluster in Hierarchical Clustering\n",
    "hierarchical_labels = {}\n",
    "for cluster in range(10):\n",
    "    labels = digits.target[hierarchical_clusters == cluster]\n",
    "    majority_label = Counter(labels).most_common(1)[0][0]\n",
    "    hierarchical_labels[cluster] = majority_label\n",
    "\n",
    "# Print the assigned labels for Hierarchical clusters\n",
    "print(\"Hierarchical Cluster Labels:\", hierarchical_labels)\n"
   ]
  }
 ],
 "metadata": {
  "kernelspec": {
   "display_name": "base",
   "language": "python",
   "name": "python3"
  },
  "language_info": {
   "codemirror_mode": {
    "name": "ipython",
    "version": 3
   },
   "file_extension": ".py",
   "mimetype": "text/x-python",
   "name": "python",
   "nbconvert_exporter": "python",
   "pygments_lexer": "ipython3",
   "version": "3.11.5"
  }
 },
 "nbformat": 4,
 "nbformat_minor": 2
}
