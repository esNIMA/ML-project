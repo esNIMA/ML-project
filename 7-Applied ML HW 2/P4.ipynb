{
 "cells": [
  {
   "cell_type": "code",
   "execution_count": 8,
   "metadata": {},
   "outputs": [],
   "source": [
    "import cv2\n",
    "import numpy as np\n",
    "import os\n",
    "import random\n",
    "from glob import glob\n",
    "from sklearn.utils import shuffle\n",
    "from sklearn.model_selection import train_test_split\n",
    "from sklearn.neighbors import KNeighborsClassifier\n",
    "from sklearn.metrics import classification_report, accuracy_score , make_scorer, precision_score, recall_score, f1_score\n",
    "from sklearn.model_selection import cross_val_score, cross_validate"
   ]
  },
  {
   "cell_type": "markdown",
   "metadata": {},
   "source": [
    "## Define Functions for Loading and Processing Images"
   ]
  },
  {
   "cell_type": "code",
   "execution_count": 2,
   "metadata": {},
   "outputs": [],
   "source": [
    "def load_and_process_images(directory, label, count=1000, image_size=(64, 64)):\n",
    "    # Create a glob pattern to match all jpg images in the directory\n",
    "    glob_pattern = os.path.join(directory, f\"{label}.*.jpg\")\n",
    "    \n",
    "    # Get all matching file paths\n",
    "    all_files = glob(glob_pattern)\n",
    "    random.shuffle(all_files)  # Shuffle to randomize which files are selected\n",
    "    \n",
    "    # Select a subset of files (up to the specified count)\n",
    "    selected_files = all_files[:count]\n",
    "    \n",
    "    # Initialize lists to store image data and labels\n",
    "    images = []\n",
    "    labels = []\n",
    "    \n",
    "    # Process each selected file\n",
    "    for file_path in selected_files:\n",
    "        # Read an image with OpenCV\n",
    "        img = cv2.imread(file_path, cv2.IMREAD_COLOR)  # Read in color mode\n",
    "        if img is None:\n",
    "            print(f\"Image not loaded properly: {file_path}\")\n",
    "        else:\n",
    "            img_gray = cv2.cvtColor(img, cv2.COLOR_BGR2GRAY)  # Convert the image to grayscale\n",
    "            img_resized = cv2.resize(img_gray, image_size)  # Resize the image\n",
    "            img_normalized = img_resized / 255.0  # Normalize the pixel values\n",
    "            img_flattened = img_normalized.flatten()  # Flatten the image\n",
    "            images.append(img_flattened)\n",
    "            labels.append(1 if label == 'cat' else 0)  # Assuming 'cat' is 1, 'dog' is 0\n",
    "    \n",
    "    return np.array(images), np.array(labels)\n"
   ]
  },
  {
   "cell_type": "markdown",
   "metadata": {},
   "source": [
    "##  Specify the Image Directories and Load Images "
   ]
  },
  {
   "cell_type": "code",
   "execution_count": 12,
   "metadata": {},
   "outputs": [],
   "source": [
    "# Define the paths to the directories containing the images\n",
    "cat_images_path = './train'\n",
    "dog_images_path = './train'\n",
    "\n",
    "# Load and process the images\n",
    "cats, cat_labels = load_and_process_images(cat_images_path, 'cat', count=10000)\n",
    "dogs, dog_labels = load_and_process_images(dog_images_path, 'dog', count=10000)\n",
    "\n",
    "# Combine the datasets\n",
    "X = np.concatenate((cats, dogs), axis=0)\n",
    "y = np.concatenate((cat_labels, dog_labels), axis=0)\n"
   ]
  },
  {
   "cell_type": "code",
   "execution_count": 13,
   "metadata": {},
   "outputs": [],
   "source": [
    "# Assuming X and y are your image data and labels respectively\n",
    "X_train, X_test, y_train, y_test = train_test_split(X, y, test_size=0.20, random_state=42, shuffle=True)\n"
   ]
  },
  {
   "cell_type": "markdown",
   "metadata": {},
   "source": [
    "## Training the KNN with k=5"
   ]
  },
  {
   "cell_type": "code",
   "execution_count": 14,
   "metadata": {},
   "outputs": [
    {
     "name": "stdout",
     "output_type": "stream",
     "text": [
      "KNN model trained successfully.\n"
     ]
    }
   ],
   "source": [
    "knn = KNeighborsClassifier(n_neighbors=5)\n",
    "knn.fit(X_train, y_train)\n",
    "y_pred = knn.predict(X_test)"
   ]
  },
  {
   "cell_type": "code",
   "execution_count": 16,
   "metadata": {},
   "outputs": [
    {
     "name": "stdout",
     "output_type": "stream",
     "text": [
      "Accuracy: 0.55525\n",
      "Classification Report:\n",
      "               precision    recall  f1-score   support\n",
      "\n",
      "         Cat       0.58      0.38      0.46      1981\n",
      "         Dog       0.54      0.72      0.62      2019\n",
      "\n",
      "    accuracy                           0.56      4000\n",
      "   macro avg       0.56      0.55      0.54      4000\n",
      "weighted avg       0.56      0.56      0.54      4000\n",
      "\n"
     ]
    }
   ],
   "source": [
    "# Compute the accuracy\n",
    "accuracy = accuracy_score(y_test, y_pred)\n",
    "\n",
    "# Generate a classification report\n",
    "report = classification_report(y_test, y_pred, target_names=['Cat', 'Dog'])\n",
    "\n",
    "print(\"Accuracy:\", accuracy)\n",
    "print(\"Classification Report:\\n\", report)\n"
   ]
  },
  {
   "cell_type": "markdown",
   "metadata": {},
   "source": [
    "## Cross Validation"
   ]
  },
  {
   "cell_type": "code",
   "execution_count": 17,
   "metadata": {},
   "outputs": [],
   "source": [
    "knn = KNeighborsClassifier(n_neighbors=5)"
   ]
  },
  {
   "cell_type": "code",
   "execution_count": 18,
   "metadata": {},
   "outputs": [],
   "source": [
    "scoring = {\n",
    "    'accuracy': 'accuracy',\n",
    "    'precision': make_scorer(precision_score, average='macro'),\n",
    "    'recall': make_scorer(recall_score, average='macro'),\n",
    "    'f1': make_scorer(f1_score, average='macro')\n",
    "}\n"
   ]
  },
  {
   "cell_type": "code",
   "execution_count": 19,
   "metadata": {},
   "outputs": [],
   "source": [
    "results = cross_validate(knn, X, y, cv=10, scoring=scoring)"
   ]
  },
  {
   "cell_type": "code",
   "execution_count": 20,
   "metadata": {},
   "outputs": [
    {
     "name": "stdout",
     "output_type": "stream",
     "text": [
      "Average Accuracy: 0.56 (+/- 0.02)\n",
      "Average Precision: 0.57 (+/- 0.02)\n",
      "Average Recall: 0.56 (+/- 0.02)\n",
      "Average F1-score: 0.54 (+/- 0.02)\n"
     ]
    }
   ],
   "source": [
    "print(\"Average Accuracy: %0.2f (+/- %0.2f)\" % (results['test_accuracy'].mean(), results['test_accuracy'].std() * 2))\n",
    "print(\"Average Precision: %0.2f (+/- %0.2f)\" % (results['test_precision'].mean(), results['test_precision'].std() * 2))\n",
    "print(\"Average Recall: %0.2f (+/- %0.2f)\" % (results['test_recall'].mean(), results['test_recall'].std() * 2))\n",
    "print(\"Average F1-score: %0.2f (+/- %0.2f)\" % (results['test_f1'].mean(), results['test_f1'].std() * 2))"
   ]
  }
 ],
 "metadata": {
  "kernelspec": {
   "display_name": "Python 3",
   "language": "python",
   "name": "python3"
  },
  "language_info": {
   "codemirror_mode": {
    "name": "ipython",
    "version": 3
   },
   "file_extension": ".py",
   "mimetype": "text/x-python",
   "name": "python",
   "nbconvert_exporter": "python",
   "pygments_lexer": "ipython3",
   "version": "3.11.5"
  }
 },
 "nbformat": 4,
 "nbformat_minor": 2
}
