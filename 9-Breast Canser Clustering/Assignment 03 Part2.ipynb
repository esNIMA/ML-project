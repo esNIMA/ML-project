{
 "cells": [
  {
   "cell_type": "markdown",
   "metadata": {
    "id": "463e7154-ac23-4712-84d3-95fea07a70cd",
    "tags": []
   },
   "source": [
    "# Importing Libraries"
   ]
  },
  {
   "cell_type": "code",
   "execution_count": 1,
   "metadata": {
    "executionInfo": {
     "elapsed": 3,
     "status": "ok",
     "timestamp": 1716120336030,
     "user": {
      "displayName": "Mohsen Faragheh",
      "userId": "01984594394838132736"
     },
     "user_tz": -210
    },
    "id": "799775ab-f0ac-4966-bbb6-a6deb0372a62",
    "tags": []
   },
   "outputs": [],
   "source": [
    "import math\n",
    "import numpy as np\n",
    "import pandas as pd\n",
    "import matplotlib.pyplot as plt\n",
    "import seaborn as sns\n",
    "from sklearn.neural_network import MLPClassifier\n",
    "\n",
    "from sklearn.model_selection import train_test_split, GridSearchCV\n",
    "\n",
    "from imblearn.over_sampling import SMOTE\n",
    "from imblearn.under_sampling import NearMiss\n",
    "\n",
    "from sklearn.neighbors import KNeighborsClassifier\n",
    "from sklearn import metrics\n",
    "from sklearn.metrics import confusion_matrix,recall_score,precision_score,f1_score,classification_report,accuracy_score, roc_auc_score, roc_curve\n",
    "from sklearn.model_selection import cross_val_score\n",
    "from sklearn.model_selection import cross_val_score, KFold, StratifiedKFold\n",
    "\n",
    "import warnings\n",
    "warnings.filterwarnings(\"ignore\")"
   ]
  },
  {
   "cell_type": "markdown",
   "metadata": {
    "id": "7d0a376d-5a50-4874-bba7-926dd1f80c78"
   },
   "source": [
    "# Importing The Dataset(Processed data)"
   ]
  },
  {
   "cell_type": "code",
   "execution_count": 2,
   "metadata": {
    "colab": {
     "base_uri": "https://localhost:8080/"
    },
    "executionInfo": {
     "elapsed": 4977,
     "status": "ok",
     "timestamp": 1716120585742,
     "user": {
      "displayName": "Mohsen Faragheh",
      "userId": "01984594394838132736"
     },
     "user_tz": -210
    },
    "id": "312c1138-88c0-46a2-a5a3-0a996544d4f4",
    "outputId": "befd94ce-41bf-477a-c9cd-622044cf7bb1"
   },
   "outputs": [],
   "source": [
    "df = pd.read_csv('data.csv')"
   ]
  },
  {
   "cell_type": "code",
   "execution_count": 3,
   "metadata": {
    "colab": {
     "base_uri": "https://localhost:8080/",
     "height": 461
    },
    "executionInfo": {
     "elapsed": 10,
     "status": "ok",
     "timestamp": 1716120587881,
     "user": {
      "displayName": "Mohsen Faragheh",
      "userId": "01984594394838132736"
     },
     "user_tz": -210
    },
    "id": "3dd7f94c-92a9-462c-875f-94eaccf5a93a",
    "outputId": "b829d19c-81e7-4a2b-c61e-20a74122c30f"
   },
   "outputs": [
    {
     "data": {
      "text/html": [
       "<div>\n",
       "<style scoped>\n",
       "    .dataframe tbody tr th:only-of-type {\n",
       "        vertical-align: middle;\n",
       "    }\n",
       "\n",
       "    .dataframe tbody tr th {\n",
       "        vertical-align: top;\n",
       "    }\n",
       "\n",
       "    .dataframe thead th {\n",
       "        text-align: right;\n",
       "    }\n",
       "</style>\n",
       "<table border=\"1\" class=\"dataframe\">\n",
       "  <thead>\n",
       "    <tr style=\"text-align: right;\">\n",
       "      <th></th>\n",
       "      <th>Unnamed: 0</th>\n",
       "      <th>area1</th>\n",
       "      <th>concavity1</th>\n",
       "      <th>concave_points1</th>\n",
       "      <th>fractal_dimension1</th>\n",
       "      <th>texture2</th>\n",
       "      <th>perimeter2</th>\n",
       "      <th>compactness2</th>\n",
       "      <th>symmetry2</th>\n",
       "      <th>fractal_dimension2</th>\n",
       "      <th>texture3</th>\n",
       "      <th>perimeter3</th>\n",
       "      <th>compactness3</th>\n",
       "      <th>concavity3</th>\n",
       "      <th>concave_points3</th>\n",
       "      <th>fractal_dimension3</th>\n",
       "      <th>Diagnosis</th>\n",
       "    </tr>\n",
       "  </thead>\n",
       "  <tbody>\n",
       "    <tr>\n",
       "      <th>0</th>\n",
       "      <td>0</td>\n",
       "      <td>0.548034</td>\n",
       "      <td>0.937384</td>\n",
       "      <td>0.906961</td>\n",
       "      <td>0.880551</td>\n",
       "      <td>0.236609</td>\n",
       "      <td>0.965721</td>\n",
       "      <td>0.630753</td>\n",
       "      <td>0.641079</td>\n",
       "      <td>0.486734</td>\n",
       "      <td>0.172571</td>\n",
       "      <td>0.854245</td>\n",
       "      <td>0.935673</td>\n",
       "      <td>0.838263</td>\n",
       "      <td>0.909293</td>\n",
       "      <td>0.784907</td>\n",
       "      <td>1.0</td>\n",
       "    </tr>\n",
       "    <tr>\n",
       "      <th>1</th>\n",
       "      <td>1</td>\n",
       "      <td>0.762470</td>\n",
       "      <td>0.269899</td>\n",
       "      <td>0.426593</td>\n",
       "      <td>0.205513</td>\n",
       "      <td>0.162210</td>\n",
       "      <td>0.325647</td>\n",
       "      <td>0.145973</td>\n",
       "      <td>0.173903</td>\n",
       "      <td>0.242274</td>\n",
       "      <td>0.370166</td>\n",
       "      <td>0.684853</td>\n",
       "      <td>0.225707</td>\n",
       "      <td>0.283045</td>\n",
       "      <td>0.627960</td>\n",
       "      <td>0.417650</td>\n",
       "      <td>1.0</td>\n",
       "    </tr>\n",
       "    <tr>\n",
       "      <th>2</th>\n",
       "      <td>2</td>\n",
       "      <td>0.681314</td>\n",
       "      <td>0.615852</td>\n",
       "      <td>0.787072</td>\n",
       "      <td>0.307198</td>\n",
       "      <td>0.185216</td>\n",
       "      <td>0.472010</td>\n",
       "      <td>0.509693</td>\n",
       "      <td>0.423121</td>\n",
       "      <td>0.337725</td>\n",
       "      <td>0.439064</td>\n",
       "      <td>0.643490</td>\n",
       "      <td>0.578319</td>\n",
       "      <td>0.529546</td>\n",
       "      <td>0.829925</td>\n",
       "      <td>0.399951</td>\n",
       "      <td>1.0</td>\n",
       "    </tr>\n",
       "    <tr>\n",
       "      <th>3</th>\n",
       "      <td>3</td>\n",
       "      <td>0.142320</td>\n",
       "      <td>0.753607</td>\n",
       "      <td>0.645328</td>\n",
       "      <td>0.391622</td>\n",
       "      <td>0.345429</td>\n",
       "      <td>0.331443</td>\n",
       "      <td>0.975060</td>\n",
       "      <td>0.359837</td>\n",
       "      <td>0.763716</td>\n",
       "      <td>0.470588</td>\n",
       "      <td>0.291379</td>\n",
       "      <td>0.332234</td>\n",
       "      <td>0.808749</td>\n",
       "      <td>0.881302</td>\n",
       "      <td>0.357683</td>\n",
       "      <td>1.0</td>\n",
       "    </tr>\n",
       "    <tr>\n",
       "      <th>4</th>\n",
       "      <td>4</td>\n",
       "      <td>0.743336</td>\n",
       "      <td>0.617730</td>\n",
       "      <td>0.639708</td>\n",
       "      <td>0.271669</td>\n",
       "      <td>0.182785</td>\n",
       "      <td>0.577189</td>\n",
       "      <td>0.301410</td>\n",
       "      <td>0.280132</td>\n",
       "      <td>0.387701</td>\n",
       "      <td>0.151121</td>\n",
       "      <td>0.641521</td>\n",
       "      <td>0.252979</td>\n",
       "      <td>0.470046</td>\n",
       "      <td>0.544694</td>\n",
       "      <td>0.267207</td>\n",
       "      <td>1.0</td>\n",
       "    </tr>\n",
       "    <tr>\n",
       "      <th>...</th>\n",
       "      <td>...</td>\n",
       "      <td>...</td>\n",
       "      <td>...</td>\n",
       "      <td>...</td>\n",
       "      <td>...</td>\n",
       "      <td>...</td>\n",
       "      <td>...</td>\n",
       "      <td>...</td>\n",
       "      <td>...</td>\n",
       "      <td>...</td>\n",
       "      <td>...</td>\n",
       "      <td>...</td>\n",
       "      <td>...</td>\n",
       "      <td>...</td>\n",
       "      <td>...</td>\n",
       "      <td>...</td>\n",
       "      <td>...</td>\n",
       "    </tr>\n",
       "    <tr>\n",
       "      <th>551</th>\n",
       "      <td>551</td>\n",
       "      <td>0.776326</td>\n",
       "      <td>0.991547</td>\n",
       "      <td>0.908834</td>\n",
       "      <td>0.576723</td>\n",
       "      <td>0.289001</td>\n",
       "      <td>0.986560</td>\n",
       "      <td>0.550675</td>\n",
       "      <td>0.367257</td>\n",
       "      <td>0.488572</td>\n",
       "      <td>0.565161</td>\n",
       "      <td>0.818134</td>\n",
       "      <td>0.569574</td>\n",
       "      <td>0.776874</td>\n",
       "      <td>0.869609</td>\n",
       "      <td>0.536996</td>\n",
       "      <td>1.0</td>\n",
       "    </tr>\n",
       "    <tr>\n",
       "      <th>552</th>\n",
       "      <td>552</td>\n",
       "      <td>0.863420</td>\n",
       "      <td>0.761434</td>\n",
       "      <td>0.855758</td>\n",
       "      <td>0.192037</td>\n",
       "      <td>0.388836</td>\n",
       "      <td>0.852774</td>\n",
       "      <td>0.359379</td>\n",
       "      <td>0.094304</td>\n",
       "      <td>0.307224</td>\n",
       "      <td>0.467338</td>\n",
       "      <td>0.732782</td>\n",
       "      <td>0.262317</td>\n",
       "      <td>0.482678</td>\n",
       "      <td>0.754100</td>\n",
       "      <td>0.198009</td>\n",
       "      <td>1.0</td>\n",
       "    </tr>\n",
       "    <tr>\n",
       "      <th>553</th>\n",
       "      <td>553</td>\n",
       "      <td>0.719583</td>\n",
       "      <td>0.448668</td>\n",
       "      <td>0.599808</td>\n",
       "      <td>0.164472</td>\n",
       "      <td>0.912753</td>\n",
       "      <td>0.548212</td>\n",
       "      <td>0.296287</td>\n",
       "      <td>0.321234</td>\n",
       "      <td>0.147283</td>\n",
       "      <td>0.852454</td>\n",
       "      <td>0.659904</td>\n",
       "      <td>0.234007</td>\n",
       "      <td>0.377372</td>\n",
       "      <td>0.545757</td>\n",
       "      <td>0.139258</td>\n",
       "      <td>1.0</td>\n",
       "    </tr>\n",
       "    <tr>\n",
       "      <th>554</th>\n",
       "      <td>554</td>\n",
       "      <td>0.453748</td>\n",
       "      <td>0.287463</td>\n",
       "      <td>0.319504</td>\n",
       "      <td>0.199694</td>\n",
       "      <td>0.310270</td>\n",
       "      <td>0.328977</td>\n",
       "      <td>0.472620</td>\n",
       "      <td>0.153352</td>\n",
       "      <td>0.275346</td>\n",
       "      <td>0.718232</td>\n",
       "      <td>0.474099</td>\n",
       "      <td>0.407719</td>\n",
       "      <td>0.399567</td>\n",
       "      <td>0.471349</td>\n",
       "      <td>0.284661</td>\n",
       "      <td>1.0</td>\n",
       "    </tr>\n",
       "    <tr>\n",
       "      <th>555</th>\n",
       "      <td>555</td>\n",
       "      <td>0.722222</td>\n",
       "      <td>0.282346</td>\n",
       "      <td>0.937558</td>\n",
       "      <td>0.618683</td>\n",
       "      <td>0.535984</td>\n",
       "      <td>0.618372</td>\n",
       "      <td>0.799806</td>\n",
       "      <td>0.444541</td>\n",
       "      <td>0.485999</td>\n",
       "      <td>0.890478</td>\n",
       "      <td>0.854245</td>\n",
       "      <td>0.332234</td>\n",
       "      <td>0.326670</td>\n",
       "      <td>0.907876</td>\n",
       "      <td>0.847591</td>\n",
       "      <td>1.0</td>\n",
       "    </tr>\n",
       "  </tbody>\n",
       "</table>\n",
       "<p>556 rows × 17 columns</p>\n",
       "</div>"
      ],
      "text/plain": [
       "     Unnamed: 0     area1  concavity1  concave_points1  fractal_dimension1  \\\n",
       "0             0  0.548034    0.937384         0.906961            0.880551   \n",
       "1             1  0.762470    0.269899         0.426593            0.205513   \n",
       "2             2  0.681314    0.615852         0.787072            0.307198   \n",
       "3             3  0.142320    0.753607         0.645328            0.391622   \n",
       "4             4  0.743336    0.617730         0.639708            0.271669   \n",
       "..          ...       ...         ...              ...                 ...   \n",
       "551         551  0.776326    0.991547         0.908834            0.576723   \n",
       "552         552  0.863420    0.761434         0.855758            0.192037   \n",
       "553         553  0.719583    0.448668         0.599808            0.164472   \n",
       "554         554  0.453748    0.287463         0.319504            0.199694   \n",
       "555         555  0.722222    0.282346         0.937558            0.618683   \n",
       "\n",
       "     texture2  perimeter2  compactness2  symmetry2  fractal_dimension2  \\\n",
       "0    0.236609    0.965721      0.630753   0.641079            0.486734   \n",
       "1    0.162210    0.325647      0.145973   0.173903            0.242274   \n",
       "2    0.185216    0.472010      0.509693   0.423121            0.337725   \n",
       "3    0.345429    0.331443      0.975060   0.359837            0.763716   \n",
       "4    0.182785    0.577189      0.301410   0.280132            0.387701   \n",
       "..        ...         ...           ...        ...                 ...   \n",
       "551  0.289001    0.986560      0.550675   0.367257            0.488572   \n",
       "552  0.388836    0.852774      0.359379   0.094304            0.307224   \n",
       "553  0.912753    0.548212      0.296287   0.321234            0.147283   \n",
       "554  0.310270    0.328977      0.472620   0.153352            0.275346   \n",
       "555  0.535984    0.618372      0.799806   0.444541            0.485999   \n",
       "\n",
       "     texture3  perimeter3  compactness3  concavity3  concave_points3  \\\n",
       "0    0.172571    0.854245      0.935673    0.838263         0.909293   \n",
       "1    0.370166    0.684853      0.225707    0.283045         0.627960   \n",
       "2    0.439064    0.643490      0.578319    0.529546         0.829925   \n",
       "3    0.470588    0.291379      0.332234    0.808749         0.881302   \n",
       "4    0.151121    0.641521      0.252979    0.470046         0.544694   \n",
       "..        ...         ...           ...         ...              ...   \n",
       "551  0.565161    0.818134      0.569574    0.776874         0.869609   \n",
       "552  0.467338    0.732782      0.262317    0.482678         0.754100   \n",
       "553  0.852454    0.659904      0.234007    0.377372         0.545757   \n",
       "554  0.718232    0.474099      0.407719    0.399567         0.471349   \n",
       "555  0.890478    0.854245      0.332234    0.326670         0.907876   \n",
       "\n",
       "     fractal_dimension3  Diagnosis  \n",
       "0              0.784907        1.0  \n",
       "1              0.417650        1.0  \n",
       "2              0.399951        1.0  \n",
       "3              0.357683        1.0  \n",
       "4              0.267207        1.0  \n",
       "..                  ...        ...  \n",
       "551            0.536996        1.0  \n",
       "552            0.198009        1.0  \n",
       "553            0.139258        1.0  \n",
       "554            0.284661        1.0  \n",
       "555            0.847591        1.0  \n",
       "\n",
       "[556 rows x 17 columns]"
      ]
     },
     "execution_count": 3,
     "metadata": {},
     "output_type": "execute_result"
    }
   ],
   "source": [
    "df"
   ]
  },
  {
   "cell_type": "code",
   "execution_count": 4,
   "metadata": {
    "colab": {
     "base_uri": "https://localhost:8080/"
    },
    "id": "6e5a9a96-86c3-4aa4-9b96-36db01f2328a",
    "outputId": "49f7edfd-d113-4e61-c69c-aadc7823b299"
   },
   "outputs": [
    {
     "data": {
      "text/plain": [
       "(556, 17)"
      ]
     },
     "execution_count": 4,
     "metadata": {},
     "output_type": "execute_result"
    }
   ],
   "source": [
    "df.shape"
   ]
  },
  {
   "cell_type": "code",
   "execution_count": 5,
   "metadata": {
    "executionInfo": {
     "elapsed": 753,
     "status": "ok",
     "timestamp": 1716120636777,
     "user": {
      "displayName": "Mohsen Faragheh",
      "userId": "01984594394838132736"
     },
     "user_tz": -210
    },
    "id": "bZvVeL9LwAQD"
   },
   "outputs": [],
   "source": [
    "df_n=df.drop('Unnamed: 0', axis = 1,inplace=True)"
   ]
  },
  {
   "cell_type": "code",
   "execution_count": 6,
   "metadata": {
    "colab": {
     "base_uri": "https://localhost:8080/",
     "height": 444
    },
    "executionInfo": {
     "elapsed": 11,
     "status": "ok",
     "timestamp": 1716120638421,
     "user": {
      "displayName": "Mohsen Faragheh",
      "userId": "01984594394838132736"
     },
     "user_tz": -210
    },
    "id": "kcowhNUZwJ7C",
    "outputId": "273ad698-ef03-4bbf-af5e-e82379830e73"
   },
   "outputs": [
    {
     "data": {
      "text/html": [
       "<div>\n",
       "<style scoped>\n",
       "    .dataframe tbody tr th:only-of-type {\n",
       "        vertical-align: middle;\n",
       "    }\n",
       "\n",
       "    .dataframe tbody tr th {\n",
       "        vertical-align: top;\n",
       "    }\n",
       "\n",
       "    .dataframe thead th {\n",
       "        text-align: right;\n",
       "    }\n",
       "</style>\n",
       "<table border=\"1\" class=\"dataframe\">\n",
       "  <thead>\n",
       "    <tr style=\"text-align: right;\">\n",
       "      <th></th>\n",
       "      <th>area1</th>\n",
       "      <th>concavity1</th>\n",
       "      <th>concave_points1</th>\n",
       "      <th>fractal_dimension1</th>\n",
       "      <th>texture2</th>\n",
       "      <th>perimeter2</th>\n",
       "      <th>compactness2</th>\n",
       "      <th>symmetry2</th>\n",
       "      <th>fractal_dimension2</th>\n",
       "      <th>texture3</th>\n",
       "      <th>perimeter3</th>\n",
       "      <th>compactness3</th>\n",
       "      <th>concavity3</th>\n",
       "      <th>concave_points3</th>\n",
       "      <th>fractal_dimension3</th>\n",
       "      <th>Diagnosis</th>\n",
       "    </tr>\n",
       "  </thead>\n",
       "  <tbody>\n",
       "    <tr>\n",
       "      <th>0</th>\n",
       "      <td>0.548034</td>\n",
       "      <td>0.937384</td>\n",
       "      <td>0.906961</td>\n",
       "      <td>0.880551</td>\n",
       "      <td>0.236609</td>\n",
       "      <td>0.965721</td>\n",
       "      <td>0.630753</td>\n",
       "      <td>0.641079</td>\n",
       "      <td>0.486734</td>\n",
       "      <td>0.172571</td>\n",
       "      <td>0.854245</td>\n",
       "      <td>0.935673</td>\n",
       "      <td>0.838263</td>\n",
       "      <td>0.909293</td>\n",
       "      <td>0.784907</td>\n",
       "      <td>1.0</td>\n",
       "    </tr>\n",
       "    <tr>\n",
       "      <th>1</th>\n",
       "      <td>0.762470</td>\n",
       "      <td>0.269899</td>\n",
       "      <td>0.426593</td>\n",
       "      <td>0.205513</td>\n",
       "      <td>0.162210</td>\n",
       "      <td>0.325647</td>\n",
       "      <td>0.145973</td>\n",
       "      <td>0.173903</td>\n",
       "      <td>0.242274</td>\n",
       "      <td>0.370166</td>\n",
       "      <td>0.684853</td>\n",
       "      <td>0.225707</td>\n",
       "      <td>0.283045</td>\n",
       "      <td>0.627960</td>\n",
       "      <td>0.417650</td>\n",
       "      <td>1.0</td>\n",
       "    </tr>\n",
       "    <tr>\n",
       "      <th>2</th>\n",
       "      <td>0.681314</td>\n",
       "      <td>0.615852</td>\n",
       "      <td>0.787072</td>\n",
       "      <td>0.307198</td>\n",
       "      <td>0.185216</td>\n",
       "      <td>0.472010</td>\n",
       "      <td>0.509693</td>\n",
       "      <td>0.423121</td>\n",
       "      <td>0.337725</td>\n",
       "      <td>0.439064</td>\n",
       "      <td>0.643490</td>\n",
       "      <td>0.578319</td>\n",
       "      <td>0.529546</td>\n",
       "      <td>0.829925</td>\n",
       "      <td>0.399951</td>\n",
       "      <td>1.0</td>\n",
       "    </tr>\n",
       "    <tr>\n",
       "      <th>3</th>\n",
       "      <td>0.142320</td>\n",
       "      <td>0.753607</td>\n",
       "      <td>0.645328</td>\n",
       "      <td>0.391622</td>\n",
       "      <td>0.345429</td>\n",
       "      <td>0.331443</td>\n",
       "      <td>0.975060</td>\n",
       "      <td>0.359837</td>\n",
       "      <td>0.763716</td>\n",
       "      <td>0.470588</td>\n",
       "      <td>0.291379</td>\n",
       "      <td>0.332234</td>\n",
       "      <td>0.808749</td>\n",
       "      <td>0.881302</td>\n",
       "      <td>0.357683</td>\n",
       "      <td>1.0</td>\n",
       "    </tr>\n",
       "    <tr>\n",
       "      <th>4</th>\n",
       "      <td>0.743336</td>\n",
       "      <td>0.617730</td>\n",
       "      <td>0.639708</td>\n",
       "      <td>0.271669</td>\n",
       "      <td>0.182785</td>\n",
       "      <td>0.577189</td>\n",
       "      <td>0.301410</td>\n",
       "      <td>0.280132</td>\n",
       "      <td>0.387701</td>\n",
       "      <td>0.151121</td>\n",
       "      <td>0.641521</td>\n",
       "      <td>0.252979</td>\n",
       "      <td>0.470046</td>\n",
       "      <td>0.544694</td>\n",
       "      <td>0.267207</td>\n",
       "      <td>1.0</td>\n",
       "    </tr>\n",
       "    <tr>\n",
       "      <th>...</th>\n",
       "      <td>...</td>\n",
       "      <td>...</td>\n",
       "      <td>...</td>\n",
       "      <td>...</td>\n",
       "      <td>...</td>\n",
       "      <td>...</td>\n",
       "      <td>...</td>\n",
       "      <td>...</td>\n",
       "      <td>...</td>\n",
       "      <td>...</td>\n",
       "      <td>...</td>\n",
       "      <td>...</td>\n",
       "      <td>...</td>\n",
       "      <td>...</td>\n",
       "      <td>...</td>\n",
       "      <td>...</td>\n",
       "    </tr>\n",
       "    <tr>\n",
       "      <th>551</th>\n",
       "      <td>0.776326</td>\n",
       "      <td>0.991547</td>\n",
       "      <td>0.908834</td>\n",
       "      <td>0.576723</td>\n",
       "      <td>0.289001</td>\n",
       "      <td>0.986560</td>\n",
       "      <td>0.550675</td>\n",
       "      <td>0.367257</td>\n",
       "      <td>0.488572</td>\n",
       "      <td>0.565161</td>\n",
       "      <td>0.818134</td>\n",
       "      <td>0.569574</td>\n",
       "      <td>0.776874</td>\n",
       "      <td>0.869609</td>\n",
       "      <td>0.536996</td>\n",
       "      <td>1.0</td>\n",
       "    </tr>\n",
       "    <tr>\n",
       "      <th>552</th>\n",
       "      <td>0.863420</td>\n",
       "      <td>0.761434</td>\n",
       "      <td>0.855758</td>\n",
       "      <td>0.192037</td>\n",
       "      <td>0.388836</td>\n",
       "      <td>0.852774</td>\n",
       "      <td>0.359379</td>\n",
       "      <td>0.094304</td>\n",
       "      <td>0.307224</td>\n",
       "      <td>0.467338</td>\n",
       "      <td>0.732782</td>\n",
       "      <td>0.262317</td>\n",
       "      <td>0.482678</td>\n",
       "      <td>0.754100</td>\n",
       "      <td>0.198009</td>\n",
       "      <td>1.0</td>\n",
       "    </tr>\n",
       "    <tr>\n",
       "      <th>553</th>\n",
       "      <td>0.719583</td>\n",
       "      <td>0.448668</td>\n",
       "      <td>0.599808</td>\n",
       "      <td>0.164472</td>\n",
       "      <td>0.912753</td>\n",
       "      <td>0.548212</td>\n",
       "      <td>0.296287</td>\n",
       "      <td>0.321234</td>\n",
       "      <td>0.147283</td>\n",
       "      <td>0.852454</td>\n",
       "      <td>0.659904</td>\n",
       "      <td>0.234007</td>\n",
       "      <td>0.377372</td>\n",
       "      <td>0.545757</td>\n",
       "      <td>0.139258</td>\n",
       "      <td>1.0</td>\n",
       "    </tr>\n",
       "    <tr>\n",
       "      <th>554</th>\n",
       "      <td>0.453748</td>\n",
       "      <td>0.287463</td>\n",
       "      <td>0.319504</td>\n",
       "      <td>0.199694</td>\n",
       "      <td>0.310270</td>\n",
       "      <td>0.328977</td>\n",
       "      <td>0.472620</td>\n",
       "      <td>0.153352</td>\n",
       "      <td>0.275346</td>\n",
       "      <td>0.718232</td>\n",
       "      <td>0.474099</td>\n",
       "      <td>0.407719</td>\n",
       "      <td>0.399567</td>\n",
       "      <td>0.471349</td>\n",
       "      <td>0.284661</td>\n",
       "      <td>1.0</td>\n",
       "    </tr>\n",
       "    <tr>\n",
       "      <th>555</th>\n",
       "      <td>0.722222</td>\n",
       "      <td>0.282346</td>\n",
       "      <td>0.937558</td>\n",
       "      <td>0.618683</td>\n",
       "      <td>0.535984</td>\n",
       "      <td>0.618372</td>\n",
       "      <td>0.799806</td>\n",
       "      <td>0.444541</td>\n",
       "      <td>0.485999</td>\n",
       "      <td>0.890478</td>\n",
       "      <td>0.854245</td>\n",
       "      <td>0.332234</td>\n",
       "      <td>0.326670</td>\n",
       "      <td>0.907876</td>\n",
       "      <td>0.847591</td>\n",
       "      <td>1.0</td>\n",
       "    </tr>\n",
       "  </tbody>\n",
       "</table>\n",
       "<p>556 rows × 16 columns</p>\n",
       "</div>"
      ],
      "text/plain": [
       "        area1  concavity1  concave_points1  fractal_dimension1  texture2  \\\n",
       "0    0.548034    0.937384         0.906961            0.880551  0.236609   \n",
       "1    0.762470    0.269899         0.426593            0.205513  0.162210   \n",
       "2    0.681314    0.615852         0.787072            0.307198  0.185216   \n",
       "3    0.142320    0.753607         0.645328            0.391622  0.345429   \n",
       "4    0.743336    0.617730         0.639708            0.271669  0.182785   \n",
       "..        ...         ...              ...                 ...       ...   \n",
       "551  0.776326    0.991547         0.908834            0.576723  0.289001   \n",
       "552  0.863420    0.761434         0.855758            0.192037  0.388836   \n",
       "553  0.719583    0.448668         0.599808            0.164472  0.912753   \n",
       "554  0.453748    0.287463         0.319504            0.199694  0.310270   \n",
       "555  0.722222    0.282346         0.937558            0.618683  0.535984   \n",
       "\n",
       "     perimeter2  compactness2  symmetry2  fractal_dimension2  texture3  \\\n",
       "0      0.965721      0.630753   0.641079            0.486734  0.172571   \n",
       "1      0.325647      0.145973   0.173903            0.242274  0.370166   \n",
       "2      0.472010      0.509693   0.423121            0.337725  0.439064   \n",
       "3      0.331443      0.975060   0.359837            0.763716  0.470588   \n",
       "4      0.577189      0.301410   0.280132            0.387701  0.151121   \n",
       "..          ...           ...        ...                 ...       ...   \n",
       "551    0.986560      0.550675   0.367257            0.488572  0.565161   \n",
       "552    0.852774      0.359379   0.094304            0.307224  0.467338   \n",
       "553    0.548212      0.296287   0.321234            0.147283  0.852454   \n",
       "554    0.328977      0.472620   0.153352            0.275346  0.718232   \n",
       "555    0.618372      0.799806   0.444541            0.485999  0.890478   \n",
       "\n",
       "     perimeter3  compactness3  concavity3  concave_points3  \\\n",
       "0      0.854245      0.935673    0.838263         0.909293   \n",
       "1      0.684853      0.225707    0.283045         0.627960   \n",
       "2      0.643490      0.578319    0.529546         0.829925   \n",
       "3      0.291379      0.332234    0.808749         0.881302   \n",
       "4      0.641521      0.252979    0.470046         0.544694   \n",
       "..          ...           ...         ...              ...   \n",
       "551    0.818134      0.569574    0.776874         0.869609   \n",
       "552    0.732782      0.262317    0.482678         0.754100   \n",
       "553    0.659904      0.234007    0.377372         0.545757   \n",
       "554    0.474099      0.407719    0.399567         0.471349   \n",
       "555    0.854245      0.332234    0.326670         0.907876   \n",
       "\n",
       "     fractal_dimension3  Diagnosis  \n",
       "0              0.784907        1.0  \n",
       "1              0.417650        1.0  \n",
       "2              0.399951        1.0  \n",
       "3              0.357683        1.0  \n",
       "4              0.267207        1.0  \n",
       "..                  ...        ...  \n",
       "551            0.536996        1.0  \n",
       "552            0.198009        1.0  \n",
       "553            0.139258        1.0  \n",
       "554            0.284661        1.0  \n",
       "555            0.847591        1.0  \n",
       "\n",
       "[556 rows x 16 columns]"
      ]
     },
     "execution_count": 6,
     "metadata": {},
     "output_type": "execute_result"
    }
   ],
   "source": [
    "df"
   ]
  },
  {
   "cell_type": "markdown",
   "metadata": {
    "id": "f1f8229c-66bb-4e6f-a647-fcdbef498ba1"
   },
   "source": [
    "## A. Data Imbalancing/ Test and Train"
   ]
  },
  {
   "cell_type": "markdown",
   "metadata": {},
   "source": [
    "### The output of GA algorithm is used"
   ]
  },
  {
   "cell_type": "code",
   "execution_count": 32,
   "metadata": {
    "executionInfo": {
     "elapsed": 599,
     "status": "ok",
     "timestamp": 1716120664857,
     "user": {
      "displayName": "Mohsen Faragheh",
      "userId": "01984594394838132736"
     },
     "user_tz": -210
    },
    "id": "42febbe5-f748-4084-8e77-818502dd3a26"
   },
   "outputs": [],
   "source": [
    "Y = df['Diagnosis']\n",
    "X = df.drop('Diagnosis', axis = 1)"
   ]
  },
  {
   "cell_type": "code",
   "execution_count": 57,
   "metadata": {
    "executionInfo": {
     "elapsed": 38,
     "status": "ok",
     "timestamp": 1716120669109,
     "user": {
      "displayName": "Mohsen Faragheh",
      "userId": "01984594394838132736"
     },
     "user_tz": -210
    },
    "id": "8a719f18-6e5e-4824-aea2-2fe22f310db4"
   },
   "outputs": [],
   "source": [
    "# We have to balance our training set\n",
    "\n",
    "X_train, X_test, Y_train, Y_test = train_test_split(X, Y, test_size=0.4, random_state=0, stratify = Y)"
   ]
  },
  {
   "cell_type": "code",
   "execution_count": 58,
   "metadata": {
    "colab": {
     "base_uri": "https://localhost:8080/",
     "height": 444
    },
    "executionInfo": {
     "elapsed": 10,
     "status": "ok",
     "timestamp": 1716120670927,
     "user": {
      "displayName": "Mohsen Faragheh",
      "userId": "01984594394838132736"
     },
     "user_tz": -210
    },
    "id": "851bd97c-286e-4271-a1d2-a8212dd92216",
    "outputId": "08f46470-67c2-45e5-b92b-7c885d166537"
   },
   "outputs": [
    {
     "data": {
      "text/html": [
       "<div>\n",
       "<style scoped>\n",
       "    .dataframe tbody tr th:only-of-type {\n",
       "        vertical-align: middle;\n",
       "    }\n",
       "\n",
       "    .dataframe tbody tr th {\n",
       "        vertical-align: top;\n",
       "    }\n",
       "\n",
       "    .dataframe thead th {\n",
       "        text-align: right;\n",
       "    }\n",
       "</style>\n",
       "<table border=\"1\" class=\"dataframe\">\n",
       "  <thead>\n",
       "    <tr style=\"text-align: right;\">\n",
       "      <th></th>\n",
       "      <th>area1</th>\n",
       "      <th>concavity1</th>\n",
       "      <th>concave_points1</th>\n",
       "      <th>fractal_dimension1</th>\n",
       "      <th>texture2</th>\n",
       "      <th>perimeter2</th>\n",
       "      <th>compactness2</th>\n",
       "      <th>symmetry2</th>\n",
       "      <th>fractal_dimension2</th>\n",
       "      <th>texture3</th>\n",
       "      <th>perimeter3</th>\n",
       "      <th>compactness3</th>\n",
       "      <th>concavity3</th>\n",
       "      <th>concave_points3</th>\n",
       "      <th>fractal_dimension3</th>\n",
       "    </tr>\n",
       "  </thead>\n",
       "  <tbody>\n",
       "    <tr>\n",
       "      <th>352</th>\n",
       "      <td>0.046582</td>\n",
       "      <td>0.145638</td>\n",
       "      <td>0.137111</td>\n",
       "      <td>0.497703</td>\n",
       "      <td>0.364528</td>\n",
       "      <td>0.434032</td>\n",
       "      <td>0.360457</td>\n",
       "      <td>0.593030</td>\n",
       "      <td>0.301253</td>\n",
       "      <td>0.184595</td>\n",
       "      <td>0.070777</td>\n",
       "      <td>0.134108</td>\n",
       "      <td>0.109279</td>\n",
       "      <td>0.137648</td>\n",
       "      <td>0.236849</td>\n",
       "    </tr>\n",
       "    <tr>\n",
       "      <th>30</th>\n",
       "      <td>0.605437</td>\n",
       "      <td>0.723864</td>\n",
       "      <td>0.765217</td>\n",
       "      <td>0.367841</td>\n",
       "      <td>0.479990</td>\n",
       "      <td>0.593958</td>\n",
       "      <td>0.424492</td>\n",
       "      <td>0.352785</td>\n",
       "      <td>0.336714</td>\n",
       "      <td>0.714657</td>\n",
       "      <td>0.696015</td>\n",
       "      <td>0.580097</td>\n",
       "      <td>0.721860</td>\n",
       "      <td>0.623708</td>\n",
       "      <td>0.525811</td>\n",
       "    </tr>\n",
       "    <tr>\n",
       "      <th>394</th>\n",
       "      <td>0.179665</td>\n",
       "      <td>0.079422</td>\n",
       "      <td>0.100582</td>\n",
       "      <td>0.166922</td>\n",
       "      <td>0.297248</td>\n",
       "      <td>0.109988</td>\n",
       "      <td>0.131953</td>\n",
       "      <td>0.089093</td>\n",
       "      <td>0.088395</td>\n",
       "      <td>0.263893</td>\n",
       "      <td>0.217648</td>\n",
       "      <td>0.182575</td>\n",
       "      <td>0.176559</td>\n",
       "      <td>0.212552</td>\n",
       "      <td>0.216077</td>\n",
       "    </tr>\n",
       "    <tr>\n",
       "      <th>244</th>\n",
       "      <td>0.155648</td>\n",
       "      <td>0.133334</td>\n",
       "      <td>0.171329</td>\n",
       "      <td>0.358959</td>\n",
       "      <td>0.294210</td>\n",
       "      <td>0.114550</td>\n",
       "      <td>0.135188</td>\n",
       "      <td>0.257265</td>\n",
       "      <td>0.173557</td>\n",
       "      <td>0.298018</td>\n",
       "      <td>0.173265</td>\n",
       "      <td>0.183613</td>\n",
       "      <td>0.210795</td>\n",
       "      <td>0.309353</td>\n",
       "      <td>0.283309</td>\n",
       "    </tr>\n",
       "    <tr>\n",
       "      <th>121</th>\n",
       "      <td>0.325505</td>\n",
       "      <td>0.282346</td>\n",
       "      <td>0.301040</td>\n",
       "      <td>0.576110</td>\n",
       "      <td>0.361459</td>\n",
       "      <td>0.261738</td>\n",
       "      <td>0.318020</td>\n",
       "      <td>0.359837</td>\n",
       "      <td>0.824992</td>\n",
       "      <td>0.389015</td>\n",
       "      <td>0.829952</td>\n",
       "      <td>0.578170</td>\n",
       "      <td>0.682901</td>\n",
       "      <td>0.765438</td>\n",
       "      <td>0.307891</td>\n",
       "    </tr>\n",
       "    <tr>\n",
       "      <th>...</th>\n",
       "      <td>...</td>\n",
       "      <td>...</td>\n",
       "      <td>...</td>\n",
       "      <td>...</td>\n",
       "      <td>...</td>\n",
       "      <td>...</td>\n",
       "      <td>...</td>\n",
       "      <td>...</td>\n",
       "      <td>...</td>\n",
       "      <td>...</td>\n",
       "      <td>...</td>\n",
       "      <td>...</td>\n",
       "      <td>...</td>\n",
       "      <td>...</td>\n",
       "      <td>...</td>\n",
       "    </tr>\n",
       "    <tr>\n",
       "      <th>351</th>\n",
       "      <td>0.279295</td>\n",
       "      <td>0.044858</td>\n",
       "      <td>0.118815</td>\n",
       "      <td>0.271669</td>\n",
       "      <td>0.435281</td>\n",
       "      <td>0.120838</td>\n",
       "      <td>0.076667</td>\n",
       "      <td>0.218768</td>\n",
       "      <td>0.109525</td>\n",
       "      <td>0.440689</td>\n",
       "      <td>0.277395</td>\n",
       "      <td>0.098536</td>\n",
       "      <td>0.060215</td>\n",
       "      <td>0.165781</td>\n",
       "      <td>0.197763</td>\n",
       "    </tr>\n",
       "    <tr>\n",
       "      <th>422</th>\n",
       "      <td>0.218329</td>\n",
       "      <td>0.041727</td>\n",
       "      <td>0.103017</td>\n",
       "      <td>0.167841</td>\n",
       "      <td>0.227190</td>\n",
       "      <td>0.166708</td>\n",
       "      <td>0.127909</td>\n",
       "      <td>0.333391</td>\n",
       "      <td>0.026201</td>\n",
       "      <td>0.290543</td>\n",
       "      <td>0.225724</td>\n",
       "      <td>0.091495</td>\n",
       "      <td>0.038776</td>\n",
       "      <td>0.096900</td>\n",
       "      <td>0.064036</td>\n",
       "    </tr>\n",
       "    <tr>\n",
       "      <th>270</th>\n",
       "      <td>0.174980</td>\n",
       "      <td>0.183458</td>\n",
       "      <td>0.450758</td>\n",
       "      <td>0.269219</td>\n",
       "      <td>0.838962</td>\n",
       "      <td>0.402466</td>\n",
       "      <td>0.170374</td>\n",
       "      <td>0.547007</td>\n",
       "      <td>0.193584</td>\n",
       "      <td>0.226519</td>\n",
       "      <td>0.163942</td>\n",
       "      <td>0.073161</td>\n",
       "      <td>0.082267</td>\n",
       "      <td>0.285897</td>\n",
       "      <td>0.065020</td>\n",
       "    </tr>\n",
       "    <tr>\n",
       "      <th>73</th>\n",
       "      <td>0.272961</td>\n",
       "      <td>0.241691</td>\n",
       "      <td>0.304955</td>\n",
       "      <td>0.480858</td>\n",
       "      <td>0.112987</td>\n",
       "      <td>0.147965</td>\n",
       "      <td>0.248025</td>\n",
       "      <td>0.124986</td>\n",
       "      <td>0.205343</td>\n",
       "      <td>0.287293</td>\n",
       "      <td>0.366424</td>\n",
       "      <td>0.474121</td>\n",
       "      <td>0.325900</td>\n",
       "      <td>0.458948</td>\n",
       "      <td>0.589479</td>\n",
       "    </tr>\n",
       "    <tr>\n",
       "      <th>48</th>\n",
       "      <td>0.184020</td>\n",
       "      <td>0.204215</td>\n",
       "      <td>0.160089</td>\n",
       "      <td>0.320674</td>\n",
       "      <td>0.160257</td>\n",
       "      <td>0.134525</td>\n",
       "      <td>0.162016</td>\n",
       "      <td>0.185192</td>\n",
       "      <td>0.140301</td>\n",
       "      <td>0.282093</td>\n",
       "      <td>0.232355</td>\n",
       "      <td>0.268690</td>\n",
       "      <td>0.357893</td>\n",
       "      <td>0.200930</td>\n",
       "      <td>0.343781</td>\n",
       "    </tr>\n",
       "  </tbody>\n",
       "</table>\n",
       "<p>333 rows × 15 columns</p>\n",
       "</div>"
      ],
      "text/plain": [
       "        area1  concavity1  concave_points1  fractal_dimension1  texture2  \\\n",
       "352  0.046582    0.145638         0.137111            0.497703  0.364528   \n",
       "30   0.605437    0.723864         0.765217            0.367841  0.479990   \n",
       "394  0.179665    0.079422         0.100582            0.166922  0.297248   \n",
       "244  0.155648    0.133334         0.171329            0.358959  0.294210   \n",
       "121  0.325505    0.282346         0.301040            0.576110  0.361459   \n",
       "..        ...         ...              ...                 ...       ...   \n",
       "351  0.279295    0.044858         0.118815            0.271669  0.435281   \n",
       "422  0.218329    0.041727         0.103017            0.167841  0.227190   \n",
       "270  0.174980    0.183458         0.450758            0.269219  0.838962   \n",
       "73   0.272961    0.241691         0.304955            0.480858  0.112987   \n",
       "48   0.184020    0.204215         0.160089            0.320674  0.160257   \n",
       "\n",
       "     perimeter2  compactness2  symmetry2  fractal_dimension2  texture3  \\\n",
       "352    0.434032      0.360457   0.593030            0.301253  0.184595   \n",
       "30     0.593958      0.424492   0.352785            0.336714  0.714657   \n",
       "394    0.109988      0.131953   0.089093            0.088395  0.263893   \n",
       "244    0.114550      0.135188   0.257265            0.173557  0.298018   \n",
       "121    0.261738      0.318020   0.359837            0.824992  0.389015   \n",
       "..          ...           ...        ...                 ...       ...   \n",
       "351    0.120838      0.076667   0.218768            0.109525  0.440689   \n",
       "422    0.166708      0.127909   0.333391            0.026201  0.290543   \n",
       "270    0.402466      0.170374   0.547007            0.193584  0.226519   \n",
       "73     0.147965      0.248025   0.124986            0.205343  0.287293   \n",
       "48     0.134525      0.162016   0.185192            0.140301  0.282093   \n",
       "\n",
       "     perimeter3  compactness3  concavity3  concave_points3  fractal_dimension3  \n",
       "352    0.070777      0.134108    0.109279         0.137648            0.236849  \n",
       "30     0.696015      0.580097    0.721860         0.623708            0.525811  \n",
       "394    0.217648      0.182575    0.176559         0.212552            0.216077  \n",
       "244    0.173265      0.183613    0.210795         0.309353            0.283309  \n",
       "121    0.829952      0.578170    0.682901         0.765438            0.307891  \n",
       "..          ...           ...         ...              ...                 ...  \n",
       "351    0.277395      0.098536    0.060215         0.165781            0.197763  \n",
       "422    0.225724      0.091495    0.038776         0.096900            0.064036  \n",
       "270    0.163942      0.073161    0.082267         0.285897            0.065020  \n",
       "73     0.366424      0.474121    0.325900         0.458948            0.589479  \n",
       "48     0.232355      0.268690    0.357893         0.200930            0.343781  \n",
       "\n",
       "[333 rows x 15 columns]"
      ]
     },
     "execution_count": 58,
     "metadata": {},
     "output_type": "execute_result"
    }
   ],
   "source": [
    "X_train"
   ]
  },
  {
   "cell_type": "code",
   "execution_count": 59,
   "metadata": {
    "colab": {
     "base_uri": "https://localhost:8080/"
    },
    "executionInfo": {
     "elapsed": 544,
     "status": "ok",
     "timestamp": 1716120675568,
     "user": {
      "displayName": "Mohsen Faragheh",
      "userId": "01984594394838132736"
     },
     "user_tz": -210
    },
    "id": "3603f3a9-1478-4418-91e0-dc44c696819d",
    "outputId": "9bcd00d2-db55-445a-fb5e-da14a7b9a4b4"
   },
   "outputs": [
    {
     "data": {
      "text/plain": [
       "352    0.0\n",
       "30     1.0\n",
       "394    0.0\n",
       "244    0.0\n",
       "121    1.0\n",
       "      ... \n",
       "351    0.0\n",
       "422    0.0\n",
       "270    0.0\n",
       "73     1.0\n",
       "48     0.0\n",
       "Name: Diagnosis, Length: 333, dtype: float64"
      ]
     },
     "execution_count": 59,
     "metadata": {},
     "output_type": "execute_result"
    }
   ],
   "source": [
    "Y_train"
   ]
  },
  {
   "cell_type": "code",
   "execution_count": 60,
   "metadata": {
    "colab": {
     "base_uri": "https://localhost:8080/"
    },
    "executionInfo": {
     "elapsed": 585,
     "status": "ok",
     "timestamp": 1716120680381,
     "user": {
      "displayName": "Mohsen Faragheh",
      "userId": "01984594394838132736"
     },
     "user_tz": -210
    },
    "id": "d3f1cd19-6a56-4b10-901d-f5e1607347a3",
    "outputId": "ed5a5afc-ad99-4b23-c31b-ec197f43f1e9"
   },
   "outputs": [
    {
     "name": "stdout",
     "output_type": "stream",
     "text": [
      "\n",
      "Class 1 before Over Sampling -->  127\n",
      "\n",
      "Class 0 before Over Sampling -->  206\n",
      "\n",
      "The shape of the X after Over Sampling --> (412, 15)\n",
      "\n",
      "The shape of the Y after Over Sampling --> (412,)\n",
      "\n",
      "Class 1 after Over Sampling -->  206\n",
      "\n",
      "Class 0 after Over Sampling -->  206\n",
      "\n",
      "\n"
     ]
    }
   ],
   "source": [
    "# Over Sampling\n",
    "\n",
    "sm = SMOTE(random_state = 2)\n",
    "\n",
    "print(\"\\nClass 1 before Over Sampling --> \", sum(Y_train == 1))\n",
    "print(\"\\nClass 0 before Over Sampling --> \", sum(Y_train == 0))\n",
    "\n",
    "\n",
    "# X_train after Over Sampling --> X_train_OS\n",
    "# Y_train after Over Sampling --> Y_train_OS\n",
    "X_train_OS, Y_train_OS = sm.fit_resample(X_train, Y_train.ravel())\n",
    "\n",
    "print(\"\\nThe shape of the X after Over Sampling -->\", X_train_OS.shape)\n",
    "print(\"\\nThe shape of the Y after Over Sampling -->\", Y_train_OS.shape)\n",
    "\n",
    "print(\"\\nClass 1 after Over Sampling --> \", sum(Y_train_OS == 1))\n",
    "print(\"\\nClass 0 after Over Sampling --> \", sum(Y_train_OS == 0))\n",
    "print(\"\\n\")"
   ]
  },
  {
   "cell_type": "code",
   "execution_count": 61,
   "metadata": {
    "colab": {
     "base_uri": "https://localhost:8080/"
    },
    "executionInfo": {
     "elapsed": 5,
     "status": "ok",
     "timestamp": 1716120685077,
     "user": {
      "displayName": "Mohsen Faragheh",
      "userId": "01984594394838132736"
     },
     "user_tz": -210
    },
    "id": "RQMXrQZLebWG",
    "outputId": "e7e991f9-22c0-4723-95ee-2730be0e8fde"
   },
   "outputs": [
    {
     "data": {
      "text/plain": [
       "((412, 15), (412,))"
      ]
     },
     "execution_count": 61,
     "metadata": {},
     "output_type": "execute_result"
    }
   ],
   "source": [
    "X_train_OS.shape, Y_train_OS.shape"
   ]
  },
  {
   "cell_type": "code",
   "execution_count": 62,
   "metadata": {
    "colab": {
     "base_uri": "https://localhost:8080/"
    },
    "id": "NXcz5JXnegB9",
    "outputId": "3a17f8f4-6183-41c8-d404-0aa66cd7de26"
   },
   "outputs": [
    {
     "data": {
      "text/plain": [
       "((223, 15), (223,))"
      ]
     },
     "execution_count": 62,
     "metadata": {},
     "output_type": "execute_result"
    }
   ],
   "source": [
    "X_test.shape, Y_test.shape"
   ]
  },
  {
   "cell_type": "code",
   "execution_count": 63,
   "metadata": {
    "colab": {
     "base_uri": "https://localhost:8080/"
    },
    "id": "I7-JH9idfHQ1",
    "outputId": "c28def37-ade5-4c7a-b521-b2534f38c9e0"
   },
   "outputs": [
    {
     "data": {
      "text/plain": [
       "pandas.core.frame.DataFrame"
      ]
     },
     "execution_count": 63,
     "metadata": {},
     "output_type": "execute_result"
    }
   ],
   "source": [
    "type(X_train_OS)"
   ]
  },
  {
   "cell_type": "markdown",
   "metadata": {
    "id": "ul6L97rZeP_N"
   },
   "source": [
    "# B. Building PyTorch model"
   ]
  },
  {
   "cell_type": "code",
   "execution_count": 64,
   "metadata": {
    "colab": {
     "base_uri": "https://localhost:8080/",
     "height": 35
    },
    "executionInfo": {
     "elapsed": 7,
     "status": "ok",
     "timestamp": 1716120689247,
     "user": {
      "displayName": "Mohsen Faragheh",
      "userId": "01984594394838132736"
     },
     "user_tz": -210
    },
    "id": "3V5cLzMPeMXb",
    "outputId": "cc2232d2-f523-484e-bb9e-544b1c855c0b"
   },
   "outputs": [
    {
     "data": {
      "text/plain": [
       "'cpu'"
      ]
     },
     "execution_count": 64,
     "metadata": {},
     "output_type": "execute_result"
    }
   ],
   "source": [
    "# Standard PyTorch imports\n",
    "import torch\n",
    "from torch import nn\n",
    "\n",
    "# Make device agnostic code\n",
    "device = \"cuda\" if torch.cuda.is_available() else \"cpu\"\n",
    "device"
   ]
  },
  {
   "cell_type": "code",
   "execution_count": 65,
   "metadata": {
    "executionInfo": {
     "elapsed": 742,
     "status": "ok",
     "timestamp": 1716120694055,
     "user": {
      "displayName": "Mohsen Faragheh",
      "userId": "01984594394838132736"
     },
     "user_tz": -210
    },
    "id": "3HS_AWn9fSoX"
   },
   "outputs": [],
   "source": [
    "# Dataframe to tensor and device\n",
    "X_train = torch.tensor(X_train_OS.values, dtype = torch.float32).to(device)\n",
    "y_train = torch.tensor(Y_train_OS, dtype = torch.float32).to(device)\n",
    "X_test = torch.tensor(X_test.values, dtype = torch.float32).to(device)\n",
    "y_test = torch.tensor(Y_test.values, dtype = torch.float32).to(device)"
   ]
  },
  {
   "cell_type": "code",
   "execution_count": 66,
   "metadata": {
    "colab": {
     "base_uri": "https://localhost:8080/"
    },
    "executionInfo": {
     "elapsed": 4,
     "status": "ok",
     "timestamp": 1716120697232,
     "user": {
      "displayName": "Mohsen Faragheh",
      "userId": "01984594394838132736"
     },
     "user_tz": -210
    },
    "id": "o0B15SClf2Tj",
    "outputId": "1e79a72a-b888-47e4-9764-9841e8afa1d1"
   },
   "outputs": [
    {
     "data": {
      "text/plain": [
       "(torch.Size([412, 15]), torch.float32)"
      ]
     },
     "execution_count": 66,
     "metadata": {},
     "output_type": "execute_result"
    }
   ],
   "source": [
    "X_train.shape, X_train.dtype"
   ]
  },
  {
   "cell_type": "code",
   "execution_count": 67,
   "metadata": {
    "colab": {
     "base_uri": "https://localhost:8080/"
    },
    "executionInfo": {
     "elapsed": 1,
     "status": "ok",
     "timestamp": 1716120699418,
     "user": {
      "displayName": "Mohsen Faragheh",
      "userId": "01984594394838132736"
     },
     "user_tz": -210
    },
    "id": "PWYN0jeTgGg1",
    "outputId": "707a8225-cc40-4054-d990-998042c251d1"
   },
   "outputs": [
    {
     "data": {
      "text/plain": [
       "(torch.Size([412]), torch.float32)"
      ]
     },
     "execution_count": 67,
     "metadata": {},
     "output_type": "execute_result"
    }
   ],
   "source": [
    "y_train.shape, y_train.dtype"
   ]
  },
  {
   "cell_type": "code",
   "execution_count": 68,
   "metadata": {
    "colab": {
     "base_uri": "https://localhost:8080/"
    },
    "executionInfo": {
     "elapsed": 4,
     "status": "ok",
     "timestamp": 1716120700123,
     "user": {
      "displayName": "Mohsen Faragheh",
      "userId": "01984594394838132736"
     },
     "user_tz": -210
    },
    "id": "vnxUT7jTgPan",
    "outputId": "0cdd2d7e-459f-47b2-d948-8488ce1c108d"
   },
   "outputs": [
    {
     "data": {
      "text/plain": [
       "(torch.Size([223, 15]), torch.float32)"
      ]
     },
     "execution_count": 68,
     "metadata": {},
     "output_type": "execute_result"
    }
   ],
   "source": [
    "X_test.shape, X_test.dtype"
   ]
  },
  {
   "cell_type": "code",
   "execution_count": 69,
   "metadata": {
    "colab": {
     "base_uri": "https://localhost:8080/"
    },
    "executionInfo": {
     "elapsed": 3,
     "status": "ok",
     "timestamp": 1716120701066,
     "user": {
      "displayName": "Mohsen Faragheh",
      "userId": "01984594394838132736"
     },
     "user_tz": -210
    },
    "id": "eOud98SogRwn",
    "outputId": "83ac192c-6191-482b-c1cb-152aa262be6a"
   },
   "outputs": [
    {
     "data": {
      "text/plain": [
       "(torch.Size([223]), torch.float32)"
      ]
     },
     "execution_count": 69,
     "metadata": {},
     "output_type": "execute_result"
    }
   ],
   "source": [
    "y_test.shape, y_test.dtype"
   ]
  },
  {
   "cell_type": "markdown",
   "metadata": {
    "id": "lft26F0zJvzI"
   },
   "source": [
    "## B.1 Model 0\n",
    "1 hidden layer with 8 neurons"
   ]
  },
  {
   "cell_type": "markdown",
   "metadata": {
    "id": "PYn1Gq4mLbc1"
   },
   "source": [
    "### Constructing the model"
   ]
  },
  {
   "cell_type": "code",
   "execution_count": 70,
   "metadata": {
    "executionInfo": {
     "elapsed": 876,
     "status": "ok",
     "timestamp": 1716120717602,
     "user": {
      "displayName": "Mohsen Faragheh",
      "userId": "01984594394838132736"
     },
     "user_tz": -210
    },
    "id": "41Dz8YccgaUh"
   },
   "outputs": [
    {
     "data": {
      "text/html": [
       "<style>#sk-container-id-7 {color: black;background-color: white;}#sk-container-id-7 pre{padding: 0;}#sk-container-id-7 div.sk-toggleable {background-color: white;}#sk-container-id-7 label.sk-toggleable__label {cursor: pointer;display: block;width: 100%;margin-bottom: 0;padding: 0.3em;box-sizing: border-box;text-align: center;}#sk-container-id-7 label.sk-toggleable__label-arrow:before {content: \"▸\";float: left;margin-right: 0.25em;color: #696969;}#sk-container-id-7 label.sk-toggleable__label-arrow:hover:before {color: black;}#sk-container-id-7 div.sk-estimator:hover label.sk-toggleable__label-arrow:before {color: black;}#sk-container-id-7 div.sk-toggleable__content {max-height: 0;max-width: 0;overflow: hidden;text-align: left;background-color: #f0f8ff;}#sk-container-id-7 div.sk-toggleable__content pre {margin: 0.2em;color: black;border-radius: 0.25em;background-color: #f0f8ff;}#sk-container-id-7 input.sk-toggleable__control:checked~div.sk-toggleable__content {max-height: 200px;max-width: 100%;overflow: auto;}#sk-container-id-7 input.sk-toggleable__control:checked~label.sk-toggleable__label-arrow:before {content: \"▾\";}#sk-container-id-7 div.sk-estimator input.sk-toggleable__control:checked~label.sk-toggleable__label {background-color: #d4ebff;}#sk-container-id-7 div.sk-label input.sk-toggleable__control:checked~label.sk-toggleable__label {background-color: #d4ebff;}#sk-container-id-7 input.sk-hidden--visually {border: 0;clip: rect(1px 1px 1px 1px);clip: rect(1px, 1px, 1px, 1px);height: 1px;margin: -1px;overflow: hidden;padding: 0;position: absolute;width: 1px;}#sk-container-id-7 div.sk-estimator {font-family: monospace;background-color: #f0f8ff;border: 1px dotted black;border-radius: 0.25em;box-sizing: border-box;margin-bottom: 0.5em;}#sk-container-id-7 div.sk-estimator:hover {background-color: #d4ebff;}#sk-container-id-7 div.sk-parallel-item::after {content: \"\";width: 100%;border-bottom: 1px solid gray;flex-grow: 1;}#sk-container-id-7 div.sk-label:hover label.sk-toggleable__label {background-color: #d4ebff;}#sk-container-id-7 div.sk-serial::before {content: \"\";position: absolute;border-left: 1px solid gray;box-sizing: border-box;top: 0;bottom: 0;left: 50%;z-index: 0;}#sk-container-id-7 div.sk-serial {display: flex;flex-direction: column;align-items: center;background-color: white;padding-right: 0.2em;padding-left: 0.2em;position: relative;}#sk-container-id-7 div.sk-item {position: relative;z-index: 1;}#sk-container-id-7 div.sk-parallel {display: flex;align-items: stretch;justify-content: center;background-color: white;position: relative;}#sk-container-id-7 div.sk-item::before, #sk-container-id-7 div.sk-parallel-item::before {content: \"\";position: absolute;border-left: 1px solid gray;box-sizing: border-box;top: 0;bottom: 0;left: 50%;z-index: -1;}#sk-container-id-7 div.sk-parallel-item {display: flex;flex-direction: column;z-index: 1;position: relative;background-color: white;}#sk-container-id-7 div.sk-parallel-item:first-child::after {align-self: flex-end;width: 50%;}#sk-container-id-7 div.sk-parallel-item:last-child::after {align-self: flex-start;width: 50%;}#sk-container-id-7 div.sk-parallel-item:only-child::after {width: 0;}#sk-container-id-7 div.sk-dashed-wrapped {border: 1px dashed gray;margin: 0 0.4em 0.5em 0.4em;box-sizing: border-box;padding-bottom: 0.4em;background-color: white;}#sk-container-id-7 div.sk-label label {font-family: monospace;font-weight: bold;display: inline-block;line-height: 1.2em;}#sk-container-id-7 div.sk-label-container {text-align: center;}#sk-container-id-7 div.sk-container {/* jupyter's `normalize.less` sets `[hidden] { display: none; }` but bootstrap.min.css set `[hidden] { display: none !important; }` so we also need the `!important` here to be able to override the default hidden behavior on the sphinx rendered scikit-learn.org. See: https://github.com/scikit-learn/scikit-learn/issues/21755 */display: inline-block !important;position: relative;}#sk-container-id-7 div.sk-text-repr-fallback {display: none;}</style><div id=\"sk-container-id-7\" class=\"sk-top-container\"><div class=\"sk-text-repr-fallback\"><pre>GridSearchCV(cv=StratifiedKFold(n_splits=3, random_state=None, shuffle=False),\n",
       "             estimator=MLPClassifier(),\n",
       "             param_grid={&#x27;activation&#x27;: [&#x27;relu&#x27;], &#x27;early_stopping&#x27;: [True],\n",
       "                         &#x27;hidden_layer_sizes&#x27;: [8],\n",
       "                         &#x27;learning_rate&#x27;: [&#x27;constant&#x27;, &#x27;invscaling&#x27;,\n",
       "                                           &#x27;adaptive&#x27;],\n",
       "                         &#x27;learning_rate_init&#x27;: [0.01], &#x27;max_iter&#x27;: [1000],\n",
       "                         &#x27;random_state&#x27;: [42], &#x27;solver&#x27;: [&#x27;sgd&#x27;]},\n",
       "             scoring=&#x27;accuracy&#x27;, verbose=False)</pre><b>In a Jupyter environment, please rerun this cell to show the HTML representation or trust the notebook. <br />On GitHub, the HTML representation is unable to render, please try loading this page with nbviewer.org.</b></div><div class=\"sk-container\" hidden><div class=\"sk-item sk-dashed-wrapped\"><div class=\"sk-label-container\"><div class=\"sk-label sk-toggleable\"><input class=\"sk-toggleable__control sk-hidden--visually\" id=\"sk-estimator-id-19\" type=\"checkbox\" ><label for=\"sk-estimator-id-19\" class=\"sk-toggleable__label sk-toggleable__label-arrow\">GridSearchCV</label><div class=\"sk-toggleable__content\"><pre>GridSearchCV(cv=StratifiedKFold(n_splits=3, random_state=None, shuffle=False),\n",
       "             estimator=MLPClassifier(),\n",
       "             param_grid={&#x27;activation&#x27;: [&#x27;relu&#x27;], &#x27;early_stopping&#x27;: [True],\n",
       "                         &#x27;hidden_layer_sizes&#x27;: [8],\n",
       "                         &#x27;learning_rate&#x27;: [&#x27;constant&#x27;, &#x27;invscaling&#x27;,\n",
       "                                           &#x27;adaptive&#x27;],\n",
       "                         &#x27;learning_rate_init&#x27;: [0.01], &#x27;max_iter&#x27;: [1000],\n",
       "                         &#x27;random_state&#x27;: [42], &#x27;solver&#x27;: [&#x27;sgd&#x27;]},\n",
       "             scoring=&#x27;accuracy&#x27;, verbose=False)</pre></div></div></div><div class=\"sk-parallel\"><div class=\"sk-parallel-item\"><div class=\"sk-item\"><div class=\"sk-label-container\"><div class=\"sk-label sk-toggleable\"><input class=\"sk-toggleable__control sk-hidden--visually\" id=\"sk-estimator-id-20\" type=\"checkbox\" ><label for=\"sk-estimator-id-20\" class=\"sk-toggleable__label sk-toggleable__label-arrow\">estimator: MLPClassifier</label><div class=\"sk-toggleable__content\"><pre>MLPClassifier()</pre></div></div></div><div class=\"sk-serial\"><div class=\"sk-item\"><div class=\"sk-estimator sk-toggleable\"><input class=\"sk-toggleable__control sk-hidden--visually\" id=\"sk-estimator-id-21\" type=\"checkbox\" ><label for=\"sk-estimator-id-21\" class=\"sk-toggleable__label sk-toggleable__label-arrow\">MLPClassifier</label><div class=\"sk-toggleable__content\"><pre>MLPClassifier()</pre></div></div></div></div></div></div></div></div></div></div>"
      ],
      "text/plain": [
       "GridSearchCV(cv=StratifiedKFold(n_splits=3, random_state=None, shuffle=False),\n",
       "             estimator=MLPClassifier(),\n",
       "             param_grid={'activation': ['relu'], 'early_stopping': [True],\n",
       "                         'hidden_layer_sizes': [8],\n",
       "                         'learning_rate': ['constant', 'invscaling',\n",
       "                                           'adaptive'],\n",
       "                         'learning_rate_init': [0.01], 'max_iter': [1000],\n",
       "                         'random_state': [42], 'solver': ['sgd']},\n",
       "             scoring='accuracy', verbose=False)"
      ]
     },
     "execution_count": 70,
     "metadata": {},
     "output_type": "execute_result"
    }
   ],
   "source": [
    "param_grid_mlp = {\n",
    "    'hidden_layer_sizes': [(8)],\n",
    "    'activation': ['relu'],\n",
    "    'solver': ['sgd'],\n",
    "    'early_stopping': [True],\n",
    "    'learning_rate': ['constant', 'invscaling', 'adaptive'],\n",
    "    'learning_rate_init' : [0.01],\n",
    "    'max_iter': [1000],\n",
    "    'random_state': [42]}\n",
    "CV = StratifiedKFold(n_splits = 3)\n",
    "model_0 = GridSearchCV(MLPClassifier(), param_grid_mlp, cv=CV,\n",
    "                     scoring='accuracy',verbose=False)\n",
    "model_0.fit(X_train, y_train)"
   ]
  },
  {
   "cell_type": "code",
   "execution_count": 71,
   "metadata": {
    "colab": {
     "base_uri": "https://localhost:8080/"
    },
    "executionInfo": {
     "elapsed": 3,
     "status": "ok",
     "timestamp": 1716120721312,
     "user": {
      "displayName": "Mohsen Faragheh",
      "userId": "01984594394838132736"
     },
     "user_tz": -210
    },
    "id": "WMsVE_5HKoiF",
    "outputId": "0202cc80-de36-46a9-e0a0-f150fffef348",
    "scrolled": true
   },
   "outputs": [
    {
     "data": {
      "text/plain": [
       "0.8299481646038295"
      ]
     },
     "execution_count": 71,
     "metadata": {},
     "output_type": "execute_result"
    }
   ],
   "source": [
    "model_0.best_score_"
   ]
  },
  {
   "cell_type": "markdown",
   "metadata": {
    "id": "lft26F0zJvzI"
   },
   "source": [
    "## B.2 Model 1\n",
    "2 hidden layer with 8 neurons"
   ]
  },
  {
   "cell_type": "markdown",
   "metadata": {
    "id": "PYn1Gq4mLbc1"
   },
   "source": [
    "### Constructing the model"
   ]
  },
  {
   "cell_type": "code",
   "execution_count": 139,
   "metadata": {
    "executionInfo": {
     "elapsed": 876,
     "status": "ok",
     "timestamp": 1716120717602,
     "user": {
      "displayName": "Mohsen Faragheh",
      "userId": "01984594394838132736"
     },
     "user_tz": -210
    },
    "id": "41Dz8YccgaUh"
   },
   "outputs": [
    {
     "data": {
      "text/html": [
       "<style>#sk-container-id-37 {color: black;background-color: white;}#sk-container-id-37 pre{padding: 0;}#sk-container-id-37 div.sk-toggleable {background-color: white;}#sk-container-id-37 label.sk-toggleable__label {cursor: pointer;display: block;width: 100%;margin-bottom: 0;padding: 0.3em;box-sizing: border-box;text-align: center;}#sk-container-id-37 label.sk-toggleable__label-arrow:before {content: \"▸\";float: left;margin-right: 0.25em;color: #696969;}#sk-container-id-37 label.sk-toggleable__label-arrow:hover:before {color: black;}#sk-container-id-37 div.sk-estimator:hover label.sk-toggleable__label-arrow:before {color: black;}#sk-container-id-37 div.sk-toggleable__content {max-height: 0;max-width: 0;overflow: hidden;text-align: left;background-color: #f0f8ff;}#sk-container-id-37 div.sk-toggleable__content pre {margin: 0.2em;color: black;border-radius: 0.25em;background-color: #f0f8ff;}#sk-container-id-37 input.sk-toggleable__control:checked~div.sk-toggleable__content {max-height: 200px;max-width: 100%;overflow: auto;}#sk-container-id-37 input.sk-toggleable__control:checked~label.sk-toggleable__label-arrow:before {content: \"▾\";}#sk-container-id-37 div.sk-estimator input.sk-toggleable__control:checked~label.sk-toggleable__label {background-color: #d4ebff;}#sk-container-id-37 div.sk-label input.sk-toggleable__control:checked~label.sk-toggleable__label {background-color: #d4ebff;}#sk-container-id-37 input.sk-hidden--visually {border: 0;clip: rect(1px 1px 1px 1px);clip: rect(1px, 1px, 1px, 1px);height: 1px;margin: -1px;overflow: hidden;padding: 0;position: absolute;width: 1px;}#sk-container-id-37 div.sk-estimator {font-family: monospace;background-color: #f0f8ff;border: 1px dotted black;border-radius: 0.25em;box-sizing: border-box;margin-bottom: 0.5em;}#sk-container-id-37 div.sk-estimator:hover {background-color: #d4ebff;}#sk-container-id-37 div.sk-parallel-item::after {content: \"\";width: 100%;border-bottom: 1px solid gray;flex-grow: 1;}#sk-container-id-37 div.sk-label:hover label.sk-toggleable__label {background-color: #d4ebff;}#sk-container-id-37 div.sk-serial::before {content: \"\";position: absolute;border-left: 1px solid gray;box-sizing: border-box;top: 0;bottom: 0;left: 50%;z-index: 0;}#sk-container-id-37 div.sk-serial {display: flex;flex-direction: column;align-items: center;background-color: white;padding-right: 0.2em;padding-left: 0.2em;position: relative;}#sk-container-id-37 div.sk-item {position: relative;z-index: 1;}#sk-container-id-37 div.sk-parallel {display: flex;align-items: stretch;justify-content: center;background-color: white;position: relative;}#sk-container-id-37 div.sk-item::before, #sk-container-id-37 div.sk-parallel-item::before {content: \"\";position: absolute;border-left: 1px solid gray;box-sizing: border-box;top: 0;bottom: 0;left: 50%;z-index: -1;}#sk-container-id-37 div.sk-parallel-item {display: flex;flex-direction: column;z-index: 1;position: relative;background-color: white;}#sk-container-id-37 div.sk-parallel-item:first-child::after {align-self: flex-end;width: 50%;}#sk-container-id-37 div.sk-parallel-item:last-child::after {align-self: flex-start;width: 50%;}#sk-container-id-37 div.sk-parallel-item:only-child::after {width: 0;}#sk-container-id-37 div.sk-dashed-wrapped {border: 1px dashed gray;margin: 0 0.4em 0.5em 0.4em;box-sizing: border-box;padding-bottom: 0.4em;background-color: white;}#sk-container-id-37 div.sk-label label {font-family: monospace;font-weight: bold;display: inline-block;line-height: 1.2em;}#sk-container-id-37 div.sk-label-container {text-align: center;}#sk-container-id-37 div.sk-container {/* jupyter's `normalize.less` sets `[hidden] { display: none; }` but bootstrap.min.css set `[hidden] { display: none !important; }` so we also need the `!important` here to be able to override the default hidden behavior on the sphinx rendered scikit-learn.org. See: https://github.com/scikit-learn/scikit-learn/issues/21755 */display: inline-block !important;position: relative;}#sk-container-id-37 div.sk-text-repr-fallback {display: none;}</style><div id=\"sk-container-id-37\" class=\"sk-top-container\"><div class=\"sk-text-repr-fallback\"><pre>GridSearchCV(cv=StratifiedKFold(n_splits=3, random_state=None, shuffle=False),\n",
       "             estimator=MLPClassifier(),\n",
       "             param_grid={&#x27;activation&#x27;: [&#x27;relu&#x27;], &#x27;early_stopping&#x27;: [True],\n",
       "                         &#x27;hidden_layer_sizes&#x27;: [(8, 8)],\n",
       "                         &#x27;learning_rate&#x27;: [&#x27;constant&#x27;, &#x27;invscaling&#x27;,\n",
       "                                           &#x27;adaptive&#x27;],\n",
       "                         &#x27;learning_rate_init&#x27;: [0.01], &#x27;max_iter&#x27;: [1000],\n",
       "                         &#x27;random_state&#x27;: [42], &#x27;solver&#x27;: [&#x27;sgd&#x27;]},\n",
       "             scoring=&#x27;accuracy&#x27;, verbose=False)</pre><b>In a Jupyter environment, please rerun this cell to show the HTML representation or trust the notebook. <br />On GitHub, the HTML representation is unable to render, please try loading this page with nbviewer.org.</b></div><div class=\"sk-container\" hidden><div class=\"sk-item sk-dashed-wrapped\"><div class=\"sk-label-container\"><div class=\"sk-label sk-toggleable\"><input class=\"sk-toggleable__control sk-hidden--visually\" id=\"sk-estimator-id-109\" type=\"checkbox\" ><label for=\"sk-estimator-id-109\" class=\"sk-toggleable__label sk-toggleable__label-arrow\">GridSearchCV</label><div class=\"sk-toggleable__content\"><pre>GridSearchCV(cv=StratifiedKFold(n_splits=3, random_state=None, shuffle=False),\n",
       "             estimator=MLPClassifier(),\n",
       "             param_grid={&#x27;activation&#x27;: [&#x27;relu&#x27;], &#x27;early_stopping&#x27;: [True],\n",
       "                         &#x27;hidden_layer_sizes&#x27;: [(8, 8)],\n",
       "                         &#x27;learning_rate&#x27;: [&#x27;constant&#x27;, &#x27;invscaling&#x27;,\n",
       "                                           &#x27;adaptive&#x27;],\n",
       "                         &#x27;learning_rate_init&#x27;: [0.01], &#x27;max_iter&#x27;: [1000],\n",
       "                         &#x27;random_state&#x27;: [42], &#x27;solver&#x27;: [&#x27;sgd&#x27;]},\n",
       "             scoring=&#x27;accuracy&#x27;, verbose=False)</pre></div></div></div><div class=\"sk-parallel\"><div class=\"sk-parallel-item\"><div class=\"sk-item\"><div class=\"sk-label-container\"><div class=\"sk-label sk-toggleable\"><input class=\"sk-toggleable__control sk-hidden--visually\" id=\"sk-estimator-id-110\" type=\"checkbox\" ><label for=\"sk-estimator-id-110\" class=\"sk-toggleable__label sk-toggleable__label-arrow\">estimator: MLPClassifier</label><div class=\"sk-toggleable__content\"><pre>MLPClassifier()</pre></div></div></div><div class=\"sk-serial\"><div class=\"sk-item\"><div class=\"sk-estimator sk-toggleable\"><input class=\"sk-toggleable__control sk-hidden--visually\" id=\"sk-estimator-id-111\" type=\"checkbox\" ><label for=\"sk-estimator-id-111\" class=\"sk-toggleable__label sk-toggleable__label-arrow\">MLPClassifier</label><div class=\"sk-toggleable__content\"><pre>MLPClassifier()</pre></div></div></div></div></div></div></div></div></div></div>"
      ],
      "text/plain": [
       "GridSearchCV(cv=StratifiedKFold(n_splits=3, random_state=None, shuffle=False),\n",
       "             estimator=MLPClassifier(),\n",
       "             param_grid={'activation': ['relu'], 'early_stopping': [True],\n",
       "                         'hidden_layer_sizes': [(8, 8)],\n",
       "                         'learning_rate': ['constant', 'invscaling',\n",
       "                                           'adaptive'],\n",
       "                         'learning_rate_init': [0.01], 'max_iter': [1000],\n",
       "                         'random_state': [42], 'solver': ['sgd']},\n",
       "             scoring='accuracy', verbose=False)"
      ]
     },
     "execution_count": 139,
     "metadata": {},
     "output_type": "execute_result"
    }
   ],
   "source": [
    "param_grid_mlp = {\n",
    "    'hidden_layer_sizes': [(8,8)],\n",
    "    'activation': ['relu'],\n",
    "    'solver': ['sgd'],\n",
    "    'early_stopping': [True],\n",
    "    'learning_rate': ['constant', 'invscaling', 'adaptive'],\n",
    "    'learning_rate_init' : [0.01],\n",
    "    'max_iter': [1000],\n",
    "    'random_state': [42]}\n",
    "CV = StratifiedKFold(n_splits = 3)\n",
    "model_1 = GridSearchCV(MLPClassifier(), param_grid_mlp, cv=CV,\n",
    "                     scoring='accuracy',verbose=False)\n",
    "model_1.fit(X_train, y_train)"
   ]
  },
  {
   "cell_type": "code",
   "execution_count": 140,
   "metadata": {
    "colab": {
     "base_uri": "https://localhost:8080/"
    },
    "executionInfo": {
     "elapsed": 3,
     "status": "ok",
     "timestamp": 1716120721312,
     "user": {
      "displayName": "Mohsen Faragheh",
      "userId": "01984594394838132736"
     },
     "user_tz": -210
    },
    "id": "WMsVE_5HKoiF",
    "outputId": "0202cc80-de36-46a9-e0a0-f150fffef348",
    "scrolled": true
   },
   "outputs": [
    {
     "data": {
      "text/plain": [
       "0.9320674212771959"
      ]
     },
     "execution_count": 140,
     "metadata": {},
     "output_type": "execute_result"
    }
   ],
   "source": [
    "model_1.best_score_"
   ]
  },
  {
   "cell_type": "markdown",
   "metadata": {},
   "source": [
    "# C.Tuning"
   ]
  },
  {
   "cell_type": "code",
   "execution_count": 141,
   "metadata": {
    "scrolled": true
   },
   "outputs": [
    {
     "data": {
      "text/html": [
       "<style>#sk-container-id-38 {color: black;background-color: white;}#sk-container-id-38 pre{padding: 0;}#sk-container-id-38 div.sk-toggleable {background-color: white;}#sk-container-id-38 label.sk-toggleable__label {cursor: pointer;display: block;width: 100%;margin-bottom: 0;padding: 0.3em;box-sizing: border-box;text-align: center;}#sk-container-id-38 label.sk-toggleable__label-arrow:before {content: \"▸\";float: left;margin-right: 0.25em;color: #696969;}#sk-container-id-38 label.sk-toggleable__label-arrow:hover:before {color: black;}#sk-container-id-38 div.sk-estimator:hover label.sk-toggleable__label-arrow:before {color: black;}#sk-container-id-38 div.sk-toggleable__content {max-height: 0;max-width: 0;overflow: hidden;text-align: left;background-color: #f0f8ff;}#sk-container-id-38 div.sk-toggleable__content pre {margin: 0.2em;color: black;border-radius: 0.25em;background-color: #f0f8ff;}#sk-container-id-38 input.sk-toggleable__control:checked~div.sk-toggleable__content {max-height: 200px;max-width: 100%;overflow: auto;}#sk-container-id-38 input.sk-toggleable__control:checked~label.sk-toggleable__label-arrow:before {content: \"▾\";}#sk-container-id-38 div.sk-estimator input.sk-toggleable__control:checked~label.sk-toggleable__label {background-color: #d4ebff;}#sk-container-id-38 div.sk-label input.sk-toggleable__control:checked~label.sk-toggleable__label {background-color: #d4ebff;}#sk-container-id-38 input.sk-hidden--visually {border: 0;clip: rect(1px 1px 1px 1px);clip: rect(1px, 1px, 1px, 1px);height: 1px;margin: -1px;overflow: hidden;padding: 0;position: absolute;width: 1px;}#sk-container-id-38 div.sk-estimator {font-family: monospace;background-color: #f0f8ff;border: 1px dotted black;border-radius: 0.25em;box-sizing: border-box;margin-bottom: 0.5em;}#sk-container-id-38 div.sk-estimator:hover {background-color: #d4ebff;}#sk-container-id-38 div.sk-parallel-item::after {content: \"\";width: 100%;border-bottom: 1px solid gray;flex-grow: 1;}#sk-container-id-38 div.sk-label:hover label.sk-toggleable__label {background-color: #d4ebff;}#sk-container-id-38 div.sk-serial::before {content: \"\";position: absolute;border-left: 1px solid gray;box-sizing: border-box;top: 0;bottom: 0;left: 50%;z-index: 0;}#sk-container-id-38 div.sk-serial {display: flex;flex-direction: column;align-items: center;background-color: white;padding-right: 0.2em;padding-left: 0.2em;position: relative;}#sk-container-id-38 div.sk-item {position: relative;z-index: 1;}#sk-container-id-38 div.sk-parallel {display: flex;align-items: stretch;justify-content: center;background-color: white;position: relative;}#sk-container-id-38 div.sk-item::before, #sk-container-id-38 div.sk-parallel-item::before {content: \"\";position: absolute;border-left: 1px solid gray;box-sizing: border-box;top: 0;bottom: 0;left: 50%;z-index: -1;}#sk-container-id-38 div.sk-parallel-item {display: flex;flex-direction: column;z-index: 1;position: relative;background-color: white;}#sk-container-id-38 div.sk-parallel-item:first-child::after {align-self: flex-end;width: 50%;}#sk-container-id-38 div.sk-parallel-item:last-child::after {align-self: flex-start;width: 50%;}#sk-container-id-38 div.sk-parallel-item:only-child::after {width: 0;}#sk-container-id-38 div.sk-dashed-wrapped {border: 1px dashed gray;margin: 0 0.4em 0.5em 0.4em;box-sizing: border-box;padding-bottom: 0.4em;background-color: white;}#sk-container-id-38 div.sk-label label {font-family: monospace;font-weight: bold;display: inline-block;line-height: 1.2em;}#sk-container-id-38 div.sk-label-container {text-align: center;}#sk-container-id-38 div.sk-container {/* jupyter's `normalize.less` sets `[hidden] { display: none; }` but bootstrap.min.css set `[hidden] { display: none !important; }` so we also need the `!important` here to be able to override the default hidden behavior on the sphinx rendered scikit-learn.org. See: https://github.com/scikit-learn/scikit-learn/issues/21755 */display: inline-block !important;position: relative;}#sk-container-id-38 div.sk-text-repr-fallback {display: none;}</style><div id=\"sk-container-id-38\" class=\"sk-top-container\"><div class=\"sk-text-repr-fallback\"><pre>GridSearchCV(cv=StratifiedKFold(n_splits=3, random_state=None, shuffle=False),\n",
       "             estimator=MLPClassifier(),\n",
       "             param_grid={&#x27;activation&#x27;: [&#x27;tanh&#x27;, &#x27;relu&#x27;],\n",
       "                         &#x27;early_stopping&#x27;: [True],\n",
       "                         &#x27;hidden_layer_sizes&#x27;: [8, 16, 32, (8, 4), (8, 8),\n",
       "                                                (16, 16), (16, 8), (32, 32),\n",
       "                                                (8, 4, 8), (8, 16, 8),\n",
       "                                                (8, 8, 8)],\n",
       "                         &#x27;learning_rate&#x27;: [&#x27;constant&#x27;, &#x27;invscaling&#x27;,\n",
       "                                           &#x27;adaptive&#x27;],\n",
       "                         &#x27;learning_rate_init&#x27;: [0.1, 0.01, 0.05, 0.001],\n",
       "                         &#x27;max_iter&#x27;: [1000, 2000], &#x27;random_state&#x27;: [42],\n",
       "                         &#x27;solver&#x27;: [&#x27;adam&#x27;, &#x27;sgd&#x27;]},\n",
       "             scoring=&#x27;accuracy&#x27;, verbose=False)</pre><b>In a Jupyter environment, please rerun this cell to show the HTML representation or trust the notebook. <br />On GitHub, the HTML representation is unable to render, please try loading this page with nbviewer.org.</b></div><div class=\"sk-container\" hidden><div class=\"sk-item sk-dashed-wrapped\"><div class=\"sk-label-container\"><div class=\"sk-label sk-toggleable\"><input class=\"sk-toggleable__control sk-hidden--visually\" id=\"sk-estimator-id-112\" type=\"checkbox\" ><label for=\"sk-estimator-id-112\" class=\"sk-toggleable__label sk-toggleable__label-arrow\">GridSearchCV</label><div class=\"sk-toggleable__content\"><pre>GridSearchCV(cv=StratifiedKFold(n_splits=3, random_state=None, shuffle=False),\n",
       "             estimator=MLPClassifier(),\n",
       "             param_grid={&#x27;activation&#x27;: [&#x27;tanh&#x27;, &#x27;relu&#x27;],\n",
       "                         &#x27;early_stopping&#x27;: [True],\n",
       "                         &#x27;hidden_layer_sizes&#x27;: [8, 16, 32, (8, 4), (8, 8),\n",
       "                                                (16, 16), (16, 8), (32, 32),\n",
       "                                                (8, 4, 8), (8, 16, 8),\n",
       "                                                (8, 8, 8)],\n",
       "                         &#x27;learning_rate&#x27;: [&#x27;constant&#x27;, &#x27;invscaling&#x27;,\n",
       "                                           &#x27;adaptive&#x27;],\n",
       "                         &#x27;learning_rate_init&#x27;: [0.1, 0.01, 0.05, 0.001],\n",
       "                         &#x27;max_iter&#x27;: [1000, 2000], &#x27;random_state&#x27;: [42],\n",
       "                         &#x27;solver&#x27;: [&#x27;adam&#x27;, &#x27;sgd&#x27;]},\n",
       "             scoring=&#x27;accuracy&#x27;, verbose=False)</pre></div></div></div><div class=\"sk-parallel\"><div class=\"sk-parallel-item\"><div class=\"sk-item\"><div class=\"sk-label-container\"><div class=\"sk-label sk-toggleable\"><input class=\"sk-toggleable__control sk-hidden--visually\" id=\"sk-estimator-id-113\" type=\"checkbox\" ><label for=\"sk-estimator-id-113\" class=\"sk-toggleable__label sk-toggleable__label-arrow\">estimator: MLPClassifier</label><div class=\"sk-toggleable__content\"><pre>MLPClassifier()</pre></div></div></div><div class=\"sk-serial\"><div class=\"sk-item\"><div class=\"sk-estimator sk-toggleable\"><input class=\"sk-toggleable__control sk-hidden--visually\" id=\"sk-estimator-id-114\" type=\"checkbox\" ><label for=\"sk-estimator-id-114\" class=\"sk-toggleable__label sk-toggleable__label-arrow\">MLPClassifier</label><div class=\"sk-toggleable__content\"><pre>MLPClassifier()</pre></div></div></div></div></div></div></div></div></div></div>"
      ],
      "text/plain": [
       "GridSearchCV(cv=StratifiedKFold(n_splits=3, random_state=None, shuffle=False),\n",
       "             estimator=MLPClassifier(),\n",
       "             param_grid={'activation': ['tanh', 'relu'],\n",
       "                         'early_stopping': [True],\n",
       "                         'hidden_layer_sizes': [8, 16, 32, (8, 4), (8, 8),\n",
       "                                                (16, 16), (16, 8), (32, 32),\n",
       "                                                (8, 4, 8), (8, 16, 8),\n",
       "                                                (8, 8, 8)],\n",
       "                         'learning_rate': ['constant', 'invscaling',\n",
       "                                           'adaptive'],\n",
       "                         'learning_rate_init': [0.1, 0.01, 0.05, 0.001],\n",
       "                         'max_iter': [1000, 2000], 'random_state': [42],\n",
       "                         'solver': ['adam', 'sgd']},\n",
       "             scoring='accuracy', verbose=False)"
      ]
     },
     "execution_count": 141,
     "metadata": {},
     "output_type": "execute_result"
    }
   ],
   "source": [
    "param_grid_mlp = {\n",
    "    'hidden_layer_sizes': [(8),(16), (32), (8,4),(8,8),(16,16),(16,8),(32,32),(8,4,8),(8,16,8),(8,8,8)],\n",
    "    'activation': ['tanh', 'relu'],\n",
    "    'solver': ['adam', 'sgd'],\n",
    "    'early_stopping': [True],\n",
    "    'learning_rate': ['constant', 'invscaling', 'adaptive'],\n",
    "    'learning_rate_init' : [0.1, 0.01, 0.05, 0.001],\n",
    "    'max_iter': [1000,2000],\n",
    "    'random_state': [42]}\n",
    "CV = StratifiedKFold(n_splits = 3)\n",
    "model_2 = GridSearchCV(MLPClassifier(), param_grid_mlp, cv=CV,\n",
    "                     scoring='accuracy',verbose=False)\n",
    "model_2.fit(X_train, y_train)"
   ]
  },
  {
   "cell_type": "code",
   "execution_count": 142,
   "metadata": {
    "scrolled": false
   },
   "outputs": [
    {
     "data": {
      "text/plain": [
       "{'activation': 'relu',\n",
       " 'early_stopping': True,\n",
       " 'hidden_layer_sizes': (8, 16, 8),\n",
       " 'learning_rate': 'constant',\n",
       " 'learning_rate_init': 0.01,\n",
       " 'max_iter': 1000,\n",
       " 'random_state': 42,\n",
       " 'solver': 'adam'}"
      ]
     },
     "execution_count": 142,
     "metadata": {},
     "output_type": "execute_result"
    }
   ],
   "source": [
    "model_2.best_params_"
   ]
  },
  {
   "cell_type": "code",
   "execution_count": 143,
   "metadata": {},
   "outputs": [
    {
     "data": {
      "text/plain": [
       "0.9708910751436933"
      ]
     },
     "execution_count": 143,
     "metadata": {},
     "output_type": "execute_result"
    }
   ],
   "source": [
    "model_2.best_score_"
   ]
  },
  {
   "cell_type": "code",
   "execution_count": 144,
   "metadata": {},
   "outputs": [],
   "source": [
    "model_3 = MLPClassifier(**model_2.best_params_)"
   ]
  },
  {
   "cell_type": "code",
   "execution_count": 145,
   "metadata": {},
   "outputs": [
    {
     "data": {
      "text/html": [
       "<div>\n",
       "<style scoped>\n",
       "    .dataframe tbody tr th:only-of-type {\n",
       "        vertical-align: middle;\n",
       "    }\n",
       "\n",
       "    .dataframe tbody tr th {\n",
       "        vertical-align: top;\n",
       "    }\n",
       "\n",
       "    .dataframe thead th {\n",
       "        text-align: right;\n",
       "    }\n",
       "</style>\n",
       "<table border=\"1\" class=\"dataframe\">\n",
       "  <thead>\n",
       "    <tr style=\"text-align: right;\">\n",
       "      <th></th>\n",
       "      <th>Accuracy</th>\n",
       "    </tr>\n",
       "  </thead>\n",
       "  <tbody>\n",
       "    <tr>\n",
       "      <th>0</th>\n",
       "      <td>0.963768</td>\n",
       "    </tr>\n",
       "    <tr>\n",
       "      <th>1</th>\n",
       "      <td>0.978102</td>\n",
       "    </tr>\n",
       "    <tr>\n",
       "      <th>2</th>\n",
       "      <td>0.970803</td>\n",
       "    </tr>\n",
       "  </tbody>\n",
       "</table>\n",
       "</div>"
      ],
      "text/plain": [
       "   Accuracy\n",
       "0  0.963768\n",
       "1  0.978102\n",
       "2  0.970803"
      ]
     },
     "metadata": {},
     "output_type": "display_data"
    },
    {
     "name": "stdout",
     "output_type": "stream",
     "text": [
      "The Average of CV 3 Fold Scores --> 0.9708910751436933\n"
     ]
    }
   ],
   "source": [
    "model_3.fit(X_train, y_train)\n",
    "CV = StratifiedKFold(n_splits = 3)\n",
    "CV_scores = cross_val_score(model_3, X_train, y_train, cv=CV)\n",
    "CV_score_df = pd.DataFrame(CV_scores, columns = ['Accuracy'])\n",
    "display(CV_score_df)\n",
    "print('The Average of CV 3 Fold Scores -->', CV_score_df.Accuracy.mean())"
   ]
  },
  {
   "cell_type": "markdown",
   "metadata": {},
   "source": [
    "## Implementation on test data"
   ]
  },
  {
   "cell_type": "code",
   "execution_count": 146,
   "metadata": {
    "scrolled": true
   },
   "outputs": [
    {
     "name": "stdout",
     "output_type": "stream",
     "text": [
      "Confusion matrix:\n",
      "[[137   1]\n",
      " [ 11  74]]\n",
      "\n",
      "Report:\n",
      "               precision    recall  f1-score   support\n",
      "\n",
      "         0.0       0.93      0.99      0.96       138\n",
      "         1.0       0.99      0.87      0.93        85\n",
      "\n",
      "    accuracy                           0.95       223\n",
      "   macro avg       0.96      0.93      0.94       223\n",
      "weighted avg       0.95      0.95      0.95       223\n",
      "\n",
      "Accuracy: 94.62%\n",
      "Precision: 98.67%\n",
      "Recall: 87.06%\n",
      "F1 score: 92.50%\n",
      "AUC: 93.17%\n"
     ]
    }
   ],
   "source": [
    "y_predict = model_3.predict(X_test)\n",
    "confusion = confusion_matrix(Y_test, y_predict)\n",
    "accuracy = accuracy_score(Y_test, y_predict)\n",
    "precision = precision_score(Y_test, y_predict)\n",
    "recall = recall_score(Y_test, y_predict)\n",
    "f1 = f1_score(Y_test, y_predict)\n",
    "auc = roc_auc_score(Y_test, y_predict)\n",
    "\n",
    "# Print the results\n",
    "print(\"Confusion matrix:\")\n",
    "print(confusion)\n",
    "print('\\nReport:\\n', classification_report(Y_test, y_predict))\n",
    "print(\"Accuracy: {:.2f}%\".format(accuracy * 100))\n",
    "print(\"Precision: {:.2f}%\".format(precision * 100))\n",
    "print(\"Recall: {:.2f}%\".format(recall * 100))\n",
    "print(\"F1 score: {:.2f}%\".format(f1 * 100))\n",
    "print(\"AUC: {:.2f}%\".format(auc * 100))"
   ]
  },
  {
   "cell_type": "code",
   "execution_count": 87,
   "metadata": {
    "scrolled": true
   },
   "outputs": [
    {
     "data": {
      "text/plain": [
       "Text(45.722222222222214, 0.5, 'Real')"
      ]
     },
     "execution_count": 87,
     "metadata": {},
     "output_type": "execute_result"
    },
    {
     "data": {
      "image/png": "[encoded data removed]",
      "text/plain": [
       "<Figure size 600x500 with 2 Axes>"
      ]
     },
     "metadata": {},
     "output_type": "display_data"
    }
   ],
   "source": [
    "plt.figure(figsize=(6,5))\n",
    "sns.heatmap(confusion, annot=True)\n",
    "plt.xlabel('Predicted')\n",
    "plt.ylabel('Real')"
   ]
  },
  {
   "cell_type": "code",
   "execution_count": null,
   "metadata": {},
   "outputs": [],
   "source": []
  }
 ],
 "metadata": {
  "colab": {
   "provenance": [
    {
     "file_id": "1ZRGKg6t_H--O7Hkk5TfXQPdI74CgQb59",
     "timestamp": 1716111514127
    }
   ],
   "toc_visible": true
  },
  "kernelspec": {
   "display_name": "Python 3 (ipykernel)",
   "language": "python",
   "name": "python3"
  },
  "language_info": {
   "codemirror_mode": {
    "name": "ipython",
    "version": 3
   },
   "file_extension": ".py",
   "mimetype": "text/x-python",
   "name": "python",
   "nbconvert_exporter": "python",
   "pygments_lexer": "ipython3",
   "version": "3.10.9"
  },
  "nbTranslate": {
   "displayLangs": [
    "*"
   ],
   "hotkey": "alt-t",
   "langInMainMenu": true,
   "sourceLang": "en",
   "targetLang": "fr",
   "useGoogleTranslate": true
  }
 },
 "nbformat": 4,
 "nbformat_minor": 1
}
