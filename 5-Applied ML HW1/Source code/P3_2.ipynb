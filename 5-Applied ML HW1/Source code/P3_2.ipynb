{
  "cells": [
    {
      "cell_type": "code",
      "execution_count": null,
      "metadata": {
        "colab": {
          "base_uri": "https://localhost:8080/"
        },
        "id": "QHvlfRsj1xY4",
        "outputId": "a7f4c1b7-82b2-4050-f8c0-a231eb635ec3"
      },
      "outputs": [
        {
          "name": "stdout",
          "output_type": "stream",
          "text": [
            "Drive already mounted at /content/drive; to attempt to forcibly remount, call drive.mount(\"/content/drive\", force_remount=True).\n"
          ]
        }
      ],
      "source": [
        "from google.colab import drive\n",
        "drive.mount('/content/drive')"
      ]
    },
    {
      "cell_type": "code",
      "execution_count": null,
      "metadata": {
        "colab": {
          "base_uri": "https://localhost:8080/"
        },
        "id": "FrPmDyB72ELE",
        "outputId": "784b05ea-8689-42a2-e93f-f33b65a75aaa"
      },
      "outputs": [
        {
          "name": "stdout",
          "output_type": "stream",
          "text": [
            "/content/drive/MyDrive/The files\n"
          ]
        }
      ],
      "source": [
        "%cd /content/drive/MyDrive/The files"
      ]
    },
    {
      "cell_type": "code",
      "execution_count": null,
      "metadata": {
        "id": "UaxVCG9d2eBc"
      },
      "outputs": [],
      "source": [
        "import pandas as pd\n",
        "import re\n",
        "import string\n",
        "import datetime\n",
        "import numpy as np\n",
        "import matplotlib.pyplot as plt\n",
        "import seaborn as sns\n",
        "import nltk\n",
        "from nltk.corpus import stopwords\n",
        "from nltk.tokenize import word_tokenize\n",
        "from nltk.stem import PorterStemmer\n",
        "from nltk.stem import WordNetLemmatizer\n",
        "from hazm import Normalizer, word_tokenize, sent_tokenize\n",
        "from sklearn.feature_extraction.text import TfidfVectorizer\n",
        "from collections import Counter\n",
        "from wordcloud import WordCloud\n",
        "import matplotlib.pyplot as plt\n",
        "from wordcloud_fa import WordCloudFa"
      ]
    },
    {
      "cell_type": "code",
      "execution_count": null,
      "metadata": {
        "id": "RzHcnGw12Zon"
      },
      "outputs": [],
      "source": [
        "dfList = [pd.read_excel(f'parsed_data_part_{i}.xlsx') for i in range(0,11)]"
      ]
    },
    {
      "cell_type": "code",
      "execution_count": null,
      "metadata": {
        "id": "PKhWgpFn2qxj"
      },
      "outputs": [],
      "source": [
        "df = pd.concat(dfList, axis=0)\n"
      ]
    },
    {
      "cell_type": "code",
      "execution_count": null,
      "metadata": {
        "colab": {
          "base_uri": "https://localhost:8080/"
        },
        "id": "p-KFVNzT2ttp",
        "outputId": "0054fddb-1b68-4a54-8d66-237ee88caf66"
      },
      "outputs": [
        {
          "name": "stdout",
          "output_type": "stream",
          "text": [
            "Decoding successful with encoding: utf-8\n"
          ]
        },
        {
          "name": "stderr",
          "output_type": "stream",
          "text": [
            "<ipython-input-17-ca3682915555>:14: FutureWarning: The default value of regex will change from True to False in a future version. In addition, single character regular expressions will *not* be treated as literal strings when regex=True.\n",
            "  df['Date'] = df['Date'].str.replace('\\\\', '-')\n"
          ]
        }
      ],
      "source": [
        "# Try to decode using different encodings\n",
        "encodings_to_try = [ 'utf-8','latin-1', 'utf-16', 'ascii']  # Add other encodings as needed\n",
        "for encoding in encodings_to_try:\n",
        "    try:\n",
        "        decoded_content = df['Content'].apply(lambda x: x if isinstance(x, str) else str(x))\n",
        "        decoded_content.apply(lambda x: x.encode(encoding).decode(encoding))\n",
        "        print(f\"Decoding successful with encoding: {encoding}\")\n",
        "        break\n",
        "    except UnicodeDecodeError:\n",
        "        print(f\"Failed to decode with encoding: {encoding}\")\n",
        "\n",
        "# Remove the \"\\n\" characters from the text column\n",
        "df['Content'] = df['Content'].str.replace('\\n', '')\n",
        "df['Date'] = df['Date'].str.replace('\\\\', '-')\n",
        "df[\"DID\"] = df[\"DID\"].astype(\"str\")\n",
        "df['Cat'] = df['Cat'].astype('category')\n",
        "df[\"Content\"] = df[\"Content\"].astype(\"str\")\n",
        "# Function to remove punctuation from text\n",
        "def remove_punctuation(text):\n",
        "    # Define a translation table with all punctuation characters mapped to None\n",
        "    translator = str.maketrans('', '', string.punctuation)\n",
        "    # Remove punctuation using the translation table\n",
        "    return text.translate(translator)\n",
        "\n",
        "# Apply the function to the \"Content\" column\n",
        "df['Content'] = df['Content'].apply(remove_punctuation)\n",
        "df\n",
        "# Function to remove numbers from text using regular expressions\n",
        "def remove_numbers(text):\n",
        "    # Use regular expression to remove all numbers\n",
        "    return re.sub(r'\\d+', '', text)\n",
        "\n",
        "# Apply the function to the \"Content\" column\n",
        "df['Content'] = df['Content'].apply(remove_numbers)\n",
        "\n",
        "# Display the DataFrame\n",
        "df\n",
        "from hazm import WordTokenizer , Lemmatizer,stopwords_list\n",
        "tokenizer = WordTokenizer()\n",
        "df['Tokenized_Content'] = df['Content'].apply(lambda text: tokenizer.tokenize(text))\n",
        "# Read stop words from the text file\n",
        "with open(\"PersianStopWords.txt\", \"r\", encoding=\"utf-8\") as file:\n",
        "    stop_words = set(file.read().splitlines())\n",
        "\n",
        "# Define a function to remove stop words\n",
        "def remove_stop_words(tokens):\n",
        "    return [word for word in tokens if word not in stop_words]\n",
        "\n",
        "# Apply the function to the \"Tokenized_Content\" column\n",
        "df['Tokenized_Content'] = df['Tokenized_Content'].apply(remove_stop_words)"
      ]
    },
    {
      "cell_type": "code",
      "execution_count": null,
      "metadata": {
        "id": "dbd5SOAL7VJO"
      },
      "outputs": [],
      "source": [
        "df['Tokenized_Content'] = df['Tokenized_Content'].apply(lambda tokens: ' '.join(tokens))"
      ]
    },
    {
      "cell_type": "code",
      "execution_count": null,
      "metadata": {
        "id": "vAQnyCdU7tmV"
      },
      "outputs": [],
      "source": [
        "normalizer = Normalizer()\n",
        "df['Tokenized_Content'] = df['Tokenized_Content'].apply(lambda text: normalizer.normalize(text))"
      ]
    },
    {
      "cell_type": "code",
      "execution_count": null,
      "metadata": {
        "id": "XFTGOm9R7vZT"
      },
      "outputs": [],
      "source": [
        "df['Content'] = df['Tokenized_Content']"
      ]
    },
    {
      "cell_type": "code",
      "execution_count": null,
      "metadata": {
        "id": "mH-z825v3CJu"
      },
      "outputs": [],
      "source": [
        "random_sample = df.sample(n=50000)"
      ]
    },
    {
      "cell_type": "code",
      "execution_count": null,
      "metadata": {
        "id": "j3J6ZFbA3a3-"
      },
      "outputs": [],
      "source": [
        "wc = WordCloudFa(no_reshape=True, width=1200, height=800)"
      ]
    },
    {
      "cell_type": "code",
      "execution_count": null,
      "metadata": {
        "id": "9SlxoKpq33vB"
      },
      "outputs": [],
      "source": [
        "text = ' '.join(random_sample['Content'].astype(str))"
      ]
    },
    {
      "cell_type": "code",
      "execution_count": null,
      "metadata": {
        "id": "dRf2a1us5_RF"
      },
      "outputs": [],
      "source": [
        "word_cloud = wc.generate(text)"
      ]
    },
    {
      "cell_type": "code",
      "execution_count": null,
      "metadata": {
        "id": "7e5k17mG6AFh"
      },
      "outputs": [],
      "source": [
        "image = word_cloud.to_image()"
      ]
    },
    {
      "cell_type": "code",
      "execution_count": null,
      "metadata": {
        "id": "F5zPTPrhYCD1"
      },
      "outputs": [],
      "source": [
        "image.save('persian-example.png')"
      ]
    },
    {
      "cell_type": "code",
      "execution_count": null,
      "metadata": {
        "colab": {
          "base_uri": "https://localhost:8080/"
        },
        "id": "JITraNtfpUWk",
        "outputId": "2f0f7215-8c5a-44ba-9939-20e5e5f7c696"
      },
      "outputs": [
        {
          "name": "stdout",
          "output_type": "stream",
          "text": [
            "Requirement already satisfied: polyglot in /usr/local/lib/python3.10/dist-packages (16.7.4)\n"
          ]
        }
      ],
      "source": [
        "%pip install polyglot"
      ]
    },
    {
      "cell_type": "code",
      "execution_count": null,
      "metadata": {
        "colab": {
          "base_uri": "https://localhost:8080/"
        },
        "id": "HUpAYesXpuU7",
        "outputId": "a84f973b-5669-4d96-8288-b07a0b830d2e"
      },
      "outputs": [
        {
          "name": "stdout",
          "output_type": "stream",
          "text": [
            "Requirement already satisfied: icu in /usr/local/lib/python3.10/dist-packages (0.0.1)\n"
          ]
        }
      ],
      "source": [
        "%pip install icu"
      ]
    },
    {
      "cell_type": "code",
      "execution_count": null,
      "metadata": {
        "colab": {
          "base_uri": "https://localhost:8080/"
        },
        "id": "b9xZo7mxp7Nr",
        "outputId": "d9d0a38c-26c7-483a-bedd-91e8ea7f8c97"
      },
      "outputs": [
        {
          "name": "stdout",
          "output_type": "stream",
          "text": [
            "Requirement already satisfied: pyicu in /usr/local/lib/python3.10/dist-packages (2.12)\n"
          ]
        }
      ],
      "source": [
        "%pip install pyicu"
      ]
    },
    {
      "cell_type": "code",
      "execution_count": null,
      "metadata": {
        "colab": {
          "base_uri": "https://localhost:8080/"
        },
        "id": "eY_QIY3Fp85k",
        "outputId": "7ccbdba8-1caf-4d5c-820e-f283fceebb38"
      },
      "outputs": [
        {
          "name": "stdout",
          "output_type": "stream",
          "text": [
            "Collecting pycld2\n",
            "  Using cached pycld2-0.41.tar.gz (41.4 MB)\n",
            "  Preparing metadata (setup.py) ... \u001b[?25l\u001b[?25hdone\n",
            "Building wheels for collected packages: pycld2\n",
            "  Building wheel for pycld2 (setup.py) ... \u001b[?25l\u001b[?25hdone\n",
            "  Created wheel for pycld2: filename=pycld2-0.41-cp310-cp310-linux_x86_64.whl size=9904035 sha256=26a664dcf3ecf4fa8e403c7c309938fc49d0aefbee7ae034792153d78953e4fb\n",
            "  Stored in directory: /root/.cache/pip/wheels/be/81/31/240c89c845e008a93d98542325270007de595bfd356eb0b06c\n",
            "Successfully built pycld2\n",
            "Installing collected packages: pycld2\n",
            "Successfully installed pycld2-0.41\n"
          ]
        }
      ],
      "source": [
        "%pip install pycld2"
      ]
    },
    {
      "cell_type": "code",
      "execution_count": null,
      "metadata": {
        "colab": {
          "base_uri": "https://localhost:8080/"
        },
        "id": "2E8aWPEwqDST",
        "outputId": "41af8408-1517-435c-deb1-d4dcf5ef2dd2"
      },
      "outputs": [
        {
          "name": "stdout",
          "output_type": "stream",
          "text": [
            "Requirement already satisfied: morfessor in /usr/local/lib/python3.10/dist-packages (2.0.6)\n"
          ]
        }
      ],
      "source": [
        "%pip install morfessor"
      ]
    },
    {
      "cell_type": "code",
      "execution_count": null,
      "metadata": {
        "colab": {
          "base_uri": "https://localhost:8080/"
        },
        "id": "p-kyh5YI10qL",
        "outputId": "2c509d2c-bbc1-4a9e-d1d5-0aef1aa686e1"
      },
      "outputs": [
        {
          "name": "stdout",
          "output_type": "stream",
          "text": [
            "[polyglot_data] Downloading collection 'LANG:fa'\n",
            "[polyglot_data]    | \n",
            "[polyglot_data]    | Downloading package sgns2.fa to\n",
            "[polyglot_data]    |     /root/polyglot_data...\n",
            "[polyglot_data]    | Downloading package unipos.fa to\n",
            "[polyglot_data]    |     /root/polyglot_data...\n",
            "[polyglot_data]    | Downloading package ner2.fa to\n",
            "[polyglot_data]    |     /root/polyglot_data...\n",
            "[polyglot_data]    | Downloading package counts2.fa to\n",
            "[polyglot_data]    |     /root/polyglot_data...\n",
            "[polyglot_data]    | Downloading package transliteration2.fa to\n",
            "[polyglot_data]    |     /root/polyglot_data...\n",
            "[polyglot_data]    | Downloading package embeddings2.fa to\n",
            "[polyglot_data]    |     /root/polyglot_data...\n",
            "[polyglot_data]    | Downloading package uniemb.fa to\n",
            "[polyglot_data]    |     /root/polyglot_data...\n",
            "[polyglot_data]    | Downloading package sentiment2.fa to\n",
            "[polyglot_data]    |     /root/polyglot_data...\n",
            "[polyglot_data]    | Downloading package tsne2.fa to\n",
            "[polyglot_data]    |     /root/polyglot_data...\n",
            "[polyglot_data]    | Downloading package morph2.fa to\n",
            "[polyglot_data]    |     /root/polyglot_data...\n",
            "[polyglot_data]    | \n",
            "[polyglot_data]  Done downloading collection LANG:fa\n"
          ]
        }
      ],
      "source": [
        "!polyglot download LANG:fa"
      ]
    },
    {
      "cell_type": "code",
      "execution_count": null,
      "metadata": {
        "colab": {
          "base_uri": "https://localhost:8080/"
        },
        "id": "XujLpuloAT6z",
        "outputId": "1723b7f2-23f9-471a-a14a-c20eab5ba85c"
      },
      "outputs": [
        {
          "name": "stdout",
          "output_type": "stream",
          "text": [
            "[polyglot_data] Downloading package sentiment2.fa to\n",
            "[polyglot_data]     /root/polyglot_data...\n",
            "[polyglot_data]   Package sentiment2.fa is already up-to-date!\n"
          ]
        }
      ],
      "source": [
        "!polyglot download sentiment2.fa"
      ]
    },
    {
      "cell_type": "code",
      "execution_count": null,
      "metadata": {
        "id": "tIBwyv1Xpa15"
      },
      "outputs": [],
      "source": [
        "from polyglot.text import Text"
      ]
    },
    {
      "cell_type": "code",
      "execution_count": null,
      "metadata": {
        "id": "JkT8IBJM-hOL"
      },
      "outputs": [],
      "source": [
        "from hazm import SentenceTokenizer"
      ]
    },
    {
      "cell_type": "code",
      "execution_count": null,
      "metadata": {
        "id": "Tf0ElaxP-Lox"
      },
      "outputs": [],
      "source": [
        "tokenizer = SentenceTokenizer()\n",
        "df['Tokenized_Sentences'] = df['Content'].apply(lambda text: tokenizer.tokenize(text))"
      ]
    },
    {
      "cell_type": "code",
      "execution_count": null,
      "metadata": {
        "id": "paFDKLrnpstF"
      },
      "outputs": [],
      "source": [
        "from polyglot.text import Text\n",
        "\n",
        "def analyze_sentiment(sentences):\n",
        "    try:\n",
        "        avg_polarity = []\n",
        "\n",
        "        # Iterate through each sentence in the list of sentences\n",
        "        for text in sentences:\n",
        "            # Create a Polyglot Text object from the input text with language set to Persian\n",
        "            text_obj = Text(text)\n",
        "\n",
        "            # Initialize variables to track sentiment polarity\n",
        "            polarity = 0\n",
        "\n",
        "            # Iterate through words in each sentence\n",
        "            for sentence in text_obj.sentences:\n",
        "                for word in sentence.words:\n",
        "                    # Update polarity based on each word's polarity in the sentence\n",
        "                    polarity += word.polarity\n",
        "\n",
        "            # Append the polarity of the current sentence to the list\n",
        "            avg_polarity.append(polarity)\n",
        "\n",
        "        # Calculate the average polarity for all sentences in the row\n",
        "        if avg_polarity:\n",
        "            average_polarity = sum(avg_polarity) / len(avg_polarity)\n",
        "        else:\n",
        "            average_polarity = None\n",
        "\n",
        "        return average_polarity\n",
        "    except Exception as e:\n",
        "        # Handle any errors that may occur during sentiment analysis\n",
        "        print(f\"Error occurred: {e}\")\n",
        "        return None\n",
        "\n",
        "\n"
      ]
    },
    {
      "cell_type": "code",
      "execution_count": null,
      "metadata": {
        "colab": {
          "base_uri": "https://localhost:8080/"
        },
        "id": "74-kv1GPq8d_",
        "outputId": "6b428137-bbea-4d7a-ce82-b4d3eff8b32b"
      },
      "outputs": [
        {
          "name": "stderr",
          "output_type": "stream",
          "text": [
            "WARNING:polyglot.detect.base:Detector is not able to detect the language reliably.\n",
            "WARNING:polyglot.detect.base:Detector is not able to detect the language reliably.\n",
            "WARNING:polyglot.detect.base:Detector is not able to detect the language reliably.\n",
            "WARNING:polyglot.detect.base:Detector is not able to detect the language reliably.\n",
            "WARNING:polyglot.detect.base:Detector is not able to detect the language reliably.\n",
            "WARNING:polyglot.detect.base:Detector is not able to detect the language reliably.\n",
            "WARNING:polyglot.detect.base:Detector is not able to detect the language reliably.\n",
            "WARNING:polyglot.detect.base:Detector is not able to detect the language reliably.\n",
            "WARNING:polyglot.detect.base:Detector is not able to detect the language reliably.\n",
            "WARNING:polyglot.detect.base:Detector is not able to detect the language reliably.\n",
            "WARNING:polyglot.detect.base:Detector is not able to detect the language reliably.\n",
            "WARNING:polyglot.detect.base:Detector is not able to detect the language reliably.\n",
            "WARNING:polyglot.detect.base:Detector is not able to detect the language reliably.\n",
            "WARNING:polyglot.detect.base:Detector is not able to detect the language reliably.\n",
            "WARNING:polyglot.detect.base:Detector is not able to detect the language reliably.\n",
            "WARNING:polyglot.detect.base:Detector is not able to detect the language reliably.\n",
            "WARNING:polyglot.detect.base:Detector is not able to detect the language reliably.\n",
            "WARNING:polyglot.detect.base:Detector is not able to detect the language reliably.\n",
            "WARNING:polyglot.detect.base:Detector is not able to detect the language reliably.\n",
            "WARNING:polyglot.detect.base:Detector is not able to detect the language reliably.\n",
            "WARNING:polyglot.detect.base:Detector is not able to detect the language reliably.\n",
            "WARNING:polyglot.detect.base:Detector is not able to detect the language reliably.\n",
            "WARNING:polyglot.detect.base:Detector is not able to detect the language reliably.\n",
            "WARNING:polyglot.detect.base:Detector is not able to detect the language reliably.\n",
            "WARNING:polyglot.detect.base:Detector is not able to detect the language reliably.\n",
            "WARNING:polyglot.detect.base:Detector is not able to detect the language reliably.\n",
            "WARNING:polyglot.detect.base:Detector is not able to detect the language reliably.\n",
            "WARNING:polyglot.detect.base:Detector is not able to detect the language reliably.\n",
            "WARNING:polyglot.detect.base:Detector is not able to detect the language reliably.\n",
            "WARNING:polyglot.detect.base:Detector is not able to detect the language reliably.\n",
            "WARNING:polyglot.detect.base:Detector is not able to detect the language reliably.\n",
            "WARNING:polyglot.detect.base:Detector is not able to detect the language reliably.\n",
            "WARNING:polyglot.detect.base:Detector is not able to detect the language reliably.\n",
            "WARNING:polyglot.detect.base:Detector is not able to detect the language reliably.\n",
            "WARNING:polyglot.detect.base:Detector is not able to detect the language reliably.\n",
            "WARNING:polyglot.detect.base:Detector is not able to detect the language reliably.\n",
            "WARNING:polyglot.detect.base:Detector is not able to detect the language reliably.\n",
            "WARNING:polyglot.detect.base:Detector is not able to detect the language reliably.\n",
            "WARNING:polyglot.detect.base:Detector is not able to detect the language reliably.\n",
            "WARNING:polyglot.detect.base:Detector is not able to detect the language reliably.\n",
            "WARNING:polyglot.detect.base:Detector is not able to detect the language reliably.\n",
            "WARNING:polyglot.detect.base:Detector is not able to detect the language reliably.\n",
            "WARNING:polyglot.detect.base:Detector is not able to detect the language reliably.\n",
            "WARNING:polyglot.detect.base:Detector is not able to detect the language reliably.\n",
            "WARNING:polyglot.detect.base:Detector is not able to detect the language reliably.\n",
            "WARNING:polyglot.detect.base:Detector is not able to detect the language reliably.\n",
            "WARNING:polyglot.detect.base:Detector is not able to detect the language reliably.\n",
            "WARNING:polyglot.detect.base:Detector is not able to detect the language reliably.\n",
            "WARNING:polyglot.detect.base:Detector is not able to detect the language reliably.\n",
            "WARNING:polyglot.detect.base:Detector is not able to detect the language reliably.\n",
            "WARNING:polyglot.detect.base:Detector is not able to detect the language reliably.\n",
            "WARNING:polyglot.detect.base:Detector is not able to detect the language reliably.\n",
            "WARNING:polyglot.detect.base:Detector is not able to detect the language reliably.\n",
            "WARNING:polyglot.detect.base:Detector is not able to detect the language reliably.\n",
            "WARNING:polyglot.detect.base:Detector is not able to detect the language reliably.\n",
            "WARNING:polyglot.detect.base:Detector is not able to detect the language reliably.\n",
            "WARNING:polyglot.detect.base:Detector is not able to detect the language reliably.\n",
            "WARNING:polyglot.detect.base:Detector is not able to detect the language reliably.\n",
            "WARNING:polyglot.detect.base:Detector is not able to detect the language reliably.\n",
            "WARNING:polyglot.detect.base:Detector is not able to detect the language reliably.\n",
            "WARNING:polyglot.detect.base:Detector is not able to detect the language reliably.\n",
            "WARNING:polyglot.detect.base:Detector is not able to detect the language reliably.\n",
            "WARNING:polyglot.detect.base:Detector is not able to detect the language reliably.\n",
            "WARNING:polyglot.detect.base:Detector is not able to detect the language reliably.\n",
            "WARNING:polyglot.detect.base:Detector is not able to detect the language reliably.\n",
            "WARNING:polyglot.detect.base:Detector is not able to detect the language reliably.\n",
            "WARNING:polyglot.detect.base:Detector is not able to detect the language reliably.\n",
            "WARNING:polyglot.detect.base:Detector is not able to detect the language reliably.\n",
            "WARNING:polyglot.detect.base:Detector is not able to detect the language reliably.\n",
            "WARNING:polyglot.detect.base:Detector is not able to detect the language reliably.\n",
            "WARNING:polyglot.detect.base:Detector is not able to detect the language reliably.\n",
            "WARNING:polyglot.detect.base:Detector is not able to detect the language reliably.\n",
            "WARNING:polyglot.detect.base:Detector is not able to detect the language reliably.\n",
            "WARNING:polyglot.detect.base:Detector is not able to detect the language reliably.\n",
            "WARNING:polyglot.detect.base:Detector is not able to detect the language reliably.\n",
            "WARNING:polyglot.detect.base:Detector is not able to detect the language reliably.\n",
            "WARNING:polyglot.detect.base:Detector is not able to detect the language reliably.\n",
            "WARNING:polyglot.detect.base:Detector is not able to detect the language reliably.\n",
            "WARNING:polyglot.detect.base:Detector is not able to detect the language reliably.\n",
            "WARNING:polyglot.detect.base:Detector is not able to detect the language reliably.\n",
            "WARNING:polyglot.detect.base:Detector is not able to detect the language reliably.\n",
            "WARNING:polyglot.detect.base:Detector is not able to detect the language reliably.\n",
            "WARNING:polyglot.detect.base:Detector is not able to detect the language reliably.\n",
            "WARNING:polyglot.detect.base:Detector is not able to detect the language reliably.\n",
            "WARNING:polyglot.detect.base:Detector is not able to detect the language reliably.\n",
            "WARNING:polyglot.detect.base:Detector is not able to detect the language reliably.\n",
            "WARNING:polyglot.detect.base:Detector is not able to detect the language reliably.\n",
            "WARNING:polyglot.detect.base:Detector is not able to detect the language reliably.\n",
            "WARNING:polyglot.detect.base:Detector is not able to detect the language reliably.\n",
            "WARNING:polyglot.detect.base:Detector is not able to detect the language reliably.\n",
            "WARNING:polyglot.detect.base:Detector is not able to detect the language reliably.\n",
            "WARNING:polyglot.detect.base:Detector is not able to detect the language reliably.\n",
            "WARNING:polyglot.detect.base:Detector is not able to detect the language reliably.\n",
            "WARNING:polyglot.detect.base:Detector is not able to detect the language reliably.\n",
            "WARNING:polyglot.detect.base:Detector is not able to detect the language reliably.\n",
            "WARNING:polyglot.detect.base:Detector is not able to detect the language reliably.\n",
            "WARNING:polyglot.detect.base:Detector is not able to detect the language reliably.\n",
            "WARNING:polyglot.detect.base:Detector is not able to detect the language reliably.\n",
            "WARNING:polyglot.detect.base:Detector is not able to detect the language reliably.\n",
            "WARNING:polyglot.detect.base:Detector is not able to detect the language reliably.\n",
            "WARNING:polyglot.detect.base:Detector is not able to detect the language reliably.\n",
            "WARNING:polyglot.detect.base:Detector is not able to detect the language reliably.\n",
            "WARNING:polyglot.detect.base:Detector is not able to detect the language reliably.\n",
            "WARNING:polyglot.detect.base:Detector is not able to detect the language reliably.\n",
            "WARNING:polyglot.detect.base:Detector is not able to detect the language reliably.\n",
            "WARNING:polyglot.detect.base:Detector is not able to detect the language reliably.\n",
            "WARNING:polyglot.detect.base:Detector is not able to detect the language reliably.\n",
            "WARNING:polyglot.detect.base:Detector is not able to detect the language reliably.\n",
            "WARNING:polyglot.detect.base:Detector is not able to detect the language reliably.\n",
            "WARNING:polyglot.detect.base:Detector is not able to detect the language reliably.\n",
            "WARNING:polyglot.detect.base:Detector is not able to detect the language reliably.\n",
            "WARNING:polyglot.detect.base:Detector is not able to detect the language reliably.\n",
            "WARNING:polyglot.detect.base:Detector is not able to detect the language reliably.\n",
            "WARNING:polyglot.detect.base:Detector is not able to detect the language reliably.\n",
            "WARNING:polyglot.detect.base:Detector is not able to detect the language reliably.\n",
            "WARNING:polyglot.detect.base:Detector is not able to detect the language reliably.\n",
            "WARNING:polyglot.detect.base:Detector is not able to detect the language reliably.\n",
            "WARNING:polyglot.detect.base:Detector is not able to detect the language reliably.\n",
            "WARNING:polyglot.detect.base:Detector is not able to detect the language reliably.\n",
            "WARNING:polyglot.detect.base:Detector is not able to detect the language reliably.\n",
            "WARNING:polyglot.detect.base:Detector is not able to detect the language reliably.\n",
            "WARNING:polyglot.detect.base:Detector is not able to detect the language reliably.\n",
            "WARNING:polyglot.detect.base:Detector is not able to detect the language reliably.\n",
            "WARNING:polyglot.detect.base:Detector is not able to detect the language reliably.\n",
            "WARNING:polyglot.detect.base:Detector is not able to detect the language reliably.\n",
            "WARNING:polyglot.detect.base:Detector is not able to detect the language reliably.\n",
            "WARNING:polyglot.detect.base:Detector is not able to detect the language reliably.\n",
            "WARNING:polyglot.detect.base:Detector is not able to detect the language reliably.\n",
            "WARNING:polyglot.detect.base:Detector is not able to detect the language reliably.\n",
            "WARNING:polyglot.detect.base:Detector is not able to detect the language reliably.\n",
            "WARNING:polyglot.detect.base:Detector is not able to detect the language reliably.\n",
            "WARNING:polyglot.detect.base:Detector is not able to detect the language reliably.\n",
            "WARNING:polyglot.detect.base:Detector is not able to detect the language reliably.\n",
            "WARNING:polyglot.detect.base:Detector is not able to detect the language reliably.\n",
            "WARNING:polyglot.detect.base:Detector is not able to detect the language reliably.\n",
            "WARNING:polyglot.detect.base:Detector is not able to detect the language reliably.\n",
            "WARNING:polyglot.detect.base:Detector is not able to detect the language reliably.\n",
            "WARNING:polyglot.detect.base:Detector is not able to detect the language reliably.\n",
            "WARNING:polyglot.detect.base:Detector is not able to detect the language reliably.\n",
            "WARNING:polyglot.detect.base:Detector is not able to detect the language reliably.\n",
            "WARNING:polyglot.detect.base:Detector is not able to detect the language reliably.\n",
            "WARNING:polyglot.detect.base:Detector is not able to detect the language reliably.\n",
            "WARNING:polyglot.detect.base:Detector is not able to detect the language reliably.\n",
            "WARNING:polyglot.detect.base:Detector is not able to detect the language reliably.\n",
            "WARNING:polyglot.detect.base:Detector is not able to detect the language reliably.\n",
            "WARNING:polyglot.detect.base:Detector is not able to detect the language reliably.\n",
            "WARNING:polyglot.detect.base:Detector is not able to detect the language reliably.\n",
            "WARNING:polyglot.detect.base:Detector is not able to detect the language reliably.\n",
            "WARNING:polyglot.detect.base:Detector is not able to detect the language reliably.\n",
            "WARNING:polyglot.detect.base:Detector is not able to detect the language reliably.\n",
            "WARNING:polyglot.detect.base:Detector is not able to detect the language reliably.\n",
            "WARNING:polyglot.detect.base:Detector is not able to detect the language reliably.\n",
            "WARNING:polyglot.detect.base:Detector is not able to detect the language reliably.\n",
            "WARNING:polyglot.detect.base:Detector is not able to detect the language reliably.\n",
            "WARNING:polyglot.detect.base:Detector is not able to detect the language reliably.\n",
            "WARNING:polyglot.detect.base:Detector is not able to detect the language reliably.\n",
            "WARNING:polyglot.detect.base:Detector is not able to detect the language reliably.\n",
            "WARNING:polyglot.detect.base:Detector is not able to detect the language reliably.\n",
            "WARNING:polyglot.detect.base:Detector is not able to detect the language reliably.\n",
            "WARNING:polyglot.detect.base:Detector is not able to detect the language reliably.\n",
            "WARNING:polyglot.detect.base:Detector is not able to detect the language reliably.\n",
            "WARNING:polyglot.detect.base:Detector is not able to detect the language reliably.\n",
            "WARNING:polyglot.detect.base:Detector is not able to detect the language reliably.\n",
            "WARNING:polyglot.detect.base:Detector is not able to detect the language reliably.\n",
            "WARNING:polyglot.detect.base:Detector is not able to detect the language reliably.\n",
            "WARNING:polyglot.detect.base:Detector is not able to detect the language reliably.\n",
            "WARNING:polyglot.detect.base:Detector is not able to detect the language reliably.\n",
            "WARNING:polyglot.detect.base:Detector is not able to detect the language reliably.\n",
            "WARNING:polyglot.detect.base:Detector is not able to detect the language reliably.\n",
            "WARNING:polyglot.detect.base:Detector is not able to detect the language reliably.\n",
            "WARNING:polyglot.detect.base:Detector is not able to detect the language reliably.\n",
            "WARNING:polyglot.detect.base:Detector is not able to detect the language reliably.\n",
            "WARNING:polyglot.detect.base:Detector is not able to detect the language reliably.\n",
            "WARNING:polyglot.detect.base:Detector is not able to detect the language reliably.\n",
            "WARNING:polyglot.detect.base:Detector is not able to detect the language reliably.\n",
            "WARNING:polyglot.detect.base:Detector is not able to detect the language reliably.\n",
            "WARNING:polyglot.detect.base:Detector is not able to detect the language reliably.\n",
            "WARNING:polyglot.detect.base:Detector is not able to detect the language reliably.\n",
            "WARNING:polyglot.detect.base:Detector is not able to detect the language reliably.\n",
            "WARNING:polyglot.detect.base:Detector is not able to detect the language reliably.\n",
            "WARNING:polyglot.detect.base:Detector is not able to detect the language reliably.\n",
            "WARNING:polyglot.detect.base:Detector is not able to detect the language reliably.\n",
            "WARNING:polyglot.detect.base:Detector is not able to detect the language reliably.\n",
            "WARNING:polyglot.detect.base:Detector is not able to detect the language reliably.\n",
            "WARNING:polyglot.detect.base:Detector is not able to detect the language reliably.\n",
            "WARNING:polyglot.detect.base:Detector is not able to detect the language reliably.\n",
            "WARNING:polyglot.detect.base:Detector is not able to detect the language reliably.\n",
            "WARNING:polyglot.detect.base:Detector is not able to detect the language reliably.\n",
            "WARNING:polyglot.detect.base:Detector is not able to detect the language reliably.\n",
            "WARNING:polyglot.detect.base:Detector is not able to detect the language reliably.\n",
            "WARNING:polyglot.detect.base:Detector is not able to detect the language reliably.\n"
          ]
        },
        {
          "name": "stdout",
          "output_type": "stream",
          "text": [
            "Error occurred: This resource is available in the index but not downloaded, yet. Try to run\n",
            "\n",
            "polyglot download sentiment2.ps\n"
          ]
        },
        {
          "name": "stderr",
          "output_type": "stream",
          "text": [
            "WARNING:polyglot.detect.base:Detector is not able to detect the language reliably.\n",
            "WARNING:polyglot.detect.base:Detector is not able to detect the language reliably.\n",
            "WARNING:polyglot.detect.base:Detector is not able to detect the language reliably.\n",
            "WARNING:polyglot.detect.base:Detector is not able to detect the language reliably.\n",
            "WARNING:polyglot.detect.base:Detector is not able to detect the language reliably.\n",
            "WARNING:polyglot.detect.base:Detector is not able to detect the language reliably.\n",
            "WARNING:polyglot.detect.base:Detector is not able to detect the language reliably.\n",
            "WARNING:polyglot.detect.base:Detector is not able to detect the language reliably.\n",
            "WARNING:polyglot.detect.base:Detector is not able to detect the language reliably.\n",
            "WARNING:polyglot.detect.base:Detector is not able to detect the language reliably.\n",
            "WARNING:polyglot.detect.base:Detector is not able to detect the language reliably.\n",
            "WARNING:polyglot.detect.base:Detector is not able to detect the language reliably.\n",
            "WARNING:polyglot.detect.base:Detector is not able to detect the language reliably.\n",
            "WARNING:polyglot.detect.base:Detector is not able to detect the language reliably.\n",
            "WARNING:polyglot.detect.base:Detector is not able to detect the language reliably.\n",
            "WARNING:polyglot.detect.base:Detector is not able to detect the language reliably.\n",
            "WARNING:polyglot.detect.base:Detector is not able to detect the language reliably.\n",
            "WARNING:polyglot.detect.base:Detector is not able to detect the language reliably.\n",
            "WARNING:polyglot.detect.base:Detector is not able to detect the language reliably.\n",
            "WARNING:polyglot.detect.base:Detector is not able to detect the language reliably.\n",
            "WARNING:polyglot.detect.base:Detector is not able to detect the language reliably.\n",
            "WARNING:polyglot.detect.base:Detector is not able to detect the language reliably.\n",
            "WARNING:polyglot.detect.base:Detector is not able to detect the language reliably.\n"
          ]
        },
        {
          "name": "stdout",
          "output_type": "stream",
          "text": [
            "Error occurred: Package 'sentiment2.sd' not found in index\n"
          ]
        },
        {
          "name": "stderr",
          "output_type": "stream",
          "text": [
            "WARNING:polyglot.detect.base:Detector is not able to detect the language reliably.\n",
            "WARNING:polyglot.detect.base:Detector is not able to detect the language reliably.\n",
            "WARNING:polyglot.detect.base:Detector is not able to detect the language reliably.\n",
            "WARNING:polyglot.detect.base:Detector is not able to detect the language reliably.\n",
            "WARNING:polyglot.detect.base:Detector is not able to detect the language reliably.\n",
            "WARNING:polyglot.detect.base:Detector is not able to detect the language reliably.\n",
            "WARNING:polyglot.detect.base:Detector is not able to detect the language reliably.\n",
            "WARNING:polyglot.detect.base:Detector is not able to detect the language reliably.\n",
            "WARNING:polyglot.detect.base:Detector is not able to detect the language reliably.\n",
            "WARNING:polyglot.detect.base:Detector is not able to detect the language reliably.\n",
            "WARNING:polyglot.detect.base:Detector is not able to detect the language reliably.\n",
            "WARNING:polyglot.detect.base:Detector is not able to detect the language reliably.\n",
            "WARNING:polyglot.detect.base:Detector is not able to detect the language reliably.\n",
            "WARNING:polyglot.detect.base:Detector is not able to detect the language reliably.\n",
            "WARNING:polyglot.detect.base:Detector is not able to detect the language reliably.\n",
            "WARNING:polyglot.detect.base:Detector is not able to detect the language reliably.\n",
            "WARNING:polyglot.detect.base:Detector is not able to detect the language reliably.\n",
            "WARNING:polyglot.detect.base:Detector is not able to detect the language reliably.\n",
            "WARNING:polyglot.detect.base:Detector is not able to detect the language reliably.\n",
            "WARNING:polyglot.detect.base:Detector is not able to detect the language reliably.\n",
            "WARNING:polyglot.detect.base:Detector is not able to detect the language reliably.\n",
            "WARNING:polyglot.detect.base:Detector is not able to detect the language reliably.\n",
            "WARNING:polyglot.detect.base:Detector is not able to detect the language reliably.\n",
            "WARNING:polyglot.detect.base:Detector is not able to detect the language reliably.\n"
          ]
        },
        {
          "name": "stdout",
          "output_type": "stream",
          "text": [
            "Error occurred: This resource is available in the index but not downloaded, yet. Try to run\n",
            "\n",
            "polyglot download sentiment2.ur\n"
          ]
        },
        {
          "name": "stderr",
          "output_type": "stream",
          "text": [
            "WARNING:polyglot.detect.base:Detector is not able to detect the language reliably.\n",
            "WARNING:polyglot.detect.base:Detector is not able to detect the language reliably.\n"
          ]
        },
        {
          "name": "stdout",
          "output_type": "stream",
          "text": [
            "Error occurred: This resource is available in the index but not downloaded, yet. Try to run\n",
            "\n",
            "polyglot download sentiment2.ku\n",
            "Error occurred: This resource is available in the index but not downloaded, yet. Try to run\n",
            "\n",
            "polyglot download sentiment2.ar\n"
          ]
        },
        {
          "name": "stderr",
          "output_type": "stream",
          "text": [
            "WARNING:polyglot.detect.base:Detector is not able to detect the language reliably.\n",
            "WARNING:polyglot.detect.base:Detector is not able to detect the language reliably.\n",
            "WARNING:polyglot.detect.base:Detector is not able to detect the language reliably.\n"
          ]
        },
        {
          "name": "stdout",
          "output_type": "stream",
          "text": [
            "Error occurred: This resource is available in the index but not downloaded, yet. Try to run\n",
            "\n",
            "polyglot download sentiment2.kk\n",
            "Error occurred: This resource is available in the index but not downloaded, yet. Try to run\n",
            "\n",
            "polyglot download sentiment2.ar\n"
          ]
        },
        {
          "name": "stderr",
          "output_type": "stream",
          "text": [
            "WARNING:polyglot.detect.base:Detector is not able to detect the language reliably.\n",
            "WARNING:polyglot.detect.base:Detector is not able to detect the language reliably.\n"
          ]
        },
        {
          "name": "stdout",
          "output_type": "stream",
          "text": [
            "Error occurred: This resource is available in the index but not downloaded, yet. Try to run\n",
            "\n",
            "polyglot download sentiment2.ur\n"
          ]
        },
        {
          "name": "stderr",
          "output_type": "stream",
          "text": [
            "WARNING:polyglot.detect.base:Detector is not able to detect the language reliably.\n"
          ]
        },
        {
          "name": "stdout",
          "output_type": "stream",
          "text": [
            "Error occurred: This resource is available in the index but not downloaded, yet. Try to run\n",
            "\n",
            "polyglot download sentiment2.ar\n"
          ]
        },
        {
          "name": "stderr",
          "output_type": "stream",
          "text": [
            "WARNING:polyglot.detect.base:Detector is not able to detect the language reliably.\n"
          ]
        },
        {
          "name": "stdout",
          "output_type": "stream",
          "text": [
            "Error occurred: This resource is available in the index but not downloaded, yet. Try to run\n",
            "\n",
            "polyglot download sentiment2.ps\n"
          ]
        },
        {
          "name": "stderr",
          "output_type": "stream",
          "text": [
            "WARNING:polyglot.detect.base:Detector is not able to detect the language reliably.\n"
          ]
        },
        {
          "name": "stdout",
          "output_type": "stream",
          "text": [
            "Error occurred: This resource is available in the index but not downloaded, yet. Try to run\n",
            "\n",
            "polyglot download sentiment2.ur\n",
            "Error occurred: This resource is available in the index but not downloaded, yet. Try to run\n",
            "\n",
            "polyglot download sentiment2.ps\n"
          ]
        },
        {
          "name": "stderr",
          "output_type": "stream",
          "text": [
            "WARNING:polyglot.detect.base:Detector is not able to detect the language reliably.\n"
          ]
        },
        {
          "name": "stdout",
          "output_type": "stream",
          "text": [
            "Error occurred: This resource is available in the index but not downloaded, yet. Try to run\n",
            "\n",
            "polyglot download sentiment2.ar\n"
          ]
        },
        {
          "name": "stderr",
          "output_type": "stream",
          "text": [
            "WARNING:polyglot.detect.base:Detector is not able to detect the language reliably.\n",
            "WARNING:polyglot.detect.base:Detector is not able to detect the language reliably.\n",
            "WARNING:polyglot.detect.base:Detector is not able to detect the language reliably.\n"
          ]
        },
        {
          "name": "stdout",
          "output_type": "stream",
          "text": [
            "Error occurred: This resource is available in the index but not downloaded, yet. Try to run\n",
            "\n",
            "polyglot download sentiment2.ps\n"
          ]
        },
        {
          "name": "stderr",
          "output_type": "stream",
          "text": [
            "WARNING:polyglot.detect.base:Detector is not able to detect the language reliably.\n"
          ]
        },
        {
          "name": "stdout",
          "output_type": "stream",
          "text": [
            "Error occurred: This resource is available in the index but not downloaded, yet. Try to run\n",
            "\n",
            "polyglot download sentiment2.ur\n"
          ]
        },
        {
          "name": "stderr",
          "output_type": "stream",
          "text": [
            "WARNING:polyglot.detect.base:Detector is not able to detect the language reliably.\n",
            "WARNING:polyglot.detect.base:Detector is not able to detect the language reliably.\n",
            "WARNING:polyglot.detect.base:Detector is not able to detect the language reliably.\n",
            "WARNING:polyglot.detect.base:Detector is not able to detect the language reliably.\n",
            "WARNING:polyglot.detect.base:Detector is not able to detect the language reliably.\n",
            "WARNING:polyglot.detect.base:Detector is not able to detect the language reliably.\n",
            "WARNING:polyglot.detect.base:Detector is not able to detect the language reliably.\n"
          ]
        },
        {
          "name": "stdout",
          "output_type": "stream",
          "text": [
            "Error occurred: This resource is available in the index but not downloaded, yet. Try to run\n",
            "\n",
            "polyglot download sentiment2.ur\n"
          ]
        },
        {
          "name": "stderr",
          "output_type": "stream",
          "text": [
            "WARNING:polyglot.detect.base:Detector is not able to detect the language reliably.\n"
          ]
        },
        {
          "name": "stdout",
          "output_type": "stream",
          "text": [
            "Error occurred: This resource is available in the index but not downloaded, yet. Try to run\n",
            "\n",
            "polyglot download sentiment2.ar\n"
          ]
        },
        {
          "name": "stderr",
          "output_type": "stream",
          "text": [
            "WARNING:polyglot.detect.base:Detector is not able to detect the language reliably.\n",
            "WARNING:polyglot.detect.base:Detector is not able to detect the language reliably.\n",
            "WARNING:polyglot.detect.base:Detector is not able to detect the language reliably.\n",
            "WARNING:polyglot.detect.base:Detector is not able to detect the language reliably.\n",
            "WARNING:polyglot.detect.base:Detector is not able to detect the language reliably.\n",
            "WARNING:polyglot.detect.base:Detector is not able to detect the language reliably.\n",
            "WARNING:polyglot.detect.base:Detector is not able to detect the language reliably.\n",
            "WARNING:polyglot.detect.base:Detector is not able to detect the language reliably.\n",
            "WARNING:polyglot.detect.base:Detector is not able to detect the language reliably.\n",
            "WARNING:polyglot.detect.base:Detector is not able to detect the language reliably.\n",
            "WARNING:polyglot.detect.base:Detector is not able to detect the language reliably.\n",
            "WARNING:polyglot.detect.base:Detector is not able to detect the language reliably.\n",
            "WARNING:polyglot.detect.base:Detector is not able to detect the language reliably.\n",
            "WARNING:polyglot.detect.base:Detector is not able to detect the language reliably.\n",
            "WARNING:polyglot.detect.base:Detector is not able to detect the language reliably.\n",
            "WARNING:polyglot.detect.base:Detector is not able to detect the language reliably.\n",
            "WARNING:polyglot.detect.base:Detector is not able to detect the language reliably.\n",
            "WARNING:polyglot.detect.base:Detector is not able to detect the language reliably.\n",
            "WARNING:polyglot.detect.base:Detector is not able to detect the language reliably.\n",
            "WARNING:polyglot.detect.base:Detector is not able to detect the language reliably.\n",
            "WARNING:polyglot.detect.base:Detector is not able to detect the language reliably.\n",
            "WARNING:polyglot.detect.base:Detector is not able to detect the language reliably.\n",
            "WARNING:polyglot.detect.base:Detector is not able to detect the language reliably.\n"
          ]
        },
        {
          "name": "stdout",
          "output_type": "stream",
          "text": [
            "Error occurred: This resource is available in the index but not downloaded, yet. Try to run\n",
            "\n",
            "polyglot download sentiment2.ar\n"
          ]
        },
        {
          "name": "stderr",
          "output_type": "stream",
          "text": [
            "WARNING:polyglot.detect.base:Detector is not able to detect the language reliably.\n"
          ]
        },
        {
          "name": "stdout",
          "output_type": "stream",
          "text": [
            "Error occurred: This resource is available in the index but not downloaded, yet. Try to run\n",
            "\n",
            "polyglot download sentiment2.ar\n"
          ]
        },
        {
          "name": "stderr",
          "output_type": "stream",
          "text": [
            "WARNING:polyglot.detect.base:Detector is not able to detect the language reliably.\n"
          ]
        },
        {
          "name": "stdout",
          "output_type": "stream",
          "text": [
            "Error occurred: This resource is available in the index but not downloaded, yet. Try to run\n",
            "\n",
            "polyglot download sentiment2.ar\n"
          ]
        },
        {
          "name": "stderr",
          "output_type": "stream",
          "text": [
            "WARNING:polyglot.detect.base:Detector is not able to detect the language reliably.\n",
            "WARNING:polyglot.detect.base:Detector is not able to detect the language reliably.\n",
            "WARNING:polyglot.detect.base:Detector is not able to detect the language reliably.\n",
            "WARNING:polyglot.detect.base:Detector is not able to detect the language reliably.\n"
          ]
        },
        {
          "name": "stdout",
          "output_type": "stream",
          "text": [
            "Error occurred: This resource is available in the index but not downloaded, yet. Try to run\n",
            "\n",
            "polyglot download sentiment2.ar\n"
          ]
        },
        {
          "name": "stderr",
          "output_type": "stream",
          "text": [
            "WARNING:polyglot.detect.base:Detector is not able to detect the language reliably.\n",
            "WARNING:polyglot.detect.base:Detector is not able to detect the language reliably.\n"
          ]
        },
        {
          "name": "stdout",
          "output_type": "stream",
          "text": [
            "Error occurred: This resource is available in the index but not downloaded, yet. Try to run\n",
            "\n",
            "polyglot download sentiment2.ar\n",
            "Error occurred: This resource is available in the index but not downloaded, yet. Try to run\n",
            "\n",
            "polyglot download sentiment2.ar\n"
          ]
        },
        {
          "name": "stderr",
          "output_type": "stream",
          "text": [
            "WARNING:polyglot.detect.base:Detector is not able to detect the language reliably.\n",
            "WARNING:polyglot.detect.base:Detector is not able to detect the language reliably.\n"
          ]
        },
        {
          "name": "stdout",
          "output_type": "stream",
          "text": [
            "Error occurred: This resource is available in the index but not downloaded, yet. Try to run\n",
            "\n",
            "polyglot download sentiment2.ar\n",
            "Error occurred: This resource is available in the index but not downloaded, yet. Try to run\n",
            "\n",
            "polyglot download sentiment2.ar\n"
          ]
        },
        {
          "name": "stderr",
          "output_type": "stream",
          "text": [
            "WARNING:polyglot.detect.base:Detector is not able to detect the language reliably.\n"
          ]
        },
        {
          "name": "stdout",
          "output_type": "stream",
          "text": [
            "Error occurred: This resource is available in the index but not downloaded, yet. Try to run\n",
            "\n",
            "polyglot download sentiment2.ar\n"
          ]
        },
        {
          "name": "stderr",
          "output_type": "stream",
          "text": [
            "WARNING:polyglot.detect.base:Detector is not able to detect the language reliably.\n"
          ]
        },
        {
          "name": "stdout",
          "output_type": "stream",
          "text": [
            "Error occurred: This resource is available in the index but not downloaded, yet. Try to run\n",
            "\n",
            "polyglot download sentiment2.ar\n"
          ]
        },
        {
          "name": "stderr",
          "output_type": "stream",
          "text": [
            "WARNING:polyglot.detect.base:Detector is not able to detect the language reliably.\n",
            "WARNING:polyglot.detect.base:Detector is not able to detect the language reliably.\n"
          ]
        },
        {
          "name": "stdout",
          "output_type": "stream",
          "text": [
            "Error occurred: This resource is available in the index but not downloaded, yet. Try to run\n",
            "\n",
            "polyglot download sentiment2.ar\n",
            "Error occurred: This resource is available in the index but not downloaded, yet. Try to run\n",
            "\n",
            "polyglot download sentiment2.ar\n"
          ]
        },
        {
          "name": "stderr",
          "output_type": "stream",
          "text": [
            "WARNING:polyglot.detect.base:Detector is not able to detect the language reliably.\n"
          ]
        },
        {
          "name": "stdout",
          "output_type": "stream",
          "text": [
            "Error occurred: This resource is available in the index but not downloaded, yet. Try to run\n",
            "\n",
            "polyglot download sentiment2.ar\n"
          ]
        },
        {
          "name": "stderr",
          "output_type": "stream",
          "text": [
            "WARNING:polyglot.detect.base:Detector is not able to detect the language reliably.\n",
            "WARNING:polyglot.detect.base:Detector is not able to detect the language reliably.\n"
          ]
        },
        {
          "name": "stdout",
          "output_type": "stream",
          "text": [
            "Error occurred: This resource is available in the index but not downloaded, yet. Try to run\n",
            "\n",
            "polyglot download sentiment2.ar\n"
          ]
        },
        {
          "name": "stderr",
          "output_type": "stream",
          "text": [
            "WARNING:polyglot.detect.base:Detector is not able to detect the language reliably.\n",
            "WARNING:polyglot.detect.base:Detector is not able to detect the language reliably.\n",
            "WARNING:polyglot.detect.base:Detector is not able to detect the language reliably.\n",
            "WARNING:polyglot.detect.base:Detector is not able to detect the language reliably.\n",
            "WARNING:polyglot.detect.base:Detector is not able to detect the language reliably.\n"
          ]
        },
        {
          "name": "stdout",
          "output_type": "stream",
          "text": [
            "Error occurred: This resource is available in the index but not downloaded, yet. Try to run\n",
            "\n",
            "polyglot download sentiment2.ar\n",
            "Error occurred: This resource is available in the index but not downloaded, yet. Try to run\n",
            "\n",
            "polyglot download sentiment2.ar\n"
          ]
        },
        {
          "name": "stderr",
          "output_type": "stream",
          "text": [
            "WARNING:polyglot.detect.base:Detector is not able to detect the language reliably.\n"
          ]
        },
        {
          "name": "stdout",
          "output_type": "stream",
          "text": [
            "Error occurred: This resource is available in the index but not downloaded, yet. Try to run\n",
            "\n",
            "polyglot download sentiment2.ar\n"
          ]
        },
        {
          "name": "stderr",
          "output_type": "stream",
          "text": [
            "WARNING:polyglot.detect.base:Detector is not able to detect the language reliably.\n"
          ]
        },
        {
          "name": "stdout",
          "output_type": "stream",
          "text": [
            "Error occurred: This resource is available in the index but not downloaded, yet. Try to run\n",
            "\n",
            "polyglot download sentiment2.ar\n"
          ]
        },
        {
          "name": "stderr",
          "output_type": "stream",
          "text": [
            "WARNING:polyglot.detect.base:Detector is not able to detect the language reliably.\n",
            "WARNING:polyglot.detect.base:Detector is not able to detect the language reliably.\n"
          ]
        },
        {
          "name": "stdout",
          "output_type": "stream",
          "text": [
            "Error occurred: This resource is available in the index but not downloaded, yet. Try to run\n",
            "\n",
            "polyglot download sentiment2.ps\n"
          ]
        },
        {
          "name": "stderr",
          "output_type": "stream",
          "text": [
            "WARNING:polyglot.detect.base:Detector is not able to detect the language reliably.\n",
            "WARNING:polyglot.detect.base:Detector is not able to detect the language reliably.\n",
            "WARNING:polyglot.detect.base:Detector is not able to detect the language reliably.\n"
          ]
        },
        {
          "name": "stdout",
          "output_type": "stream",
          "text": [
            "Error occurred: This resource is available in the index but not downloaded, yet. Try to run\n",
            "\n",
            "polyglot download sentiment2.ar\n"
          ]
        },
        {
          "name": "stderr",
          "output_type": "stream",
          "text": [
            "WARNING:polyglot.detect.base:Detector is not able to detect the language reliably.\n",
            "WARNING:polyglot.detect.base:Detector is not able to detect the language reliably.\n",
            "WARNING:polyglot.detect.base:Detector is not able to detect the language reliably.\n",
            "WARNING:polyglot.detect.base:Detector is not able to detect the language reliably.\n",
            "WARNING:polyglot.detect.base:Detector is not able to detect the language reliably.\n",
            "WARNING:polyglot.detect.base:Detector is not able to detect the language reliably.\n",
            "WARNING:polyglot.detect.base:Detector is not able to detect the language reliably.\n",
            "WARNING:polyglot.detect.base:Detector is not able to detect the language reliably.\n",
            "WARNING:polyglot.detect.base:Detector is not able to detect the language reliably.\n",
            "WARNING:polyglot.detect.base:Detector is not able to detect the language reliably.\n",
            "WARNING:polyglot.detect.base:Detector is not able to detect the language reliably.\n",
            "WARNING:polyglot.detect.base:Detector is not able to detect the language reliably.\n",
            "WARNING:polyglot.detect.base:Detector is not able to detect the language reliably.\n",
            "WARNING:polyglot.detect.base:Detector is not able to detect the language reliably.\n",
            "WARNING:polyglot.detect.base:Detector is not able to detect the language reliably.\n",
            "WARNING:polyglot.detect.base:Detector is not able to detect the language reliably.\n",
            "WARNING:polyglot.detect.base:Detector is not able to detect the language reliably.\n",
            "WARNING:polyglot.detect.base:Detector is not able to detect the language reliably.\n",
            "WARNING:polyglot.detect.base:Detector is not able to detect the language reliably.\n",
            "WARNING:polyglot.detect.base:Detector is not able to detect the language reliably.\n",
            "WARNING:polyglot.detect.base:Detector is not able to detect the language reliably.\n",
            "WARNING:polyglot.detect.base:Detector is not able to detect the language reliably.\n",
            "WARNING:polyglot.detect.base:Detector is not able to detect the language reliably.\n",
            "WARNING:polyglot.detect.base:Detector is not able to detect the language reliably.\n",
            "WARNING:polyglot.detect.base:Detector is not able to detect the language reliably.\n",
            "WARNING:polyglot.detect.base:Detector is not able to detect the language reliably.\n",
            "WARNING:polyglot.detect.base:Detector is not able to detect the language reliably.\n",
            "WARNING:polyglot.detect.base:Detector is not able to detect the language reliably.\n",
            "WARNING:polyglot.detect.base:Detector is not able to detect the language reliably.\n",
            "WARNING:polyglot.detect.base:Detector is not able to detect the language reliably.\n",
            "WARNING:polyglot.detect.base:Detector is not able to detect the language reliably.\n",
            "WARNING:polyglot.detect.base:Detector is not able to detect the language reliably.\n",
            "WARNING:polyglot.detect.base:Detector is not able to detect the language reliably.\n",
            "WARNING:polyglot.detect.base:Detector is not able to detect the language reliably.\n",
            "WARNING:polyglot.detect.base:Detector is not able to detect the language reliably.\n",
            "WARNING:polyglot.detect.base:Detector is not able to detect the language reliably.\n",
            "WARNING:polyglot.detect.base:Detector is not able to detect the language reliably.\n",
            "WARNING:polyglot.detect.base:Detector is not able to detect the language reliably.\n",
            "WARNING:polyglot.detect.base:Detector is not able to detect the language reliably.\n",
            "WARNING:polyglot.detect.base:Detector is not able to detect the language reliably.\n",
            "WARNING:polyglot.detect.base:Detector is not able to detect the language reliably.\n",
            "WARNING:polyglot.detect.base:Detector is not able to detect the language reliably.\n",
            "WARNING:polyglot.detect.base:Detector is not able to detect the language reliably.\n",
            "WARNING:polyglot.detect.base:Detector is not able to detect the language reliably.\n"
          ]
        },
        {
          "name": "stdout",
          "output_type": "stream",
          "text": [
            "Error occurred: This resource is available in the index but not downloaded, yet. Try to run\n",
            "\n",
            "polyglot download sentiment2.ar\n"
          ]
        },
        {
          "name": "stderr",
          "output_type": "stream",
          "text": [
            "WARNING:polyglot.detect.base:Detector is not able to detect the language reliably.\n",
            "WARNING:polyglot.detect.base:Detector is not able to detect the language reliably.\n",
            "WARNING:polyglot.detect.base:Detector is not able to detect the language reliably.\n",
            "WARNING:polyglot.detect.base:Detector is not able to detect the language reliably.\n",
            "WARNING:polyglot.detect.base:Detector is not able to detect the language reliably.\n",
            "WARNING:polyglot.detect.base:Detector is not able to detect the language reliably.\n",
            "WARNING:polyglot.detect.base:Detector is not able to detect the language reliably.\n",
            "WARNING:polyglot.detect.base:Detector is not able to detect the language reliably.\n",
            "WARNING:polyglot.detect.base:Detector is not able to detect the language reliably.\n",
            "WARNING:polyglot.detect.base:Detector is not able to detect the language reliably.\n",
            "WARNING:polyglot.detect.base:Detector is not able to detect the language reliably.\n",
            "WARNING:polyglot.detect.base:Detector is not able to detect the language reliably.\n",
            "WARNING:polyglot.detect.base:Detector is not able to detect the language reliably.\n",
            "WARNING:polyglot.detect.base:Detector is not able to detect the language reliably.\n",
            "WARNING:polyglot.detect.base:Detector is not able to detect the language reliably.\n",
            "WARNING:polyglot.detect.base:Detector is not able to detect the language reliably.\n",
            "WARNING:polyglot.detect.base:Detector is not able to detect the language reliably.\n",
            "WARNING:polyglot.detect.base:Detector is not able to detect the language reliably.\n",
            "WARNING:polyglot.detect.base:Detector is not able to detect the language reliably.\n"
          ]
        },
        {
          "name": "stdout",
          "output_type": "stream",
          "text": [
            "Error occurred: This resource is available in the index but not downloaded, yet. Try to run\n",
            "\n",
            "polyglot download sentiment2.ar\n"
          ]
        },
        {
          "name": "stderr",
          "output_type": "stream",
          "text": [
            "WARNING:polyglot.detect.base:Detector is not able to detect the language reliably.\n",
            "WARNING:polyglot.detect.base:Detector is not able to detect the language reliably.\n",
            "WARNING:polyglot.detect.base:Detector is not able to detect the language reliably.\n",
            "WARNING:polyglot.detect.base:Detector is not able to detect the language reliably.\n",
            "WARNING:polyglot.detect.base:Detector is not able to detect the language reliably.\n",
            "WARNING:polyglot.detect.base:Detector is not able to detect the language reliably.\n",
            "WARNING:polyglot.detect.base:Detector is not able to detect the language reliably.\n",
            "WARNING:polyglot.detect.base:Detector is not able to detect the language reliably.\n",
            "WARNING:polyglot.detect.base:Detector is not able to detect the language reliably.\n",
            "WARNING:polyglot.detect.base:Detector is not able to detect the language reliably.\n",
            "WARNING:polyglot.detect.base:Detector is not able to detect the language reliably.\n",
            "WARNING:polyglot.detect.base:Detector is not able to detect the language reliably.\n",
            "WARNING:polyglot.detect.base:Detector is not able to detect the language reliably.\n",
            "WARNING:polyglot.detect.base:Detector is not able to detect the language reliably.\n",
            "WARNING:polyglot.detect.base:Detector is not able to detect the language reliably.\n",
            "WARNING:polyglot.detect.base:Detector is not able to detect the language reliably.\n",
            "WARNING:polyglot.detect.base:Detector is not able to detect the language reliably.\n",
            "WARNING:polyglot.detect.base:Detector is not able to detect the language reliably.\n",
            "WARNING:polyglot.detect.base:Detector is not able to detect the language reliably.\n",
            "WARNING:polyglot.detect.base:Detector is not able to detect the language reliably.\n"
          ]
        },
        {
          "name": "stdout",
          "output_type": "stream",
          "text": [
            "Error occurred: This resource is available in the index but not downloaded, yet. Try to run\n",
            "\n",
            "polyglot download sentiment2.ar\n"
          ]
        },
        {
          "name": "stderr",
          "output_type": "stream",
          "text": [
            "WARNING:polyglot.detect.base:Detector is not able to detect the language reliably.\n",
            "WARNING:polyglot.detect.base:Detector is not able to detect the language reliably.\n",
            "WARNING:polyglot.detect.base:Detector is not able to detect the language reliably.\n",
            "WARNING:polyglot.detect.base:Detector is not able to detect the language reliably.\n",
            "WARNING:polyglot.detect.base:Detector is not able to detect the language reliably.\n",
            "WARNING:polyglot.detect.base:Detector is not able to detect the language reliably.\n",
            "WARNING:polyglot.detect.base:Detector is not able to detect the language reliably.\n",
            "WARNING:polyglot.detect.base:Detector is not able to detect the language reliably.\n",
            "WARNING:polyglot.detect.base:Detector is not able to detect the language reliably.\n",
            "WARNING:polyglot.detect.base:Detector is not able to detect the language reliably.\n",
            "WARNING:polyglot.detect.base:Detector is not able to detect the language reliably.\n",
            "WARNING:polyglot.detect.base:Detector is not able to detect the language reliably.\n",
            "WARNING:polyglot.detect.base:Detector is not able to detect the language reliably.\n",
            "WARNING:polyglot.detect.base:Detector is not able to detect the language reliably.\n",
            "WARNING:polyglot.detect.base:Detector is not able to detect the language reliably.\n",
            "WARNING:polyglot.detect.base:Detector is not able to detect the language reliably.\n",
            "WARNING:polyglot.detect.base:Detector is not able to detect the language reliably.\n",
            "WARNING:polyglot.detect.base:Detector is not able to detect the language reliably.\n",
            "WARNING:polyglot.detect.base:Detector is not able to detect the language reliably.\n",
            "WARNING:polyglot.detect.base:Detector is not able to detect the language reliably.\n",
            "WARNING:polyglot.detect.base:Detector is not able to detect the language reliably.\n",
            "WARNING:polyglot.detect.base:Detector is not able to detect the language reliably.\n",
            "WARNING:polyglot.detect.base:Detector is not able to detect the language reliably.\n",
            "WARNING:polyglot.detect.base:Detector is not able to detect the language reliably.\n",
            "WARNING:polyglot.detect.base:Detector is not able to detect the language reliably.\n",
            "WARNING:polyglot.detect.base:Detector is not able to detect the language reliably.\n",
            "WARNING:polyglot.detect.base:Detector is not able to detect the language reliably.\n",
            "WARNING:polyglot.detect.base:Detector is not able to detect the language reliably.\n",
            "WARNING:polyglot.detect.base:Detector is not able to detect the language reliably.\n",
            "WARNING:polyglot.detect.base:Detector is not able to detect the language reliably.\n",
            "WARNING:polyglot.detect.base:Detector is not able to detect the language reliably.\n",
            "WARNING:polyglot.detect.base:Detector is not able to detect the language reliably.\n",
            "WARNING:polyglot.detect.base:Detector is not able to detect the language reliably.\n",
            "WARNING:polyglot.detect.base:Detector is not able to detect the language reliably.\n"
          ]
        },
        {
          "name": "stdout",
          "output_type": "stream",
          "text": [
            "Error occurred: This resource is available in the index but not downloaded, yet. Try to run\n",
            "\n",
            "polyglot download sentiment2.ar\n"
          ]
        },
        {
          "name": "stderr",
          "output_type": "stream",
          "text": [
            "WARNING:polyglot.detect.base:Detector is not able to detect the language reliably.\n",
            "WARNING:polyglot.detect.base:Detector is not able to detect the language reliably.\n",
            "WARNING:polyglot.detect.base:Detector is not able to detect the language reliably.\n",
            "WARNING:polyglot.detect.base:Detector is not able to detect the language reliably.\n",
            "WARNING:polyglot.detect.base:Detector is not able to detect the language reliably.\n"
          ]
        },
        {
          "name": "stdout",
          "output_type": "stream",
          "text": [
            "Error occurred: This resource is available in the index but not downloaded, yet. Try to run\n",
            "\n",
            "polyglot download sentiment2.ar\n"
          ]
        },
        {
          "name": "stderr",
          "output_type": "stream",
          "text": [
            "WARNING:polyglot.detect.base:Detector is not able to detect the language reliably.\n",
            "WARNING:polyglot.detect.base:Detector is not able to detect the language reliably.\n",
            "WARNING:polyglot.detect.base:Detector is not able to detect the language reliably.\n",
            "WARNING:polyglot.detect.base:Detector is not able to detect the language reliably.\n",
            "WARNING:polyglot.detect.base:Detector is not able to detect the language reliably.\n",
            "WARNING:polyglot.detect.base:Detector is not able to detect the language reliably.\n",
            "WARNING:polyglot.detect.base:Detector is not able to detect the language reliably.\n",
            "WARNING:polyglot.detect.base:Detector is not able to detect the language reliably.\n",
            "WARNING:polyglot.detect.base:Detector is not able to detect the language reliably.\n",
            "WARNING:polyglot.detect.base:Detector is not able to detect the language reliably.\n",
            "WARNING:polyglot.detect.base:Detector is not able to detect the language reliably.\n",
            "WARNING:polyglot.detect.base:Detector is not able to detect the language reliably.\n",
            "WARNING:polyglot.detect.base:Detector is not able to detect the language reliably.\n",
            "WARNING:polyglot.detect.base:Detector is not able to detect the language reliably.\n",
            "WARNING:polyglot.detect.base:Detector is not able to detect the language reliably.\n",
            "WARNING:polyglot.detect.base:Detector is not able to detect the language reliably.\n",
            "WARNING:polyglot.detect.base:Detector is not able to detect the language reliably.\n",
            "WARNING:polyglot.detect.base:Detector is not able to detect the language reliably.\n"
          ]
        },
        {
          "name": "stdout",
          "output_type": "stream",
          "text": [
            "Error occurred: This resource is available in the index but not downloaded, yet. Try to run\n",
            "\n",
            "polyglot download sentiment2.ar\n"
          ]
        },
        {
          "name": "stderr",
          "output_type": "stream",
          "text": [
            "WARNING:polyglot.detect.base:Detector is not able to detect the language reliably.\n",
            "WARNING:polyglot.detect.base:Detector is not able to detect the language reliably.\n",
            "WARNING:polyglot.detect.base:Detector is not able to detect the language reliably.\n",
            "WARNING:polyglot.detect.base:Detector is not able to detect the language reliably.\n",
            "WARNING:polyglot.detect.base:Detector is not able to detect the language reliably.\n",
            "WARNING:polyglot.detect.base:Detector is not able to detect the language reliably.\n",
            "WARNING:polyglot.detect.base:Detector is not able to detect the language reliably.\n",
            "WARNING:polyglot.detect.base:Detector is not able to detect the language reliably.\n",
            "WARNING:polyglot.detect.base:Detector is not able to detect the language reliably.\n",
            "WARNING:polyglot.detect.base:Detector is not able to detect the language reliably.\n",
            "WARNING:polyglot.detect.base:Detector is not able to detect the language reliably.\n",
            "WARNING:polyglot.detect.base:Detector is not able to detect the language reliably.\n",
            "WARNING:polyglot.detect.base:Detector is not able to detect the language reliably.\n",
            "WARNING:polyglot.detect.base:Detector is not able to detect the language reliably.\n",
            "WARNING:polyglot.detect.base:Detector is not able to detect the language reliably.\n",
            "WARNING:polyglot.detect.base:Detector is not able to detect the language reliably.\n",
            "WARNING:polyglot.detect.base:Detector is not able to detect the language reliably.\n",
            "WARNING:polyglot.detect.base:Detector is not able to detect the language reliably.\n",
            "WARNING:polyglot.detect.base:Detector is not able to detect the language reliably.\n",
            "WARNING:polyglot.detect.base:Detector is not able to detect the language reliably.\n",
            "WARNING:polyglot.detect.base:Detector is not able to detect the language reliably.\n",
            "WARNING:polyglot.detect.base:Detector is not able to detect the language reliably.\n",
            "WARNING:polyglot.detect.base:Detector is not able to detect the language reliably.\n",
            "WARNING:polyglot.detect.base:Detector is not able to detect the language reliably.\n",
            "WARNING:polyglot.detect.base:Detector is not able to detect the language reliably.\n",
            "WARNING:polyglot.detect.base:Detector is not able to detect the language reliably.\n",
            "WARNING:polyglot.detect.base:Detector is not able to detect the language reliably.\n",
            "WARNING:polyglot.detect.base:Detector is not able to detect the language reliably.\n",
            "WARNING:polyglot.detect.base:Detector is not able to detect the language reliably.\n",
            "WARNING:polyglot.detect.base:Detector is not able to detect the language reliably.\n",
            "WARNING:polyglot.detect.base:Detector is not able to detect the language reliably.\n",
            "WARNING:polyglot.detect.base:Detector is not able to detect the language reliably.\n",
            "WARNING:polyglot.detect.base:Detector is not able to detect the language reliably.\n",
            "WARNING:polyglot.detect.base:Detector is not able to detect the language reliably.\n",
            "WARNING:polyglot.detect.base:Detector is not able to detect the language reliably.\n",
            "WARNING:polyglot.detect.base:Detector is not able to detect the language reliably.\n",
            "WARNING:polyglot.detect.base:Detector is not able to detect the language reliably.\n",
            "WARNING:polyglot.detect.base:Detector is not able to detect the language reliably.\n",
            "WARNING:polyglot.detect.base:Detector is not able to detect the language reliably.\n",
            "WARNING:polyglot.detect.base:Detector is not able to detect the language reliably.\n",
            "WARNING:polyglot.detect.base:Detector is not able to detect the language reliably.\n",
            "WARNING:polyglot.detect.base:Detector is not able to detect the language reliably.\n",
            "WARNING:polyglot.detect.base:Detector is not able to detect the language reliably.\n",
            "WARNING:polyglot.detect.base:Detector is not able to detect the language reliably.\n",
            "WARNING:polyglot.detect.base:Detector is not able to detect the language reliably.\n",
            "WARNING:polyglot.detect.base:Detector is not able to detect the language reliably.\n",
            "WARNING:polyglot.detect.base:Detector is not able to detect the language reliably.\n",
            "WARNING:polyglot.detect.base:Detector is not able to detect the language reliably.\n",
            "WARNING:polyglot.detect.base:Detector is not able to detect the language reliably.\n",
            "WARNING:polyglot.detect.base:Detector is not able to detect the language reliably.\n",
            "WARNING:polyglot.detect.base:Detector is not able to detect the language reliably.\n",
            "WARNING:polyglot.detect.base:Detector is not able to detect the language reliably.\n",
            "WARNING:polyglot.detect.base:Detector is not able to detect the language reliably.\n",
            "WARNING:polyglot.detect.base:Detector is not able to detect the language reliably.\n",
            "WARNING:polyglot.detect.base:Detector is not able to detect the language reliably.\n",
            "WARNING:polyglot.detect.base:Detector is not able to detect the language reliably.\n",
            "WARNING:polyglot.detect.base:Detector is not able to detect the language reliably.\n",
            "WARNING:polyglot.detect.base:Detector is not able to detect the language reliably.\n",
            "WARNING:polyglot.detect.base:Detector is not able to detect the language reliably.\n",
            "WARNING:polyglot.detect.base:Detector is not able to detect the language reliably.\n",
            "WARNING:polyglot.detect.base:Detector is not able to detect the language reliably.\n",
            "WARNING:polyglot.detect.base:Detector is not able to detect the language reliably.\n",
            "WARNING:polyglot.detect.base:Detector is not able to detect the language reliably.\n",
            "WARNING:polyglot.detect.base:Detector is not able to detect the language reliably.\n",
            "WARNING:polyglot.detect.base:Detector is not able to detect the language reliably.\n",
            "WARNING:polyglot.detect.base:Detector is not able to detect the language reliably.\n",
            "WARNING:polyglot.detect.base:Detector is not able to detect the language reliably.\n",
            "WARNING:polyglot.detect.base:Detector is not able to detect the language reliably.\n",
            "WARNING:polyglot.detect.base:Detector is not able to detect the language reliably.\n",
            "WARNING:polyglot.detect.base:Detector is not able to detect the language reliably.\n",
            "WARNING:polyglot.detect.base:Detector is not able to detect the language reliably.\n",
            "WARNING:polyglot.detect.base:Detector is not able to detect the language reliably.\n",
            "WARNING:polyglot.detect.base:Detector is not able to detect the language reliably.\n",
            "WARNING:polyglot.detect.base:Detector is not able to detect the language reliably.\n",
            "WARNING:polyglot.detect.base:Detector is not able to detect the language reliably.\n",
            "WARNING:polyglot.detect.base:Detector is not able to detect the language reliably.\n",
            "WARNING:polyglot.detect.base:Detector is not able to detect the language reliably.\n",
            "WARNING:polyglot.detect.base:Detector is not able to detect the language reliably.\n",
            "WARNING:polyglot.detect.base:Detector is not able to detect the language reliably.\n",
            "WARNING:polyglot.detect.base:Detector is not able to detect the language reliably.\n",
            "WARNING:polyglot.detect.base:Detector is not able to detect the language reliably.\n",
            "WARNING:polyglot.detect.base:Detector is not able to detect the language reliably.\n",
            "WARNING:polyglot.detect.base:Detector is not able to detect the language reliably.\n",
            "WARNING:polyglot.detect.base:Detector is not able to detect the language reliably.\n",
            "WARNING:polyglot.detect.base:Detector is not able to detect the language reliably.\n",
            "WARNING:polyglot.detect.base:Detector is not able to detect the language reliably.\n",
            "WARNING:polyglot.detect.base:Detector is not able to detect the language reliably.\n",
            "WARNING:polyglot.detect.base:Detector is not able to detect the language reliably.\n",
            "WARNING:polyglot.detect.base:Detector is not able to detect the language reliably.\n",
            "WARNING:polyglot.detect.base:Detector is not able to detect the language reliably.\n",
            "WARNING:polyglot.detect.base:Detector is not able to detect the language reliably.\n",
            "WARNING:polyglot.detect.base:Detector is not able to detect the language reliably.\n",
            "WARNING:polyglot.detect.base:Detector is not able to detect the language reliably.\n",
            "WARNING:polyglot.detect.base:Detector is not able to detect the language reliably.\n",
            "WARNING:polyglot.detect.base:Detector is not able to detect the language reliably.\n",
            "WARNING:polyglot.detect.base:Detector is not able to detect the language reliably.\n",
            "WARNING:polyglot.detect.base:Detector is not able to detect the language reliably.\n",
            "WARNING:polyglot.detect.base:Detector is not able to detect the language reliably.\n",
            "WARNING:polyglot.detect.base:Detector is not able to detect the language reliably.\n",
            "WARNING:polyglot.detect.base:Detector is not able to detect the language reliably.\n",
            "WARNING:polyglot.detect.base:Detector is not able to detect the language reliably.\n",
            "WARNING:polyglot.detect.base:Detector is not able to detect the language reliably.\n",
            "WARNING:polyglot.detect.base:Detector is not able to detect the language reliably.\n",
            "WARNING:polyglot.detect.base:Detector is not able to detect the language reliably.\n",
            "WARNING:polyglot.detect.base:Detector is not able to detect the language reliably.\n",
            "WARNING:polyglot.detect.base:Detector is not able to detect the language reliably.\n",
            "WARNING:polyglot.detect.base:Detector is not able to detect the language reliably.\n",
            "WARNING:polyglot.detect.base:Detector is not able to detect the language reliably.\n",
            "WARNING:polyglot.detect.base:Detector is not able to detect the language reliably.\n",
            "WARNING:polyglot.detect.base:Detector is not able to detect the language reliably.\n",
            "WARNING:polyglot.detect.base:Detector is not able to detect the language reliably.\n",
            "WARNING:polyglot.detect.base:Detector is not able to detect the language reliably.\n",
            "WARNING:polyglot.detect.base:Detector is not able to detect the language reliably.\n",
            "WARNING:polyglot.detect.base:Detector is not able to detect the language reliably.\n",
            "WARNING:polyglot.detect.base:Detector is not able to detect the language reliably.\n",
            "WARNING:polyglot.detect.base:Detector is not able to detect the language reliably.\n",
            "WARNING:polyglot.detect.base:Detector is not able to detect the language reliably.\n",
            "WARNING:polyglot.detect.base:Detector is not able to detect the language reliably.\n",
            "WARNING:polyglot.detect.base:Detector is not able to detect the language reliably.\n",
            "WARNING:polyglot.detect.base:Detector is not able to detect the language reliably.\n",
            "WARNING:polyglot.detect.base:Detector is not able to detect the language reliably.\n",
            "WARNING:polyglot.detect.base:Detector is not able to detect the language reliably.\n",
            "WARNING:polyglot.detect.base:Detector is not able to detect the language reliably.\n",
            "WARNING:polyglot.detect.base:Detector is not able to detect the language reliably.\n",
            "WARNING:polyglot.detect.base:Detector is not able to detect the language reliably.\n",
            "WARNING:polyglot.detect.base:Detector is not able to detect the language reliably.\n",
            "WARNING:polyglot.detect.base:Detector is not able to detect the language reliably.\n",
            "WARNING:polyglot.detect.base:Detector is not able to detect the language reliably.\n",
            "WARNING:polyglot.detect.base:Detector is not able to detect the language reliably.\n",
            "WARNING:polyglot.detect.base:Detector is not able to detect the language reliably.\n",
            "WARNING:polyglot.detect.base:Detector is not able to detect the language reliably.\n",
            "WARNING:polyglot.detect.base:Detector is not able to detect the language reliably.\n",
            "WARNING:polyglot.detect.base:Detector is not able to detect the language reliably.\n",
            "WARNING:polyglot.detect.base:Detector is not able to detect the language reliably.\n",
            "WARNING:polyglot.detect.base:Detector is not able to detect the language reliably.\n",
            "WARNING:polyglot.detect.base:Detector is not able to detect the language reliably.\n",
            "WARNING:polyglot.detect.base:Detector is not able to detect the language reliably.\n",
            "WARNING:polyglot.detect.base:Detector is not able to detect the language reliably.\n",
            "WARNING:polyglot.detect.base:Detector is not able to detect the language reliably.\n",
            "WARNING:polyglot.detect.base:Detector is not able to detect the language reliably.\n",
            "WARNING:polyglot.detect.base:Detector is not able to detect the language reliably.\n",
            "WARNING:polyglot.detect.base:Detector is not able to detect the language reliably.\n",
            "WARNING:polyglot.detect.base:Detector is not able to detect the language reliably.\n",
            "WARNING:polyglot.detect.base:Detector is not able to detect the language reliably.\n",
            "WARNING:polyglot.detect.base:Detector is not able to detect the language reliably.\n",
            "WARNING:polyglot.detect.base:Detector is not able to detect the language reliably.\n",
            "WARNING:polyglot.detect.base:Detector is not able to detect the language reliably.\n",
            "WARNING:polyglot.detect.base:Detector is not able to detect the language reliably.\n",
            "WARNING:polyglot.detect.base:Detector is not able to detect the language reliably.\n",
            "WARNING:polyglot.detect.base:Detector is not able to detect the language reliably.\n",
            "WARNING:polyglot.detect.base:Detector is not able to detect the language reliably.\n",
            "WARNING:polyglot.detect.base:Detector is not able to detect the language reliably.\n",
            "WARNING:polyglot.detect.base:Detector is not able to detect the language reliably.\n",
            "WARNING:polyglot.detect.base:Detector is not able to detect the language reliably.\n",
            "WARNING:polyglot.detect.base:Detector is not able to detect the language reliably.\n",
            "WARNING:polyglot.detect.base:Detector is not able to detect the language reliably.\n",
            "WARNING:polyglot.detect.base:Detector is not able to detect the language reliably.\n",
            "WARNING:polyglot.detect.base:Detector is not able to detect the language reliably.\n",
            "WARNING:polyglot.detect.base:Detector is not able to detect the language reliably.\n",
            "WARNING:polyglot.detect.base:Detector is not able to detect the language reliably.\n",
            "WARNING:polyglot.detect.base:Detector is not able to detect the language reliably.\n",
            "WARNING:polyglot.detect.base:Detector is not able to detect the language reliably.\n",
            "WARNING:polyglot.detect.base:Detector is not able to detect the language reliably.\n",
            "WARNING:polyglot.detect.base:Detector is not able to detect the language reliably.\n",
            "WARNING:polyglot.detect.base:Detector is not able to detect the language reliably.\n",
            "WARNING:polyglot.detect.base:Detector is not able to detect the language reliably.\n",
            "WARNING:polyglot.detect.base:Detector is not able to detect the language reliably.\n",
            "WARNING:polyglot.detect.base:Detector is not able to detect the language reliably.\n",
            "WARNING:polyglot.detect.base:Detector is not able to detect the language reliably.\n",
            "WARNING:polyglot.detect.base:Detector is not able to detect the language reliably.\n",
            "WARNING:polyglot.detect.base:Detector is not able to detect the language reliably.\n",
            "WARNING:polyglot.detect.base:Detector is not able to detect the language reliably.\n"
          ]
        },
        {
          "name": "stdout",
          "output_type": "stream",
          "text": [
            "Error occurred: This resource is available in the index but not downloaded, yet. Try to run\n",
            "\n",
            "polyglot download sentiment2.ar\n"
          ]
        },
        {
          "name": "stderr",
          "output_type": "stream",
          "text": [
            "WARNING:polyglot.detect.base:Detector is not able to detect the language reliably.\n",
            "WARNING:polyglot.detect.base:Detector is not able to detect the language reliably.\n",
            "WARNING:polyglot.detect.base:Detector is not able to detect the language reliably.\n",
            "WARNING:polyglot.detect.base:Detector is not able to detect the language reliably.\n",
            "WARNING:polyglot.detect.base:Detector is not able to detect the language reliably.\n",
            "WARNING:polyglot.detect.base:Detector is not able to detect the language reliably.\n",
            "WARNING:polyglot.detect.base:Detector is not able to detect the language reliably.\n",
            "WARNING:polyglot.detect.base:Detector is not able to detect the language reliably.\n",
            "WARNING:polyglot.detect.base:Detector is not able to detect the language reliably.\n",
            "WARNING:polyglot.detect.base:Detector is not able to detect the language reliably.\n",
            "WARNING:polyglot.detect.base:Detector is not able to detect the language reliably.\n"
          ]
        },
        {
          "name": "stdout",
          "output_type": "stream",
          "text": [
            "Error occurred: This resource is available in the index but not downloaded, yet. Try to run\n",
            "\n",
            "polyglot download sentiment2.ar\n"
          ]
        },
        {
          "name": "stderr",
          "output_type": "stream",
          "text": [
            "WARNING:polyglot.detect.base:Detector is not able to detect the language reliably.\n"
          ]
        },
        {
          "name": "stdout",
          "output_type": "stream",
          "text": [
            "Error occurred: This resource is available in the index but not downloaded, yet. Try to run\n",
            "\n",
            "polyglot download sentiment2.en\n"
          ]
        },
        {
          "name": "stderr",
          "output_type": "stream",
          "text": [
            "WARNING:polyglot.detect.base:Detector is not able to detect the language reliably.\n"
          ]
        },
        {
          "name": "stdout",
          "output_type": "stream",
          "text": [
            "Error occurred: This resource is available in the index but not downloaded, yet. Try to run\n",
            "\n",
            "polyglot download sentiment2.ur\n"
          ]
        },
        {
          "name": "stderr",
          "output_type": "stream",
          "text": [
            "WARNING:polyglot.detect.base:Detector is not able to detect the language reliably.\n"
          ]
        },
        {
          "name": "stdout",
          "output_type": "stream",
          "text": [
            "Error occurred: Package 'sentiment2.un' not found in index\n"
          ]
        },
        {
          "name": "stderr",
          "output_type": "stream",
          "text": [
            "WARNING:polyglot.detect.base:Detector is not able to detect the language reliably.\n",
            "WARNING:polyglot.detect.base:Detector is not able to detect the language reliably.\n",
            "WARNING:polyglot.detect.base:Detector is not able to detect the language reliably.\n",
            "WARNING:polyglot.detect.base:Detector is not able to detect the language reliably.\n",
            "WARNING:polyglot.detect.base:Detector is not able to detect the language reliably.\n",
            "WARNING:polyglot.detect.base:Detector is not able to detect the language reliably.\n",
            "WARNING:polyglot.detect.base:Detector is not able to detect the language reliably.\n"
          ]
        },
        {
          "name": "stdout",
          "output_type": "stream",
          "text": [
            "Error occurred: This resource is available in the index but not downloaded, yet. Try to run\n",
            "\n",
            "polyglot download sentiment2.ur\n"
          ]
        },
        {
          "name": "stderr",
          "output_type": "stream",
          "text": [
            "WARNING:polyglot.detect.base:Detector is not able to detect the language reliably.\n",
            "WARNING:polyglot.detect.base:Detector is not able to detect the language reliably.\n",
            "WARNING:polyglot.detect.base:Detector is not able to detect the language reliably.\n",
            "WARNING:polyglot.detect.base:Detector is not able to detect the language reliably.\n"
          ]
        },
        {
          "name": "stdout",
          "output_type": "stream",
          "text": [
            "Error occurred: This resource is available in the index but not downloaded, yet. Try to run\n",
            "\n",
            "polyglot download sentiment2.ur\n"
          ]
        },
        {
          "name": "stderr",
          "output_type": "stream",
          "text": [
            "WARNING:polyglot.detect.base:Detector is not able to detect the language reliably.\n",
            "WARNING:polyglot.detect.base:Detector is not able to detect the language reliably.\n",
            "WARNING:polyglot.detect.base:Detector is not able to detect the language reliably.\n"
          ]
        },
        {
          "name": "stdout",
          "output_type": "stream",
          "text": [
            "Error occurred: This resource is available in the index but not downloaded, yet. Try to run\n",
            "\n",
            "polyglot download sentiment2.ur\n"
          ]
        },
        {
          "name": "stderr",
          "output_type": "stream",
          "text": [
            "WARNING:polyglot.detect.base:Detector is not able to detect the language reliably.\n",
            "WARNING:polyglot.detect.base:Detector is not able to detect the language reliably.\n",
            "WARNING:polyglot.detect.base:Detector is not able to detect the language reliably.\n",
            "WARNING:polyglot.detect.base:Detector is not able to detect the language reliably.\n",
            "WARNING:polyglot.detect.base:Detector is not able to detect the language reliably.\n",
            "WARNING:polyglot.detect.base:Detector is not able to detect the language reliably.\n",
            "WARNING:polyglot.detect.base:Detector is not able to detect the language reliably.\n",
            "WARNING:polyglot.detect.base:Detector is not able to detect the language reliably.\n",
            "WARNING:polyglot.detect.base:Detector is not able to detect the language reliably.\n",
            "WARNING:polyglot.detect.base:Detector is not able to detect the language reliably.\n",
            "WARNING:polyglot.detect.base:Detector is not able to detect the language reliably.\n",
            "WARNING:polyglot.detect.base:Detector is not able to detect the language reliably.\n"
          ]
        },
        {
          "name": "stdout",
          "output_type": "stream",
          "text": [
            "Error occurred: This resource is available in the index but not downloaded, yet. Try to run\n",
            "\n",
            "polyglot download sentiment2.ar\n"
          ]
        },
        {
          "name": "stderr",
          "output_type": "stream",
          "text": [
            "WARNING:polyglot.detect.base:Detector is not able to detect the language reliably.\n",
            "WARNING:polyglot.detect.base:Detector is not able to detect the language reliably.\n",
            "WARNING:polyglot.detect.base:Detector is not able to detect the language reliably.\n",
            "WARNING:polyglot.detect.base:Detector is not able to detect the language reliably.\n"
          ]
        },
        {
          "name": "stdout",
          "output_type": "stream",
          "text": [
            "Error occurred: This resource is available in the index but not downloaded, yet. Try to run\n",
            "\n",
            "polyglot download sentiment2.ur\n"
          ]
        },
        {
          "name": "stderr",
          "output_type": "stream",
          "text": [
            "WARNING:polyglot.detect.base:Detector is not able to detect the language reliably.\n",
            "WARNING:polyglot.detect.base:Detector is not able to detect the language reliably.\n",
            "WARNING:polyglot.detect.base:Detector is not able to detect the language reliably.\n",
            "WARNING:polyglot.detect.base:Detector is not able to detect the language reliably.\n",
            "WARNING:polyglot.detect.base:Detector is not able to detect the language reliably.\n",
            "WARNING:polyglot.detect.base:Detector is not able to detect the language reliably.\n",
            "WARNING:polyglot.detect.base:Detector is not able to detect the language reliably.\n",
            "WARNING:polyglot.detect.base:Detector is not able to detect the language reliably.\n",
            "WARNING:polyglot.detect.base:Detector is not able to detect the language reliably.\n",
            "WARNING:polyglot.detect.base:Detector is not able to detect the language reliably.\n",
            "WARNING:polyglot.detect.base:Detector is not able to detect the language reliably.\n",
            "WARNING:polyglot.detect.base:Detector is not able to detect the language reliably.\n",
            "WARNING:polyglot.detect.base:Detector is not able to detect the language reliably.\n"
          ]
        },
        {
          "name": "stdout",
          "output_type": "stream",
          "text": [
            "Error occurred: Package 'sentiment2.un' not found in index\n"
          ]
        },
        {
          "name": "stderr",
          "output_type": "stream",
          "text": [
            "WARNING:polyglot.detect.base:Detector is not able to detect the language reliably.\n",
            "WARNING:polyglot.detect.base:Detector is not able to detect the language reliably.\n",
            "WARNING:polyglot.detect.base:Detector is not able to detect the language reliably.\n",
            "WARNING:polyglot.detect.base:Detector is not able to detect the language reliably.\n",
            "WARNING:polyglot.detect.base:Detector is not able to detect the language reliably.\n",
            "WARNING:polyglot.detect.base:Detector is not able to detect the language reliably.\n",
            "WARNING:polyglot.detect.base:Detector is not able to detect the language reliably.\n",
            "WARNING:polyglot.detect.base:Detector is not able to detect the language reliably.\n"
          ]
        },
        {
          "name": "stdout",
          "output_type": "stream",
          "text": [
            "Error occurred: This resource is available in the index but not downloaded, yet. Try to run\n",
            "\n",
            "polyglot download sentiment2.ar\n",
            "Error occurred: This resource is available in the index but not downloaded, yet. Try to run\n",
            "\n",
            "polyglot download sentiment2.en\n"
          ]
        },
        {
          "name": "stderr",
          "output_type": "stream",
          "text": [
            "WARNING:polyglot.detect.base:Detector is not able to detect the language reliably.\n",
            "WARNING:polyglot.detect.base:Detector is not able to detect the language reliably.\n"
          ]
        },
        {
          "name": "stdout",
          "output_type": "stream",
          "text": [
            "Error occurred: This resource is available in the index but not downloaded, yet. Try to run\n",
            "\n",
            "polyglot download sentiment2.ur\n"
          ]
        },
        {
          "name": "stderr",
          "output_type": "stream",
          "text": [
            "WARNING:polyglot.detect.base:Detector is not able to detect the language reliably.\n",
            "WARNING:polyglot.detect.base:Detector is not able to detect the language reliably.\n",
            "WARNING:polyglot.detect.base:Detector is not able to detect the language reliably.\n",
            "WARNING:polyglot.detect.base:Detector is not able to detect the language reliably.\n",
            "WARNING:polyglot.detect.base:Detector is not able to detect the language reliably.\n",
            "WARNING:polyglot.detect.base:Detector is not able to detect the language reliably.\n",
            "WARNING:polyglot.detect.base:Detector is not able to detect the language reliably.\n",
            "WARNING:polyglot.detect.base:Detector is not able to detect the language reliably.\n",
            "WARNING:polyglot.detect.base:Detector is not able to detect the language reliably.\n",
            "WARNING:polyglot.detect.base:Detector is not able to detect the language reliably.\n",
            "WARNING:polyglot.detect.base:Detector is not able to detect the language reliably.\n",
            "WARNING:polyglot.detect.base:Detector is not able to detect the language reliably.\n"
          ]
        },
        {
          "name": "stdout",
          "output_type": "stream",
          "text": [
            "Error occurred: This resource is available in the index but not downloaded, yet. Try to run\n",
            "\n",
            "polyglot download sentiment2.en\n"
          ]
        },
        {
          "name": "stderr",
          "output_type": "stream",
          "text": [
            "WARNING:polyglot.detect.base:Detector is not able to detect the language reliably.\n",
            "WARNING:polyglot.detect.base:Detector is not able to detect the language reliably.\n",
            "WARNING:polyglot.detect.base:Detector is not able to detect the language reliably.\n",
            "WARNING:polyglot.detect.base:Detector is not able to detect the language reliably.\n",
            "WARNING:polyglot.detect.base:Detector is not able to detect the language reliably.\n",
            "WARNING:polyglot.detect.base:Detector is not able to detect the language reliably.\n",
            "WARNING:polyglot.detect.base:Detector is not able to detect the language reliably.\n",
            "WARNING:polyglot.detect.base:Detector is not able to detect the language reliably.\n",
            "WARNING:polyglot.detect.base:Detector is not able to detect the language reliably.\n",
            "WARNING:polyglot.detect.base:Detector is not able to detect the language reliably.\n",
            "WARNING:polyglot.detect.base:Detector is not able to detect the language reliably.\n",
            "WARNING:polyglot.detect.base:Detector is not able to detect the language reliably.\n",
            "WARNING:polyglot.detect.base:Detector is not able to detect the language reliably.\n"
          ]
        },
        {
          "name": "stdout",
          "output_type": "stream",
          "text": [
            "Error occurred: This resource is available in the index but not downloaded, yet. Try to run\n",
            "\n",
            "polyglot download sentiment2.ps\n"
          ]
        },
        {
          "name": "stderr",
          "output_type": "stream",
          "text": [
            "WARNING:polyglot.detect.base:Detector is not able to detect the language reliably.\n",
            "WARNING:polyglot.detect.base:Detector is not able to detect the language reliably.\n",
            "WARNING:polyglot.detect.base:Detector is not able to detect the language reliably.\n",
            "WARNING:polyglot.detect.base:Detector is not able to detect the language reliably.\n",
            "WARNING:polyglot.detect.base:Detector is not able to detect the language reliably.\n"
          ]
        },
        {
          "name": "stdout",
          "output_type": "stream",
          "text": [
            "Error occurred: This resource is available in the index but not downloaded, yet. Try to run\n",
            "\n",
            "polyglot download sentiment2.en\n"
          ]
        },
        {
          "name": "stderr",
          "output_type": "stream",
          "text": [
            "WARNING:polyglot.detect.base:Detector is not able to detect the language reliably.\n",
            "WARNING:polyglot.detect.base:Detector is not able to detect the language reliably.\n",
            "WARNING:polyglot.detect.base:Detector is not able to detect the language reliably.\n",
            "WARNING:polyglot.detect.base:Detector is not able to detect the language reliably.\n",
            "WARNING:polyglot.detect.base:Detector is not able to detect the language reliably.\n",
            "WARNING:polyglot.detect.base:Detector is not able to detect the language reliably.\n",
            "WARNING:polyglot.detect.base:Detector is not able to detect the language reliably.\n",
            "WARNING:polyglot.detect.base:Detector is not able to detect the language reliably.\n"
          ]
        },
        {
          "name": "stdout",
          "output_type": "stream",
          "text": [
            "Error occurred: This resource is available in the index but not downloaded, yet. Try to run\n",
            "\n",
            "polyglot download sentiment2.af\n"
          ]
        },
        {
          "name": "stderr",
          "output_type": "stream",
          "text": [
            "WARNING:polyglot.detect.base:Detector is not able to detect the language reliably.\n",
            "WARNING:polyglot.detect.base:Detector is not able to detect the language reliably.\n",
            "WARNING:polyglot.detect.base:Detector is not able to detect the language reliably.\n",
            "WARNING:polyglot.detect.base:Detector is not able to detect the language reliably.\n",
            "WARNING:polyglot.detect.base:Detector is not able to detect the language reliably.\n",
            "WARNING:polyglot.detect.base:Detector is not able to detect the language reliably.\n",
            "WARNING:polyglot.detect.base:Detector is not able to detect the language reliably.\n",
            "WARNING:polyglot.detect.base:Detector is not able to detect the language reliably.\n",
            "WARNING:polyglot.detect.base:Detector is not able to detect the language reliably.\n"
          ]
        },
        {
          "name": "stdout",
          "output_type": "stream",
          "text": [
            "Error occurred: Package 'sentiment2.xh' not found in index\n"
          ]
        },
        {
          "name": "stderr",
          "output_type": "stream",
          "text": [
            "WARNING:polyglot.detect.base:Detector is not able to detect the language reliably.\n",
            "WARNING:polyglot.detect.base:Detector is not able to detect the language reliably.\n",
            "WARNING:polyglot.detect.base:Detector is not able to detect the language reliably.\n",
            "WARNING:polyglot.detect.base:Detector is not able to detect the language reliably.\n",
            "WARNING:polyglot.detect.base:Detector is not able to detect the language reliably.\n",
            "WARNING:polyglot.detect.base:Detector is not able to detect the language reliably.\n",
            "WARNING:polyglot.detect.base:Detector is not able to detect the language reliably.\n"
          ]
        },
        {
          "name": "stdout",
          "output_type": "stream",
          "text": [
            "Error occurred: This resource is available in the index but not downloaded, yet. Try to run\n",
            "\n",
            "polyglot download sentiment2.ur\n"
          ]
        },
        {
          "name": "stderr",
          "output_type": "stream",
          "text": [
            "WARNING:polyglot.detect.base:Detector is not able to detect the language reliably.\n",
            "WARNING:polyglot.detect.base:Detector is not able to detect the language reliably.\n",
            "WARNING:polyglot.detect.base:Detector is not able to detect the language reliably.\n",
            "WARNING:polyglot.detect.base:Detector is not able to detect the language reliably.\n",
            "WARNING:polyglot.detect.base:Detector is not able to detect the language reliably.\n",
            "WARNING:polyglot.detect.base:Detector is not able to detect the language reliably.\n",
            "WARNING:polyglot.detect.base:Detector is not able to detect the language reliably.\n",
            "WARNING:polyglot.detect.base:Detector is not able to detect the language reliably.\n",
            "WARNING:polyglot.detect.base:Detector is not able to detect the language reliably.\n",
            "WARNING:polyglot.detect.base:Detector is not able to detect the language reliably.\n",
            "WARNING:polyglot.detect.base:Detector is not able to detect the language reliably.\n",
            "WARNING:polyglot.detect.base:Detector is not able to detect the language reliably.\n",
            "WARNING:polyglot.detect.base:Detector is not able to detect the language reliably.\n",
            "WARNING:polyglot.detect.base:Detector is not able to detect the language reliably.\n",
            "WARNING:polyglot.detect.base:Detector is not able to detect the language reliably.\n",
            "WARNING:polyglot.detect.base:Detector is not able to detect the language reliably.\n",
            "WARNING:polyglot.detect.base:Detector is not able to detect the language reliably.\n",
            "WARNING:polyglot.detect.base:Detector is not able to detect the language reliably.\n",
            "WARNING:polyglot.detect.base:Detector is not able to detect the language reliably.\n",
            "WARNING:polyglot.detect.base:Detector is not able to detect the language reliably.\n",
            "WARNING:polyglot.detect.base:Detector is not able to detect the language reliably.\n",
            "WARNING:polyglot.detect.base:Detector is not able to detect the language reliably.\n",
            "WARNING:polyglot.detect.base:Detector is not able to detect the language reliably.\n",
            "WARNING:polyglot.detect.base:Detector is not able to detect the language reliably.\n",
            "WARNING:polyglot.detect.base:Detector is not able to detect the language reliably.\n",
            "WARNING:polyglot.detect.base:Detector is not able to detect the language reliably.\n",
            "WARNING:polyglot.detect.base:Detector is not able to detect the language reliably.\n",
            "WARNING:polyglot.detect.base:Detector is not able to detect the language reliably.\n",
            "WARNING:polyglot.detect.base:Detector is not able to detect the language reliably.\n",
            "WARNING:polyglot.detect.base:Detector is not able to detect the language reliably.\n",
            "WARNING:polyglot.detect.base:Detector is not able to detect the language reliably.\n",
            "WARNING:polyglot.detect.base:Detector is not able to detect the language reliably.\n",
            "WARNING:polyglot.detect.base:Detector is not able to detect the language reliably.\n",
            "WARNING:polyglot.detect.base:Detector is not able to detect the language reliably.\n"
          ]
        },
        {
          "name": "stdout",
          "output_type": "stream",
          "text": [
            "Error occurred: This resource is available in the index but not downloaded, yet. Try to run\n",
            "\n",
            "polyglot download sentiment2.ar\n"
          ]
        },
        {
          "name": "stderr",
          "output_type": "stream",
          "text": [
            "WARNING:polyglot.detect.base:Detector is not able to detect the language reliably.\n"
          ]
        },
        {
          "name": "stdout",
          "output_type": "stream",
          "text": [
            "Error occurred: Package 'sentiment2.zzp' not found in index\n"
          ]
        },
        {
          "name": "stderr",
          "output_type": "stream",
          "text": [
            "WARNING:polyglot.detect.base:Detector is not able to detect the language reliably.\n",
            "WARNING:polyglot.detect.base:Detector is not able to detect the language reliably.\n",
            "WARNING:polyglot.detect.base:Detector is not able to detect the language reliably.\n"
          ]
        },
        {
          "name": "stdout",
          "output_type": "stream",
          "text": [
            "Error occurred: This resource is available in the index but not downloaded, yet. Try to run\n",
            "\n",
            "polyglot download sentiment2.en\n"
          ]
        },
        {
          "name": "stderr",
          "output_type": "stream",
          "text": [
            "WARNING:polyglot.detect.base:Detector is not able to detect the language reliably.\n",
            "WARNING:polyglot.detect.base:Detector is not able to detect the language reliably.\n",
            "WARNING:polyglot.detect.base:Detector is not able to detect the language reliably.\n",
            "WARNING:polyglot.detect.base:Detector is not able to detect the language reliably.\n",
            "WARNING:polyglot.detect.base:Detector is not able to detect the language reliably.\n",
            "WARNING:polyglot.detect.base:Detector is not able to detect the language reliably.\n",
            "WARNING:polyglot.detect.base:Detector is not able to detect the language reliably.\n",
            "WARNING:polyglot.detect.base:Detector is not able to detect the language reliably.\n"
          ]
        },
        {
          "name": "stdout",
          "output_type": "stream",
          "text": [
            "Error occurred: This resource is available in the index but not downloaded, yet. Try to run\n",
            "\n",
            "polyglot download sentiment2.en\n"
          ]
        },
        {
          "name": "stderr",
          "output_type": "stream",
          "text": [
            "WARNING:polyglot.detect.base:Detector is not able to detect the language reliably.\n",
            "WARNING:polyglot.detect.base:Detector is not able to detect the language reliably.\n",
            "WARNING:polyglot.detect.base:Detector is not able to detect the language reliably.\n",
            "WARNING:polyglot.detect.base:Detector is not able to detect the language reliably.\n",
            "WARNING:polyglot.detect.base:Detector is not able to detect the language reliably.\n",
            "WARNING:polyglot.detect.base:Detector is not able to detect the language reliably.\n",
            "WARNING:polyglot.detect.base:Detector is not able to detect the language reliably.\n",
            "WARNING:polyglot.detect.base:Detector is not able to detect the language reliably.\n",
            "WARNING:polyglot.detect.base:Detector is not able to detect the language reliably.\n"
          ]
        },
        {
          "name": "stdout",
          "output_type": "stream",
          "text": [
            "Error occurred: This resource is available in the index but not downloaded, yet. Try to run\n",
            "\n",
            "polyglot download sentiment2.ar\n"
          ]
        },
        {
          "name": "stderr",
          "output_type": "stream",
          "text": [
            "WARNING:polyglot.detect.base:Detector is not able to detect the language reliably.\n"
          ]
        },
        {
          "name": "stdout",
          "output_type": "stream",
          "text": [
            "Error occurred: Package 'sentiment2.sd' not found in index\n"
          ]
        },
        {
          "name": "stderr",
          "output_type": "stream",
          "text": [
            "WARNING:polyglot.detect.base:Detector is not able to detect the language reliably.\n"
          ]
        },
        {
          "name": "stdout",
          "output_type": "stream",
          "text": [
            "Error occurred: This resource is available in the index but not downloaded, yet. Try to run\n",
            "\n",
            "polyglot download sentiment2.ps\n"
          ]
        },
        {
          "name": "stderr",
          "output_type": "stream",
          "text": [
            "WARNING:polyglot.detect.base:Detector is not able to detect the language reliably.\n",
            "WARNING:polyglot.detect.base:Detector is not able to detect the language reliably.\n",
            "WARNING:polyglot.detect.base:Detector is not able to detect the language reliably.\n",
            "WARNING:polyglot.detect.base:Detector is not able to detect the language reliably.\n",
            "WARNING:polyglot.detect.base:Detector is not able to detect the language reliably.\n",
            "WARNING:polyglot.detect.base:Detector is not able to detect the language reliably.\n",
            "WARNING:polyglot.detect.base:Detector is not able to detect the language reliably.\n",
            "WARNING:polyglot.detect.base:Detector is not able to detect the language reliably.\n",
            "WARNING:polyglot.detect.base:Detector is not able to detect the language reliably.\n"
          ]
        },
        {
          "name": "stdout",
          "output_type": "stream",
          "text": [
            "Error occurred: This resource is available in the index but not downloaded, yet. Try to run\n",
            "\n",
            "polyglot download sentiment2.ur\n"
          ]
        },
        {
          "name": "stderr",
          "output_type": "stream",
          "text": [
            "WARNING:polyglot.detect.base:Detector is not able to detect the language reliably.\n",
            "WARNING:polyglot.detect.base:Detector is not able to detect the language reliably.\n",
            "WARNING:polyglot.detect.base:Detector is not able to detect the language reliably.\n"
          ]
        },
        {
          "name": "stdout",
          "output_type": "stream",
          "text": [
            "Error occurred: This resource is available in the index but not downloaded, yet. Try to run\n",
            "\n",
            "polyglot download sentiment2.ur\n"
          ]
        },
        {
          "name": "stderr",
          "output_type": "stream",
          "text": [
            "WARNING:polyglot.detect.base:Detector is not able to detect the language reliably.\n"
          ]
        },
        {
          "name": "stdout",
          "output_type": "stream",
          "text": [
            "Error occurred: This resource is available in the index but not downloaded, yet. Try to run\n",
            "\n",
            "polyglot download sentiment2.ur\n"
          ]
        },
        {
          "name": "stderr",
          "output_type": "stream",
          "text": [
            "WARNING:polyglot.detect.base:Detector is not able to detect the language reliably.\n",
            "WARNING:polyglot.detect.base:Detector is not able to detect the language reliably.\n",
            "WARNING:polyglot.detect.base:Detector is not able to detect the language reliably.\n",
            "WARNING:polyglot.detect.base:Detector is not able to detect the language reliably.\n",
            "WARNING:polyglot.detect.base:Detector is not able to detect the language reliably.\n",
            "WARNING:polyglot.detect.base:Detector is not able to detect the language reliably.\n",
            "WARNING:polyglot.detect.base:Detector is not able to detect the language reliably.\n",
            "WARNING:polyglot.detect.base:Detector is not able to detect the language reliably.\n",
            "WARNING:polyglot.detect.base:Detector is not able to detect the language reliably.\n",
            "WARNING:polyglot.detect.base:Detector is not able to detect the language reliably.\n",
            "WARNING:polyglot.detect.base:Detector is not able to detect the language reliably.\n"
          ]
        },
        {
          "name": "stdout",
          "output_type": "stream",
          "text": [
            "Error occurred: Package 'sentiment2.sd' not found in index\n",
            "Error occurred: This resource is available in the index but not downloaded, yet. Try to run\n",
            "\n",
            "polyglot download sentiment2.ps\n"
          ]
        },
        {
          "name": "stderr",
          "output_type": "stream",
          "text": [
            "WARNING:polyglot.detect.base:Detector is not able to detect the language reliably.\n",
            "WARNING:polyglot.detect.base:Detector is not able to detect the language reliably.\n",
            "WARNING:polyglot.detect.base:Detector is not able to detect the language reliably.\n",
            "WARNING:polyglot.detect.base:Detector is not able to detect the language reliably.\n"
          ]
        },
        {
          "name": "stdout",
          "output_type": "stream",
          "text": [
            "Error occurred: This resource is available in the index but not downloaded, yet. Try to run\n",
            "\n",
            "polyglot download sentiment2.ar\n"
          ]
        },
        {
          "name": "stderr",
          "output_type": "stream",
          "text": [
            "WARNING:polyglot.detect.base:Detector is not able to detect the language reliably.\n",
            "WARNING:polyglot.detect.base:Detector is not able to detect the language reliably.\n",
            "WARNING:polyglot.detect.base:Detector is not able to detect the language reliably.\n",
            "WARNING:polyglot.detect.base:Detector is not able to detect the language reliably.\n",
            "WARNING:polyglot.detect.base:Detector is not able to detect the language reliably.\n",
            "WARNING:polyglot.detect.base:Detector is not able to detect the language reliably.\n",
            "WARNING:polyglot.detect.base:Detector is not able to detect the language reliably.\n",
            "WARNING:polyglot.detect.base:Detector is not able to detect the language reliably.\n",
            "WARNING:polyglot.detect.base:Detector is not able to detect the language reliably.\n",
            "WARNING:polyglot.detect.base:Detector is not able to detect the language reliably.\n",
            "WARNING:polyglot.detect.base:Detector is not able to detect the language reliably.\n",
            "WARNING:polyglot.detect.base:Detector is not able to detect the language reliably.\n",
            "WARNING:polyglot.detect.base:Detector is not able to detect the language reliably.\n",
            "WARNING:polyglot.detect.base:Detector is not able to detect the language reliably.\n",
            "WARNING:polyglot.detect.base:Detector is not able to detect the language reliably.\n"
          ]
        },
        {
          "name": "stdout",
          "output_type": "stream",
          "text": [
            "Error occurred: This resource is available in the index but not downloaded, yet. Try to run\n",
            "\n",
            "polyglot download sentiment2.ur\n"
          ]
        },
        {
          "name": "stderr",
          "output_type": "stream",
          "text": [
            "WARNING:polyglot.detect.base:Detector is not able to detect the language reliably.\n",
            "WARNING:polyglot.detect.base:Detector is not able to detect the language reliably.\n",
            "WARNING:polyglot.detect.base:Detector is not able to detect the language reliably.\n",
            "WARNING:polyglot.detect.base:Detector is not able to detect the language reliably.\n",
            "WARNING:polyglot.detect.base:Detector is not able to detect the language reliably.\n",
            "WARNING:polyglot.detect.base:Detector is not able to detect the language reliably.\n",
            "WARNING:polyglot.detect.base:Detector is not able to detect the language reliably.\n"
          ]
        },
        {
          "name": "stdout",
          "output_type": "stream",
          "text": [
            "Error occurred: This resource is available in the index but not downloaded, yet. Try to run\n",
            "\n",
            "polyglot download sentiment2.ur\n"
          ]
        },
        {
          "name": "stderr",
          "output_type": "stream",
          "text": [
            "WARNING:polyglot.detect.base:Detector is not able to detect the language reliably.\n",
            "WARNING:polyglot.detect.base:Detector is not able to detect the language reliably.\n"
          ]
        },
        {
          "name": "stdout",
          "output_type": "stream",
          "text": [
            "Error occurred: This resource is available in the index but not downloaded, yet. Try to run\n",
            "\n",
            "polyglot download sentiment2.ar\n"
          ]
        },
        {
          "name": "stderr",
          "output_type": "stream",
          "text": [
            "WARNING:polyglot.detect.base:Detector is not able to detect the language reliably.\n",
            "WARNING:polyglot.detect.base:Detector is not able to detect the language reliably.\n",
            "WARNING:polyglot.detect.base:Detector is not able to detect the language reliably.\n"
          ]
        }
      ],
      "source": [
        "# Apply sentiment analysis to the \"Tokenized_Sentences\" column of your DataFrame\n",
        "df['Polarity'] = df['Tokenized_Sentences'].apply(analyze_sentiment)"
      ]
    },
    {
      "cell_type": "code",
      "execution_count": null,
      "metadata": {
        "id": "lZ6ZbqCpGlTI"
      },
      "outputs": [],
      "source": [
        "# Define a function to map polarity values to sentiment categories\n",
        "def map_sentiment(polarity):\n",
        "    if polarity > 0:\n",
        "        return 'positive'\n",
        "    elif polarity == 0:\n",
        "        return 'neutral'\n",
        "    else:\n",
        "        return 'negative'\n",
        "\n",
        "# Apply the mapping function to the \"Polarity\" column and save the result in a new column \"Sentiment\"\n",
        "df['Sentiment'] = df['Polarity'].apply(lambda x: map_sentiment(x))\n"
      ]
    },
    {
      "cell_type": "code",
      "execution_count": null,
      "metadata": {
        "colab": {
          "base_uri": "https://localhost:8080/",
          "height": 548
        },
        "id": "i6e1EQOYIbW1",
        "outputId": "f7659f9c-357d-467f-b026-c0b7a3a8a68a"
      },
      "outputs": [
        {
          "data": {
            "image/png": "[encoded data removed]",
            "text/plain": [
              "<Figure size 1000x520 with 1 Axes>"
            ]
          },
          "metadata": {},
          "output_type": "display_data"
        }
      ],
      "source": [
        "from matplotlib import pyplot as plt\n",
        "import seaborn as sns\n",
        "def _plot_series(series, series_name, series_index=0):\n",
        "  palette = list(sns.palettes.mpl_palette('Dark2'))\n",
        "  xs = series['Date']\n",
        "  ys = series['Polarity']\n",
        "\n",
        "  plt.plot(xs, ys, label=series_name, color=palette[series_index % len(palette)])\n",
        "\n",
        "fig, ax = plt.subplots(figsize=(10, 5.2), layout='constrained')\n",
        "df_sorted = df.sort_values('Date', ascending=True)\n",
        "for i, (series_name, series) in enumerate(df_sorted.groupby('Sentiment')):\n",
        "  _plot_series(series, series_name, i)\n",
        "  fig.legend(title='Sentiment', bbox_to_anchor=(1, 1), loc='upper left')\n",
        "sns.despine(fig=fig, ax=ax)\n",
        "plt.xlabel('Date')\n",
        "_ = plt.ylabel('Polarity')"
      ]
    },
    {
      "cell_type": "code",
      "execution_count": null,
      "metadata": {
        "colab": {
          "base_uri": "https://localhost:8080/",
          "height": 430
        },
        "id": "CMtuIXFoIUyh",
        "outputId": "a1a3f5a9-2014-4226-9e0e-8ef5e8e13a8d"
      },
      "outputs": [
        {
          "data": {
            "image/png": "[encoded data removed]",
            "text/plain": [
              "<Figure size 640x480 with 1 Axes>"
            ]
          },
          "metadata": {},
          "output_type": "display_data"
        }
      ],
      "source": [
        "from matplotlib import pyplot as plt\n",
        "import seaborn as sns\n",
        "df.groupby('Sentiment').size().plot(kind='barh', color=sns.palettes.mpl_palette('Dark2'))\n",
        "plt.gca().spines[['top', 'right',]].set_visible(False)"
      ]
    },
    {
      "cell_type": "code",
      "execution_count": null,
      "metadata": {
        "colab": {
          "base_uri": "https://localhost:8080/",
          "height": 521
        },
        "id": "kCCNEponJ3u4",
        "outputId": "a1225821-222f-425f-b12a-bd0290b4297e"
      },
      "outputs": [
        {
          "data": {
            "image/png": "[encoded data removed]",
            "text/plain": [
              "<Figure size 800x600 with 1 Axes>"
            ]
          },
          "metadata": {},
          "output_type": "display_data"
        }
      ],
      "source": [
        "# Count the occurrences of each sentiment category\n",
        "sentiment_counts = df['Sentiment'].value_counts()\n",
        "\n",
        "# Plot a pie chart\n",
        "plt.figure(figsize=(8, 6))\n",
        "plt.pie(sentiment_counts, labels=sentiment_counts.index, autopct='%1.1f%%', startangle=140)\n",
        "plt.title('Distribution of Sentiments')\n",
        "plt.axis('equal')  # Equal aspect ratio ensures that pie is drawn as a circle.\n",
        "plt.show()"
      ]
    },
    {
      "cell_type": "code",
      "execution_count": null,
      "metadata": {
        "colab": {
          "base_uri": "https://localhost:8080/",
          "height": 452
        },
        "id": "E2EBOwfwIq7y",
        "outputId": "43b7909f-0efb-4ff7-ad86-637a3f3dd552"
      },
      "outputs": [
        {
          "data": {
            "image/png": "[encoded data removed]",
            "text/plain": [
              "<Figure size 640x480 with 1 Axes>"
            ]
          },
          "metadata": {},
          "output_type": "display_data"
        }
      ],
      "source": [
        "from matplotlib import pyplot as plt\n",
        "df['Polarity'].plot(kind='hist', bins=20, title='Polarity')\n",
        "plt.gca().spines[['top', 'right',]].set_visible(False)"
      ]
    },
    {
      "cell_type": "code",
      "execution_count": null,
      "metadata": {
        "colab": {
          "base_uri": "https://localhost:8080/",
          "height": 548
        },
        "id": "4lerWB7WIGXQ",
        "outputId": "e600dcd7-1bf7-4d56-d8e7-9048e428a151"
      },
      "outputs": [
        {
          "data": {
            "image/png": "[encoded data removed]",
            "text/plain": [
              "<Figure size 1000x520 with 1 Axes>"
            ]
          },
          "metadata": {},
          "output_type": "display_data"
        }
      ],
      "source": [
        "from matplotlib import pyplot as plt\n",
        "import seaborn as sns\n",
        "def _plot_series(series, series_name, series_index=0):\n",
        "  palette = list(sns.palettes.mpl_palette('Dark2'))\n",
        "  counted = (series['Date']\n",
        "                .value_counts()\n",
        "              .reset_index(name='counts')\n",
        "              .rename({'index': 'Date'}, axis=1)\n",
        "              .sort_values('Date', ascending=True))\n",
        "  xs = counted['Date']\n",
        "  ys = counted['counts']\n",
        "  plt.plot(xs, ys, label=series_name, color=palette[series_index % len(palette)])\n",
        "\n",
        "fig, ax = plt.subplots(figsize=(10, 5.2), layout='constrained')\n",
        "df_sorted = df.sort_values('Date', ascending=True)\n",
        "for i, (series_name, series) in enumerate(df_sorted.groupby('Sentiment')):\n",
        "  _plot_series(series, series_name, i)\n",
        "  fig.legend(title='Sentiment', bbox_to_anchor=(1, 1), loc='upper left')\n",
        "sns.despine(fig=fig, ax=ax)\n",
        "plt.xlabel('Date')\n",
        "_ = plt.ylabel('count()')"
      ]
    },
    {
      "cell_type": "markdown",
      "metadata": {},
      "source": [
        "## Data visualization"
      ]
    },
    {
      "cell_type": "markdown",
      "metadata": {},
      "source": [
        "### Bar plot from the \"Cat\" column"
      ]
    },
    {
      "cell_type": "code",
      "execution_count": null,
      "metadata": {},
      "outputs": [
        {
          "data": {
            "text/plain": [
              "Cat\n",
              "siasi      17530\n",
              "eqtes      16660\n",
              "kharj      14665\n",
              "akhar      13810\n",
              "vrzsh      13010\n",
              "           ...  \n",
              "Theatre        3\n",
              "Musical        3\n",
              "igozar         3\n",
              "Polig          2\n",
              "Thought        2\n",
              "Name: count, Length: 105, dtype: int64"
            ]
          },
          "metadata": {},
          "output_type": "display_data"
        }
      ],
      "source": [
        "cat_counts = df['Cat'].value_counts()\n",
        "cat_counts"
      ]
    },
    {
      "cell_type": "markdown",
      "metadata": {},
      "source": [
        "There are too many categories. let's see the first 20 Categories"
      ]
    },
    {
      "cell_type": "code",
      "execution_count": null,
      "metadata": {},
      "outputs": [
        {
          "data": {
            "image/png": "[encoded data removed]",
            "text/plain": [
              "<Figure size 2000x2000 with 1 Axes>"
            ]
          },
          "metadata": {},
          "output_type": "display_data"
        }
      ],
      "source": [
        "# Count the occurrences of each category in the 'Cat' column\n",
        "cat_counts = df['Cat'].value_counts()\n",
        "\n",
        "# Create a bar plot\n",
        "plt.figure(figsize=(20, 20))\n",
        "cat_counts[:21].plot(kind='bar', color='skyblue')\n",
        "plt.title('Bar Plot of Category Counts')\n",
        "plt.xlabel('Categories')\n",
        "plt.ylabel('Count')\n",
        "plt.xticks(rotation=0)  # Rotate x-axis labels if necessary\n",
        "plt.grid(axis='y')  # Add grid lines along y-axis\n",
        "plt.show()"
      ]
    },
    {
      "cell_type": "code",
      "execution_count": null,
      "metadata": {
        "id": "FI3UgNT2H1Pi"
      },
      "outputs": [],
      "source": [
        "df.to_csv('sentimentDF.csv', index=False)"
      ]
    },
    {
      "cell_type": "code",
      "execution_count": null,
      "metadata": {
        "id": "ajRtLGLOIe5L"
      },
      "outputs": [],
      "source": []
    }
  ],
  "metadata": {
    "accelerator": "TPU",
    "colab": {
      "gpuType": "V28",
      "provenance": []
    },
    "kernelspec": {
      "display_name": "Python 3",
      "name": "python3"
    },
    "language_info": {
      "name": "python"
    }
  },
  "nbformat": 4,
  "nbformat_minor": 0
}
