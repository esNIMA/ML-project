{
 "cells": [
  {
   "attachments": {
    "image.png": {
     "image/png": "[encoded data removed]"
    }
   },
   "cell_type": "markdown",
   "metadata": {},
   "source": [
    "In this part our goal is to reach the goal state G from the starting state S without visiting the hole states H. That is, while trying to reach the goal state G from the starting state S, if the agent visits the hole states H,then it will fall into the hole and die as Figure shows:\n",
    "\n",
    "![image.png](attachment:image.png)\n",
    "\n",
    "• S implies the starting state\n",
    "\n",
    "• F implies the frozen states\n",
    "\n",
    "• H implies the hole states\n",
    "\n",
    "• G implies the goal state"
   ]
  },
  {
   "cell_type": "markdown",
   "metadata": {},
   "source": [
    "## Solving the problem with value iteration\n",
    "In the previous part, we learned about the Frozen Lake environment. we want the agent to avoid the hole states H to reach the goal state G.\n",
    "How can we achieve this goal? That is, how can we reach state G from S without \n",
    "visiting H? We learned that the optimal policy tells the agent to perform the correct \n",
    "action in each state. So, if we find the optimal policy, then we can reach state G \n",
    "from S without visiting state H. Okay, how can we find the optimal policy? We \n",
    "can use the value iteration method we just learned to find the optimal policy.\n",
    "\n",
    "Remember that all our states (S to G) will be encoded from 0 to 16 and all four \n",
    "actions—left, down, up, right—will be encoded from 0 to 3 in the Gym toolkit."
   ]
  },
  {
   "cell_type": "code",
   "execution_count": 7,
   "metadata": {},
   "outputs": [
    {
     "name": "stderr",
     "output_type": "stream",
     "text": [
      "c:\\Users\\Lenovo\\anaconda3\\Lib\\site-packages\\gym\\envs\\toy_text\\frozen_lake.py:271: UserWarning: \u001b[33mWARN: You are calling render method without specifying any render mode. You can specify the render_mode at initialization, e.g. gym(\"FrozenLake-v1\", render_mode=\"rgb_array\")\u001b[0m\n",
      "  logger.warn(\n"
     ]
    }
   ],
   "source": [
    "# First, let's import the necessary libraries:\n",
    "import gym\n",
    "import numpy as np\n",
    "\n",
    "# Now, let's create the Frozen Lake environment using Gym:\n",
    "env = gym.make('FrozenLake-v1')\n",
    "env.reset()\n",
    "env.render()"
   ]
  },
  {
   "attachments": {
    "image.png": {
     "image/png": "[encoded data removed]"
    }
   },
   "cell_type": "markdown",
   "metadata": {},
   "source": [
    "The preceding code will display\n",
    "\n",
    "![image.png](attachment:image.png)\n",
    "\n",
    "let's learn how to compute the optimal policy using the value \n",
    "iteration method."
   ]
  },
  {
   "attachments": {
    "image.png": {
     "image/png": "[encoded data removed]"
    }
   },
   "cell_type": "markdown",
   "metadata": {},
   "source": [
    "In the value iteration method, we perform two steps:\n",
    "1. Compute the optimal value function by taking the maximum over the Q \n",
    "function, that is\n",
    "\n",
    "     ![image.png](attachment:image.png)\n",
    "\n",
    "\n",
    "2. Extract the optimal policy from the computed optimal value function\n"
   ]
  },
  {
   "cell_type": "markdown",
   "metadata": {},
   "source": [
    "## Computing the optimal value function\n",
    "We will develop a function named `value_iteration` to iteratively compute the optimal value function by maximizing the Q function."
   ]
  },
  {
   "cell_type": "code",
   "execution_count": 8,
   "metadata": {},
   "outputs": [],
   "source": [
    "num_iterations = 1000\n",
    "threshold = 1e-20\n",
    "discount_factor = 1.0\n",
    "\n",
    "def value_iteration(env):\n",
    "    value_table = np.zeros(env.observation_space.n)\n",
    "    for i in range(num_iterations):\n",
    "        updated_value_table = np.copy(value_table)\n",
    "        for state in range(env.observation_space.n):\n",
    "            Q_value = []\n",
    "            for action in range(env.action_space.n):\n",
    "                next_states_rewards = []\n",
    "                for next_sr in env.P[state][action]:\n",
    "                    trans_prob, next_state, reward, _ = next_sr\n",
    "                    next_states_rewards.append((trans_prob * (reward + discount_factor * value_table[next_state])))\n",
    "                Q_value.append(np.sum(next_states_rewards))\n",
    "            updated_value_table[state] = max(Q_value)\n",
    "        if np.sum(np.fabs(updated_value_table - value_table)) <= threshold:\n",
    "            print('Value-iteration converged at iteration# %d.' % (i+1))\n",
    "            break\n",
    "        value_table = updated_value_table\n",
    "    return value_table\n"
   ]
  },
  {
   "cell_type": "markdown",
   "metadata": {},
   "source": [
    "## Extracting the optimal policy from the optimal value function\n",
    "\n",
    "In the previous step, we computed the optimal value function. Now, we will extract the optimal policy from the computed optimal value function.\n",
    "\n",
    "we define a function called extract_policy, which takes value_table as a \n",
    "parameter:"
   ]
  },
  {
   "cell_type": "code",
   "execution_count": 9,
   "metadata": {},
   "outputs": [],
   "source": [
    "def extract_policy(value_table):\n",
    "    policy = np.zeros(env.observation_space.n)\n",
    "    for state in range(env.observation_space.n):\n",
    "        Q_table = np.zeros(env.action_space.n)\n",
    "        for action in range(env.action_space.n):\n",
    "            for next_sr in env.P[state][action]:\n",
    "                trans_prob, next_state, reward, _ = next_sr\n",
    "                Q_table[action] += (trans_prob * (reward + discount_factor * value_table[next_state]))\n",
    "        policy[state] = np.argmax(Q_table)\n",
    "    return policy\n"
   ]
  },
  {
   "cell_type": "markdown",
   "metadata": {},
   "source": [
    "## Putting it all together\n",
    "\n",
    "We learned that in the Frozen Lake environment, our goal is to find the optimal \n",
    "policy that selects the correct action in each state so that we can reach state G from \n",
    "state A without visiting the hole states.\n",
    "First, we compute the optimal value function using our value_iteration function by \n",
    "passing our Frozen Lake environment as the parameter:"
   ]
  },
  {
   "cell_type": "code",
   "execution_count": 10,
   "metadata": {},
   "outputs": [],
   "source": [
    "optimal_value_function = value_iteration(env)"
   ]
  },
  {
   "cell_type": "markdown",
   "metadata": {},
   "source": [
    "Next, we extract the optimal policy from the optimal value function using our \n",
    "extract_policy function:"
   ]
  },
  {
   "cell_type": "code",
   "execution_count": 11,
   "metadata": {},
   "outputs": [
    {
     "name": "stdout",
     "output_type": "stream",
     "text": [
      "[0. 3. 3. 3. 0. 0. 0. 0. 3. 1. 0. 0. 0. 2. 1. 0.]\n"
     ]
    }
   ],
   "source": [
    "optimal_policy = extract_policy(optimal_value_function)\n",
    "print(optimal_policy)"
   ]
  },
  {
   "cell_type": "code",
   "execution_count": null,
   "metadata": {},
   "outputs": [],
   "source": []
  }
 ],
 "metadata": {
  "kernelspec": {
   "display_name": "Python 3",
   "language": "python",
   "name": "python3"
  },
  "language_info": {
   "codemirror_mode": {
    "name": "ipython",
    "version": 3
   },
   "file_extension": ".py",
   "mimetype": "text/x-python",
   "name": "python",
   "nbconvert_exporter": "python",
   "pygments_lexer": "ipython3",
   "version": "3.11.5"
  }
 },
 "nbformat": 4,
 "nbformat_minor": 2
}
